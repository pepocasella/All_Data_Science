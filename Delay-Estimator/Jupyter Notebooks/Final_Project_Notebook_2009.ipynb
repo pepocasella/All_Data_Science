{
 "cells": [
  {
   "cell_type": "markdown",
   "metadata": {
    "ExecuteTime": {
     "end_time": "2021-06-12T17:58:39.427091Z",
     "start_time": "2021-06-12T17:58:39.310893Z"
    }
   },
   "source": [
    "![https://miro.medium.com/max/1180/1*4r8q_WiW97CRmxPaCaAQ4Q.jpeg](https://miro.medium.com/max/1180/1*4r8q_WiW97CRmxPaCaAQ4Q.jpeg)"
   ]
  },
  {
   "cell_type": "markdown",
   "metadata": {},
   "source": [
    "#  Delay Estimator"
   ]
  },
  {
   "cell_type": "markdown",
   "metadata": {},
   "source": [
    "Spark application that creates a machine learning model for a real-world problem, using real-world data: Predicting the arrival delay of commercial flights\n",
    "\n",
    "- Our mission is to predict the total Delay on Arrival\n",
    "- Our variable target is [ARR_Delay]\n"
   ]
  },
  {
   "cell_type": "markdown",
   "metadata": {},
   "source": [
    "## Spark Setup"
   ]
  },
  {
   "cell_type": "markdown",
   "metadata": {
    "ExecuteTime": {
     "end_time": "2021-05-29T22:12:51.904772Z",
     "start_time": "2021-05-29T22:12:51.788138Z"
    }
   },
   "source": [
    "![https://miro.medium.com/max/1400/1*wiXLNwwMyWdyyBuzZnGrWA.png](https://miro.medium.com/max/1400/1*wiXLNwwMyWdyyBuzZnGrWA.png)"
   ]
  },
  {
   "cell_type": "code",
   "execution_count": 28,
   "metadata": {
    "ExecuteTime": {
     "end_time": "2021-06-26T15:42:06.198121Z",
     "start_time": "2021-06-26T15:42:06.188895Z"
    }
   },
   "outputs": [],
   "source": [
    "# Setar o ambiente para uso de Python no Spark\n",
    "import support_functions as sf\n",
    "sf.set_spark_python()\n",
    "\n",
    "# Criar a sessao do Spark\n",
    "from pyspark import SparkConf, SparkContext\n",
    "from pyspark.conf import SparkConf\n",
    "from pyspark.sql import SparkSession\n",
    "spark = SparkSession \\\n",
    "            .builder \\\n",
    "            .master(\"local[2]\") \\\n",
    "            .appName(\"Pedro Spark Machine\") \\\n",
    "            .getOrCreate()"
   ]
  },
  {
   "cell_type": "code",
   "execution_count": 29,
   "metadata": {
    "ExecuteTime": {
     "end_time": "2021-06-26T15:42:06.206824Z",
     "start_time": "2021-06-26T15:42:06.202150Z"
    }
   },
   "outputs": [
    {
     "data": {
      "text/html": [
       "\n",
       "            <div>\n",
       "                <p><b>SparkSession - in-memory</b></p>\n",
       "                \n",
       "        <div>\n",
       "            <p><b>SparkContext</b></p>\n",
       "\n",
       "            <p><a href=\"http://ip-172-31-39-225.ec2.internal:4051\">Spark UI</a></p>\n",
       "\n",
       "            <dl>\n",
       "              <dt>Version</dt>\n",
       "                <dd><code>v3.0.1</code></dd>\n",
       "              <dt>Master</dt>\n",
       "                <dd><code>local[2]</code></dd>\n",
       "              <dt>AppName</dt>\n",
       "                <dd><code>Pedro Spark Machine</code></dd>\n",
       "            </dl>\n",
       "        </div>\n",
       "        \n",
       "            </div>\n",
       "        "
      ],
      "text/plain": [
       "<pyspark.sql.session.SparkSession at 0x7fd2117d2e80>"
      ]
     },
     "execution_count": 29,
     "metadata": {},
     "output_type": "execute_result"
    }
   ],
   "source": [
    "spark"
   ]
  },
  {
   "cell_type": "code",
   "execution_count": 30,
   "metadata": {
    "ExecuteTime": {
     "end_time": "2021-06-26T15:42:06.211349Z",
     "start_time": "2021-06-26T15:42:06.208640Z"
    }
   },
   "outputs": [],
   "source": [
    "sc = spark.sparkContext"
   ]
  },
  {
   "cell_type": "code",
   "execution_count": 31,
   "metadata": {
    "ExecuteTime": {
     "end_time": "2021-06-26T15:42:06.237749Z",
     "start_time": "2021-06-26T15:42:06.213876Z"
    }
   },
   "outputs": [
    {
     "data": {
      "text/plain": [
       "[('spark.driver.memory', '4g'),\n",
       " ('spark.executor.memory', '4g'),\n",
       " ('spark.executor.id', 'driver'),\n",
       " ('spark.cores.max', '3'),\n",
       " ('spark.app.id', 'local-1624720366529'),\n",
       " ('spark.driver.port', '33471'),\n",
       " ('spark.rdd.compress', 'True'),\n",
       " ('spark.app.name', 'Pedro Spark Machine'),\n",
       " ('spark.serializer.objectStreamReset', '100'),\n",
       " ('spark.submit.pyFiles', ''),\n",
       " ('spark.executor.cores', '3'),\n",
       " ('spark.submit.deployMode', 'client'),\n",
       " ('spark.driver.host', 'ip-172-31-39-225.ec2.internal'),\n",
       " ('spark.ui.showConsoleProgress', 'true'),\n",
       " ('spark.master', 'local[2]')]"
      ]
     },
     "execution_count": 31,
     "metadata": {},
     "output_type": "execute_result"
    }
   ],
   "source": [
    "sc.getConf().getAll()"
   ]
  },
  {
   "cell_type": "markdown",
   "metadata": {},
   "source": [
    "## Incrise machine parameters"
   ]
  },
  {
   "cell_type": "code",
   "execution_count": 32,
   "metadata": {
    "ExecuteTime": {
     "end_time": "2021-06-26T15:42:06.326680Z",
     "start_time": "2021-06-26T15:42:06.241837Z"
    }
   },
   "outputs": [],
   "source": [
    "conf = spark.sparkContext._conf.setAll([('spark.executor.memory', '4g'), \\\n",
    "                                        ('spark.executor.cores', '3'), \\\n",
    "                                        ('spark.cores.max', '3'),\\\n",
    "                                        ('spark.driver.memory','4g')])\n",
    "sc.stop()"
   ]
  },
  {
   "cell_type": "code",
   "execution_count": 33,
   "metadata": {
    "ExecuteTime": {
     "end_time": "2021-06-26T15:42:06.355855Z",
     "start_time": "2021-06-26T15:42:06.329104Z"
    }
   },
   "outputs": [
    {
     "data": {
      "text/plain": [
       "[('spark.driver.memory', '4g'),\n",
       " ('spark.executor.memory', '4g'),\n",
       " ('spark.executor.id', 'driver'),\n",
       " ('spark.cores.max', '3'),\n",
       " ('spark.app.id', 'local-1624720366529'),\n",
       " ('spark.driver.port', '33471'),\n",
       " ('spark.rdd.compress', 'True'),\n",
       " ('spark.app.name', 'Pedro Spark Machine'),\n",
       " ('spark.serializer.objectStreamReset', '100'),\n",
       " ('spark.submit.pyFiles', ''),\n",
       " ('spark.executor.cores', '3'),\n",
       " ('spark.submit.deployMode', 'client'),\n",
       " ('spark.driver.host', 'ip-172-31-39-225.ec2.internal'),\n",
       " ('spark.ui.showConsoleProgress', 'true'),\n",
       " ('spark.master', 'local[2]')]"
      ]
     },
     "execution_count": 33,
     "metadata": {},
     "output_type": "execute_result"
    }
   ],
   "source": [
    "sc.getConf().getAll()"
   ]
  },
  {
   "cell_type": "code",
   "execution_count": 34,
   "metadata": {
    "ExecuteTime": {
     "end_time": "2021-06-26T15:42:06.526701Z",
     "start_time": "2021-06-26T15:42:06.358597Z"
    }
   },
   "outputs": [],
   "source": [
    "spark = SparkSession.builder.config(conf=conf).getOrCreate()"
   ]
  },
  {
   "cell_type": "code",
   "execution_count": 35,
   "metadata": {
    "ExecuteTime": {
     "end_time": "2021-06-26T15:42:06.533314Z",
     "start_time": "2021-06-26T15:42:06.529326Z"
    }
   },
   "outputs": [],
   "source": [
    "from pyspark.sql import functions as sf\n",
    "from pyspark.sql.types import *\n",
    "from pyspark.sql import Row"
   ]
  },
  {
   "cell_type": "markdown",
   "metadata": {},
   "source": [
    "# Data Dictionary"
   ]
  },
  {
   "cell_type": "code",
   "execution_count": 36,
   "metadata": {
    "ExecuteTime": {
     "end_time": "2021-06-26T15:42:06.698315Z",
     "start_time": "2021-06-26T15:42:06.535396Z"
    }
   },
   "outputs": [],
   "source": [
    "df_dict = spark.read.csv('./Data/projeto_final_dicionário.csv')"
   ]
  },
  {
   "cell_type": "code",
   "execution_count": 37,
   "metadata": {
    "ExecuteTime": {
     "end_time": "2021-06-26T15:42:06.788011Z",
     "start_time": "2021-06-26T15:42:06.700365Z"
    }
   },
   "outputs": [
    {
     "name": "stdout",
     "output_type": "stream",
     "text": [
      "+-------------------+--------------------+---------------+--------+\n",
      "|                _c0|                 _c1|            _c2|     _c3|\n",
      "+-------------------+--------------------+---------------+--------+\n",
      "|               Name|         Description|   Type(Format)| Example|\n",
      "|            FL_DATE|  Date of the flight|DATE (yy/mm/dd)|5/2/2009|\n",
      "|         OP_CARRIER|  Airline Identifier|         STRING|      9E|\n",
      "|  OP_CARRIER_FL_NUM|       Flight Number|        INTEGER|    2216|\n",
      "|             ORIGIN|Starting Airport ...|         STRING|     MLI|\n",
      "|               DEST|Destination Airpo...|         STRING|     MEM|\n",
      "|       CRS_DEP_TIME|Planned Departure...|        INTEGER|     600|\n",
      "|           DEP_TIME|Actual Departure ...|          FLOAT|   603.0|\n",
      "|          DEP_DELAY|Total Delay on De...|          FLOAT|     3.0|\n",
      "|           TAXI_OUT|The time duration...|          FLOAT|    14.0|\n",
      "|         WHEELS_OFF|The time point th...|          FLOAT|   617.0|\n",
      "|          WHEELS_ON|The time point th...|          FLOAT|   757.0|\n",
      "|            TAXI_IN|The time duration...|          FLOAT|     8.0|\n",
      "|       CRS_ARR_TIME|Planned arrival time|        INTEGER|     732|\n",
      "|           ARR_TIME| Actual Arrival Time|          FLOAT|   805.0|\n",
      "|          ARR_DELAY|Total Delay on Ar...|          FLOAT|    33.0|\n",
      "|          CANCELLED|Flight Cancelled ...|          FLOAT|     0.0|\n",
      "|  CANCELLATION_CODE|Reason for Cancel...|         STRING|       D|\n",
      "|           DIVERTED|Aircraft landed o...|          FLOAT|     0.0|\n",
      "|   CRS_ELAPSED_TIME|Planned time amou...|          FLOAT|    92.0|\n",
      "|ACTUAL_ELAPSED_TIME|AIR_TIME+TAXI_IN+...|          FLOAT|   122.0|\n",
      "|           AIR_TIME|The time duration...|          FLOAT|   100.0|\n",
      "|           DISTANCE|Distance between ...|          FLOAT|   442.0|\n",
      "|      CARRIER_DELAY|Delay caused by t...|          FLOAT|     0.0|\n",
      "|      WEATHER_DELAY|Delay caused by w...|          FLOAT|     0.0|\n",
      "|          NAS_DELAY|Delay caused by a...|          FLOAT|    33.0|\n",
      "|     SECURITY_DELAY|Delay caused by s...|          FLOAT|     0.0|\n",
      "|LATE_AIRCRAFT_DELAY|Delay caused by a...|         STRING|     0.0|\n",
      "+-------------------+--------------------+---------------+--------+\n",
      "\n"
     ]
    }
   ],
   "source": [
    "df_dict.show(31)"
   ]
  },
  {
   "cell_type": "markdown",
   "metadata": {},
   "source": [
    "# Reading Files\n",
    "\n"
   ]
  },
  {
   "cell_type": "code",
   "execution_count": 38,
   "metadata": {
    "ExecuteTime": {
     "end_time": "2021-06-26T15:42:06.943770Z",
     "start_time": "2021-06-26T15:42:06.790443Z"
    }
   },
   "outputs": [],
   "source": [
    "df = spark.read.csv('../../10_dados/projeto/2009.csv', header=True)"
   ]
  },
  {
   "cell_type": "code",
   "execution_count": 39,
   "metadata": {
    "ExecuteTime": {
     "end_time": "2021-06-26T15:42:06.958505Z",
     "start_time": "2021-06-26T15:42:06.951486Z"
    }
   },
   "outputs": [],
   "source": [
    "# Define a Schema\n",
    "\n",
    "labels = ( \n",
    "    ('FL_DATE', StringType()),\n",
    "    ('OP_CARRIER', StringType()),\n",
    "    ('OP_CARRIER_FL_NUM',IntegerType()),\n",
    "    ('ORIGIN',StringType()),\n",
    "    ('DEST',StringType()),\n",
    "    ('CRS_DEP_TIME',IntegerType()),\n",
    "    ('DEP_TIME',FloatType()),\n",
    "    ('DEP_DELAY',FloatType()),\n",
    "    ('TAXI_OUT',FloatType()),\n",
    "    ('WHEELS_OFF',FloatType()),\n",
    "    ('WHEELS_ON',FloatType()),\n",
    "    ('TAXI_IN',FloatType()),\n",
    "    ('CRS_ARR_TIME',IntegerType()),\n",
    "    ('ARR_TIME',FloatType()),\n",
    "    ('ARR_DELAY',FloatType()),\n",
    "    ('CANCELLED',FloatType()),\n",
    "    ('CANCELLATION_CODE',StringType()),\n",
    "    ('DIVERTED',FloatType()),\n",
    "    ('CRS_ELAPSED_TIME',FloatType()),\n",
    "    ('ACTUAL_ELAPSED_TIME',FloatType()),\n",
    "    ('AIR_TIME',FloatType()),\n",
    "    ('DISTANCE',FloatType()),\n",
    "    ('CARRIER_DELAY',FloatType()),\n",
    "    ('WEATHER_DELAY',FloatType()),\n",
    "    ('NAS_DELAY',FloatType()),\n",
    "    ('SECURITY_DELAY',FloatType()),\n",
    "    ('LATE_AIRCRAFT_DELAY',StringType()),\n",
    ")"
   ]
  },
  {
   "cell_type": "code",
   "execution_count": 40,
   "metadata": {
    "ExecuteTime": {
     "end_time": "2021-06-26T15:42:06.965324Z",
     "start_time": "2021-06-26T15:42:06.960993Z"
    }
   },
   "outputs": [],
   "source": [
    "my_schema = StructType([StructField(x[0], x[1], True) for x in labels])"
   ]
  },
  {
   "cell_type": "code",
   "execution_count": 41,
   "metadata": {
    "ExecuteTime": {
     "end_time": "2021-06-26T15:42:06.991984Z",
     "start_time": "2021-06-26T15:42:06.967141Z"
    }
   },
   "outputs": [],
   "source": [
    "df = spark.read.csv('../../10_dados/projeto/2009.csv', \n",
    "                    header=True, \n",
    "                    schema = my_schema)"
   ]
  },
  {
   "cell_type": "code",
   "execution_count": 42,
   "metadata": {
    "ExecuteTime": {
     "end_time": "2021-06-26T15:42:07.000487Z",
     "start_time": "2021-06-26T15:42:06.993860Z"
    },
    "scrolled": true
   },
   "outputs": [
    {
     "name": "stdout",
     "output_type": "stream",
     "text": [
      "root\n",
      " |-- FL_DATE: string (nullable = true)\n",
      " |-- OP_CARRIER: string (nullable = true)\n",
      " |-- OP_CARRIER_FL_NUM: integer (nullable = true)\n",
      " |-- ORIGIN: string (nullable = true)\n",
      " |-- DEST: string (nullable = true)\n",
      " |-- CRS_DEP_TIME: integer (nullable = true)\n",
      " |-- DEP_TIME: float (nullable = true)\n",
      " |-- DEP_DELAY: float (nullable = true)\n",
      " |-- TAXI_OUT: float (nullable = true)\n",
      " |-- WHEELS_OFF: float (nullable = true)\n",
      " |-- WHEELS_ON: float (nullable = true)\n",
      " |-- TAXI_IN: float (nullable = true)\n",
      " |-- CRS_ARR_TIME: integer (nullable = true)\n",
      " |-- ARR_TIME: float (nullable = true)\n",
      " |-- ARR_DELAY: float (nullable = true)\n",
      " |-- CANCELLED: float (nullable = true)\n",
      " |-- CANCELLATION_CODE: string (nullable = true)\n",
      " |-- DIVERTED: float (nullable = true)\n",
      " |-- CRS_ELAPSED_TIME: float (nullable = true)\n",
      " |-- ACTUAL_ELAPSED_TIME: float (nullable = true)\n",
      " |-- AIR_TIME: float (nullable = true)\n",
      " |-- DISTANCE: float (nullable = true)\n",
      " |-- CARRIER_DELAY: float (nullable = true)\n",
      " |-- WEATHER_DELAY: float (nullable = true)\n",
      " |-- NAS_DELAY: float (nullable = true)\n",
      " |-- SECURITY_DELAY: float (nullable = true)\n",
      " |-- LATE_AIRCRAFT_DELAY: string (nullable = true)\n",
      "\n"
     ]
    }
   ],
   "source": [
    "df.printSchema()"
   ]
  },
  {
   "cell_type": "code",
   "execution_count": 43,
   "metadata": {
    "ExecuteTime": {
     "end_time": "2021-06-26T15:42:07.136345Z",
     "start_time": "2021-06-26T15:42:07.002135Z"
    }
   },
   "outputs": [
    {
     "name": "stdout",
     "output_type": "stream",
     "text": [
      "+----------+----------+-----------------+------+----+------------+--------+---------+--------+----------+---------+-------+------------+--------+---------+---------+-----------------+--------+----------------+-------------------+--------+--------+-------------+-------------+---------+--------------+-------------------+\n",
      "|   FL_DATE|OP_CARRIER|OP_CARRIER_FL_NUM|ORIGIN|DEST|CRS_DEP_TIME|DEP_TIME|DEP_DELAY|TAXI_OUT|WHEELS_OFF|WHEELS_ON|TAXI_IN|CRS_ARR_TIME|ARR_TIME|ARR_DELAY|CANCELLED|CANCELLATION_CODE|DIVERTED|CRS_ELAPSED_TIME|ACTUAL_ELAPSED_TIME|AIR_TIME|DISTANCE|CARRIER_DELAY|WEATHER_DELAY|NAS_DELAY|SECURITY_DELAY|LATE_AIRCRAFT_DELAY|\n",
      "+----------+----------+-----------------+------+----+------------+--------+---------+--------+----------+---------+-------+------------+--------+---------+---------+-----------------+--------+----------------+-------------------+--------+--------+-------------+-------------+---------+--------------+-------------------+\n",
      "|2009-01-01|        XE|             1204|   DCA| EWR|        1100|  1058.0|     -2.0|    18.0|    1116.0|   1158.0|    8.0|        1202|  1206.0|      4.0|      0.0|             null|     0.0|            62.0|               68.0|    42.0|   199.0|         null|         null|     null|          null|               null|\n",
      "|2009-01-01|        XE|             1206|   EWR| IAD|        1510|  1509.0|     -1.0|    28.0|    1537.0|   1620.0|    4.0|        1632|  1624.0|     -8.0|      0.0|             null|     0.0|            82.0|               75.0|    43.0|   213.0|         null|         null|     null|          null|               null|\n",
      "|2009-01-01|        XE|             1207|   EWR| DCA|        1100|  1059.0|     -1.0|    20.0|    1119.0|   1155.0|    6.0|        1210|  1201.0|     -9.0|      0.0|             null|     0.0|            70.0|               62.0|    36.0|   199.0|         null|         null|     null|          null|               null|\n",
      "|2009-01-01|        XE|             1208|   DCA| EWR|        1240|  1249.0|      9.0|    10.0|    1259.0|   1336.0|    9.0|        1357|  1345.0|    -12.0|      0.0|             null|     0.0|            77.0|               56.0|    37.0|   199.0|         null|         null|     null|          null|               null|\n",
      "|2009-01-01|        XE|             1209|   IAD| EWR|        1715|  1705.0|    -10.0|    24.0|    1729.0|   1809.0|   13.0|        1900|  1822.0|    -38.0|      0.0|             null|     0.0|           105.0|               77.0|    40.0|   213.0|         null|         null|     null|          null|               null|\n",
      "+----------+----------+-----------------+------+----+------------+--------+---------+--------+----------+---------+-------+------------+--------+---------+---------+-----------------+--------+----------------+-------------------+--------+--------+-------------+-------------+---------+--------------+-------------------+\n",
      "only showing top 5 rows\n",
      "\n"
     ]
    }
   ],
   "source": [
    "df.show(5)"
   ]
  },
  {
   "cell_type": "code",
   "execution_count": 44,
   "metadata": {
    "ExecuteTime": {
     "end_time": "2021-06-26T15:42:09.063779Z",
     "start_time": "2021-06-26T15:42:07.138106Z"
    }
   },
   "outputs": [
    {
     "name": "stdout",
     "output_type": "stream",
     "text": [
      "Data Size is: 6429338 rows\n",
      "CPU times: user 4.31 ms, sys: 1.06 ms, total: 5.37 ms\n",
      "Wall time: 1.92 s\n"
     ]
    }
   ],
   "source": [
    "%%time\n",
    "datasize = df.count()\n",
    "print(f'Data Size is: {datasize} rows')"
   ]
  },
  {
   "cell_type": "markdown",
   "metadata": {},
   "source": [
    "# Visualization"
   ]
  },
  {
   "cell_type": "code",
   "execution_count": 45,
   "metadata": {
    "ExecuteTime": {
     "end_time": "2021-06-26T15:42:09.069151Z",
     "start_time": "2021-06-26T15:42:09.065503Z"
    }
   },
   "outputs": [],
   "source": [
    "import pandas as pd\n",
    "import matplotlib.pyplot as plt\n",
    "import seaborn as sns\n",
    "from matplotlib.pyplot import figure\n",
    "plt.style.use('ggplot')"
   ]
  },
  {
   "cell_type": "markdown",
   "metadata": {},
   "source": [
    "Creating a temporary view for visualization purpose"
   ]
  },
  {
   "cell_type": "code",
   "execution_count": 46,
   "metadata": {
    "ExecuteTime": {
     "end_time": "2021-06-26T15:42:09.086290Z",
     "start_time": "2021-06-26T15:42:09.070902Z"
    }
   },
   "outputs": [],
   "source": [
    "df.createOrReplaceTempView('flights')"
   ]
  },
  {
   "cell_type": "markdown",
   "metadata": {},
   "source": [
    "### Wich carrier has the most Delays\n"
   ]
  },
  {
   "cell_type": "code",
   "execution_count": 47,
   "metadata": {
    "ExecuteTime": {
     "end_time": "2021-06-26T15:42:18.074750Z",
     "start_time": "2021-06-26T15:42:09.087981Z"
    }
   },
   "outputs": [
    {
     "name": "stdout",
     "output_type": "stream",
     "text": [
      "+---------------+---------+---------+---------+---------+\n",
      "|AIRLINE_COMPANY|MIN_DELAY|MAX_DELAY|AVG_DELAY|SUM_DELAY|\n",
      "+---------------+---------+---------+---------+---------+\n",
      "|             EV|    -59.0|    708.0|    11.72|3417311.0|\n",
      "|             OH|    -77.0|    680.0|    10.69|1554748.0|\n",
      "|             FL|    -58.0|   1088.0|      8.2|2028392.0|\n",
      "|             YV|    -66.0|    940.0|     6.04|1437329.0|\n",
      "|             MQ|    -57.0|   1175.0|     5.97|2529714.0|\n",
      "|             XE|    -71.0|    714.0|     5.75|1744487.0|\n",
      "|             F9|    -48.0|    745.0|     5.69| 491380.0|\n",
      "|             AA|    -96.0|   1305.0|     5.67|3056631.0|\n",
      "|             CO|    -85.0|    947.0|     5.51|1402539.0|\n",
      "|             B6|    -92.0|    823.0|     5.08| 970361.0|\n",
      "|             DL|    -95.0|    879.0|     4.84|2034515.0|\n",
      "|             NW|    -88.0|   2449.0|     3.92|1138401.0|\n",
      "|             OO|    -95.0|    901.0|      3.3|1775369.0|\n",
      "|             US|    -80.0|    668.0|     2.09| 848998.0|\n",
      "|             WN|   -100.0|    620.0|     1.66|1861260.0|\n",
      "|             AS|    -83.0|    793.0|     1.32| 178501.0|\n",
      "|             UA|    -86.0|   1403.0|     1.03| 381914.0|\n",
      "|             9E|   -107.0|   1045.0|     0.95| 244067.0|\n",
      "|             HA|    -53.0|   1026.0|     0.26|  18917.0|\n",
      "+---------------+---------+---------+---------+---------+\n",
      "\n",
      "CPU times: user 2.96 ms, sys: 726 µs, total: 3.68 ms\n",
      "Wall time: 8.98 s\n"
     ]
    }
   ],
   "source": [
    "%%time\n",
    "\n",
    "query = '''\n",
    "SELECT\n",
    "    OP_CARRIER AS AIRLINE_COMPANY,\n",
    "    MIN(ARR_DELAY) AS MIN_DELAY,\n",
    "    MAX(ARR_DELAY) AS MAX_DELAY,\n",
    "    ROUND(AVG(ARR_DELAY), 2) AS AVG_DELAY,\n",
    "    SUM(ARR_DELAY) AS SUM_DELAY\n",
    "FROM flights \n",
    "GROUP BY OP_CARRIER\n",
    "ORDER BY AVG_DELAY DESC\n",
    "\n",
    "'''\n",
    "carrier_delays = spark.sql(query).show()"
   ]
  },
  {
   "cell_type": "code",
   "execution_count": 48,
   "metadata": {
    "ExecuteTime": {
     "end_time": "2021-06-26T15:42:27.036614Z",
     "start_time": "2021-06-26T15:42:18.076563Z"
    }
   },
   "outputs": [],
   "source": [
    "carrier_delays = spark.sql(query).toPandas()"
   ]
  },
  {
   "cell_type": "code",
   "execution_count": 49,
   "metadata": {
    "ExecuteTime": {
     "end_time": "2021-06-26T15:42:28.010508Z",
     "start_time": "2021-06-26T15:42:27.038660Z"
    }
   },
   "outputs": [
    {
     "data": {
      "image/png": "[encoded data removed]",
      "text/plain": [
       "<Figure size 1080x1080 with 4 Axes>"
      ]
     },
     "metadata": {},
     "output_type": "display_data"
    }
   ],
   "source": [
    "fig, ax = plt.subplots(2, 2, figsize=(15,15))\n",
    "ax[0, 0].bar(carrier_delays.AIRLINE_COMPANY, carrier_delays.MIN_DELAY, color='#1a73e8') #row=0, col=0\n",
    "ax[0, 0].title.set_text('Min Delay')\n",
    "ax[1, 0].bar(carrier_delays.AIRLINE_COMPANY, carrier_delays.MAX_DELAY, color='#223e7f') #row=1, col=0\n",
    "ax[1, 0].title.set_text('Max Delay')\n",
    "ax[0, 1].bar(carrier_delays.AIRLINE_COMPANY, carrier_delays.AVG_DELAY, color = '#B1D4E0')#row=0, col=1\n",
    "ax[0, 1].title.set_text('Avg Delay')\n",
    "ax[1, 1].bar(carrier_delays.AIRLINE_COMPANY, carrier_delays.SUM_DELAY) #row=1, col=1\n",
    "ax[1, 1].title.set_text('Total Delay')\n",
    "plt.suptitle(\"Wich carrier has the most Delays?\", size=18)\n",
    "plt.show()"
   ]
  },
  {
   "cell_type": "markdown",
   "metadata": {},
   "source": [
    "### How many flights were cancelled"
   ]
  },
  {
   "cell_type": "code",
   "execution_count": 50,
   "metadata": {
    "ExecuteTime": {
     "end_time": "2021-06-26T15:42:35.025111Z",
     "start_time": "2021-06-26T15:42:28.012043Z"
    }
   },
   "outputs": [
    {
     "name": "stdout",
     "output_type": "stream",
     "text": [
      "CPU times: user 6.7 ms, sys: 4.06 ms, total: 10.8 ms\n",
      "Wall time: 7.01 s\n"
     ]
    }
   ],
   "source": [
    "%%time\n",
    "query = '''\n",
    "SELECT\n",
    "    CANCELLED,\n",
    "    COUNT(OP_CARRIER_FL_NUM)\n",
    "FROM flights \n",
    "GROUP BY CANCELLED\n",
    "'''\n",
    "cancelled_flights = spark.sql(query).toPandas()"
   ]
  },
  {
   "cell_type": "code",
   "execution_count": 51,
   "metadata": {
    "ExecuteTime": {
     "end_time": "2021-06-26T15:42:35.192388Z",
     "start_time": "2021-06-26T15:42:35.026903Z"
    }
   },
   "outputs": [
    {
     "data": {
      "text/plain": [
       "Text(0.5, 1.0, 'How many flights were cancelled')"
      ]
     },
     "execution_count": 51,
     "metadata": {},
     "output_type": "execute_result"
    },
    {
     "data": {
      "image/png": "[encoded data removed]",
      "text/plain": [
       "<Figure size 640x480 with 1 Axes>"
      ]
     },
     "metadata": {},
     "output_type": "display_data"
    }
   ],
   "source": [
    "figure(figsize=(8, 6), dpi=80)\n",
    "plt.bar(cancelled_flights.CANCELLED, cancelled_flights['count(OP_CARRIER_FL_NUM)'])\n",
    "plt.title('How many flights were cancelled')"
   ]
  },
  {
   "cell_type": "markdown",
   "metadata": {},
   "source": [
    "### Which carrier has the most cancelled flights?"
   ]
  },
  {
   "cell_type": "code",
   "execution_count": 52,
   "metadata": {
    "ExecuteTime": {
     "end_time": "2021-06-26T15:42:42.567600Z",
     "start_time": "2021-06-26T15:42:35.194124Z"
    }
   },
   "outputs": [
    {
     "name": "stdout",
     "output_type": "stream",
     "text": [
      "CPU times: user 11.4 ms, sys: 437 µs, total: 11.8 ms\n",
      "Wall time: 7.37 s\n"
     ]
    }
   ],
   "source": [
    "%%time\n",
    "\n",
    "query = '''\n",
    "SELECT\n",
    "    OP_CARRIER AS AIRLINE_COMPANY,\n",
    "    COUNT(OP_CARRIER) AS CANCELLED_FLIGHTS \n",
    "FROM flights\n",
    "WHERE CANCELLED = 1\n",
    "GROUP BY OP_CARRIER \n",
    "ORDER BY CANCELLED_FLIGHTS DESC\n",
    "'''\n",
    "#spark.sql(query).show()\n",
    "carrier_cancelled = spark.sql(query).toPandas()"
   ]
  },
  {
   "cell_type": "code",
   "execution_count": 53,
   "metadata": {
    "ExecuteTime": {
     "end_time": "2021-06-26T15:42:42.818853Z",
     "start_time": "2021-06-26T15:42:42.570249Z"
    }
   },
   "outputs": [
    {
     "data": {
      "text/plain": [
       "Text(0.5, 1.0, 'Which carrier has the most cancelled flights?')"
      ]
     },
     "execution_count": 53,
     "metadata": {},
     "output_type": "execute_result"
    },
    {
     "data": {
      "image/png": "[encoded data removed]",
      "text/plain": [
       "<Figure size 640x480 with 1 Axes>"
      ]
     },
     "metadata": {},
     "output_type": "display_data"
    }
   ],
   "source": [
    "figure(figsize=(8, 6), dpi=80)\n",
    "plt.bar(carrier_cancelled.AIRLINE_COMPANY, carrier_cancelled.CANCELLED_FLIGHTS)\n",
    "plt.title('Which carrier has the most cancelled flights?')"
   ]
  },
  {
   "cell_type": "markdown",
   "metadata": {},
   "source": [
    "### Which origin and destination airports have the most delays?"
   ]
  },
  {
   "cell_type": "markdown",
   "metadata": {},
   "source": [
    "#### Origin"
   ]
  },
  {
   "cell_type": "code",
   "execution_count": 54,
   "metadata": {
    "ExecuteTime": {
     "end_time": "2021-06-26T15:42:53.006168Z",
     "start_time": "2021-06-26T15:42:42.820691Z"
    }
   },
   "outputs": [
    {
     "name": "stdout",
     "output_type": "stream",
     "text": [
      "CPU times: user 14.7 ms, sys: 0 ns, total: 14.7 ms\n",
      "Wall time: 10.2 s\n"
     ]
    }
   ],
   "source": [
    "%%time\n",
    "\n",
    "query = '''\n",
    "SELECT\n",
    "    ORIGIN,\n",
    "    MIN(ARR_DELAY) AS MIN_DELAY,\n",
    "    MAX(ARR_DELAY) AS MAX_DELAY,\n",
    "    ROUND(AVG(ARR_DELAY), 2) AS AVG_DELAY,\n",
    "    SUM(ARR_DELAY) AS SUM_DELAY\n",
    "FROM flights \n",
    "GROUP BY ORIGIN\n",
    "ORDER BY AVG_DELAY DESC\n",
    "'''\n",
    "#spark.sql(query).show()\n",
    "origin_delays = spark.sql(query).toPandas()\n",
    "origin_delays = origin_delays.head(10)"
   ]
  },
  {
   "cell_type": "code",
   "execution_count": 55,
   "metadata": {
    "ExecuteTime": {
     "end_time": "2021-06-26T15:42:53.820397Z",
     "start_time": "2021-06-26T15:42:53.008522Z"
    }
   },
   "outputs": [
    {
     "data": {
      "image/png": "[encoded data removed]",
      "text/plain": [
       "<Figure size 1080x1080 with 4 Axes>"
      ]
     },
     "metadata": {},
     "output_type": "display_data"
    }
   ],
   "source": [
    "fig, ax = plt.subplots(2, 2, figsize=(15,15))\n",
    "ax[0, 0].bar(origin_delays.ORIGIN, origin_delays.MIN_DELAY, color='#1a73e8') #row=0, col=0\n",
    "ax[0, 0].title.set_text('Min Delay')\n",
    "ax[1, 0].bar(origin_delays.ORIGIN, origin_delays.MAX_DELAY, color='#223e7f') #row=1, col=0\n",
    "ax[1, 0].title.set_text('Max Delay')\n",
    "ax[0, 1].bar(origin_delays.ORIGIN, origin_delays.AVG_DELAY, color = '#B1D4E0')#row=0, col=1\n",
    "ax[0, 1].title.set_text('Avg Delay')\n",
    "ax[1, 1].bar(origin_delays.ORIGIN, origin_delays.SUM_DELAY) #row=1, col=1\n",
    "ax[1, 1].title.set_text('Total Delay')\n",
    "plt.suptitle(\" Which origin airports have the most delays? TOP(10)\", size=18)\n",
    "plt.show()"
   ]
  },
  {
   "cell_type": "markdown",
   "metadata": {},
   "source": [
    "#### Destination"
   ]
  },
  {
   "cell_type": "code",
   "execution_count": 56,
   "metadata": {
    "ExecuteTime": {
     "end_time": "2021-06-26T15:43:04.151427Z",
     "start_time": "2021-06-26T15:42:53.822162Z"
    }
   },
   "outputs": [
    {
     "name": "stdout",
     "output_type": "stream",
     "text": [
      "CPU times: user 12.9 ms, sys: 619 µs, total: 13.5 ms\n",
      "Wall time: 10.3 s\n"
     ]
    }
   ],
   "source": [
    "%%time\n",
    "\n",
    "query = '''\n",
    "SELECT\n",
    "    DEST,\n",
    "    MIN(ARR_DELAY) AS MIN_DELAY,\n",
    "    MAX(ARR_DELAY) AS MAX_DELAY,\n",
    "    ROUND(AVG(ARR_DELAY), 2) AS AVG_DELAY,\n",
    "    SUM(ARR_DELAY) AS SUM_DELAY\n",
    "FROM flights \n",
    "GROUP BY DEST\n",
    "ORDER BY AVG_DELAY DESC\n",
    "'''\n",
    "dest_delays = spark.sql(query).toPandas()\n",
    "dest_delays = dest_delays.head(10)"
   ]
  },
  {
   "cell_type": "code",
   "execution_count": 57,
   "metadata": {
    "ExecuteTime": {
     "end_time": "2021-06-26T15:43:04.830751Z",
     "start_time": "2021-06-26T15:43:04.153036Z"
    }
   },
   "outputs": [
    {
     "data": {
      "image/png": "[encoded data removed]",
      "text/plain": [
       "<Figure size 1080x1080 with 4 Axes>"
      ]
     },
     "metadata": {},
     "output_type": "display_data"
    }
   ],
   "source": [
    "fig, ax = plt.subplots(2, 2, figsize=(15,15))\n",
    "ax[0, 0].bar(dest_delays.DEST, dest_delays.MIN_DELAY, color='#1a73e8') #row=0, col=0\n",
    "ax[0, 0].title.set_text('Min Delay')\n",
    "ax[1, 0].bar(dest_delays.DEST, dest_delays.MAX_DELAY, color='#223e7f') #row=1, col=0\n",
    "ax[1, 0].title.set_text('Max Delay')\n",
    "ax[0, 1].bar(dest_delays.DEST, dest_delays.AVG_DELAY, color = '#B1D4E0')#row=0, col=1\n",
    "ax[0, 1].title.set_text('Avg Delay')\n",
    "ax[1, 1].bar(dest_delays.DEST, dest_delays.SUM_DELAY) #row=1, col=1\n",
    "ax[1, 1].title.set_text('Total Delay')\n",
    "plt.suptitle(\" Which destination airports have the most delays? TOP(10)\", size=18)\n",
    "plt.show()"
   ]
  },
  {
   "cell_type": "markdown",
   "metadata": {},
   "source": [
    "### What causes the most delay"
   ]
  },
  {
   "cell_type": "code",
   "execution_count": 58,
   "metadata": {
    "ExecuteTime": {
     "end_time": "2021-06-26T15:43:19.300241Z",
     "start_time": "2021-06-26T15:43:04.832369Z"
    }
   },
   "outputs": [
    {
     "name": "stdout",
     "output_type": "stream",
     "text": [
      "CPU times: user 20.5 ms, sys: 0 ns, total: 20.5 ms\n",
      "Wall time: 14.5 s\n"
     ]
    }
   ],
   "source": [
    "%%time\n",
    "query_1='''\n",
    "SELECT\n",
    "    ROUND(AVG(SECURITY_DELAY), 2) AS SECURITY,\n",
    "    ROUND(AVG(NAS_DELAY), 2) AS AIR_SYSTEM,\n",
    "    ROUND(AVG(WEATHER_DELAY), 2) AS WEATHER,\n",
    "    ROUND(AVG(CARRIER_DELAY), 2) AS CARRIER,\n",
    "    ROUND(AVG(DEP_DELAY), 2) AS DEPARTURE\n",
    "FROM flights\n",
    "'''\n",
    "query_2='''\n",
    "SELECT\n",
    "    ROUND(MAX(SECURITY_DELAY), 2) AS SECURITY,\n",
    "    ROUND(MAX(NAS_DELAY), 2) AS AIR_SYSTEM,\n",
    "    ROUND(MAX(WEATHER_DELAY), 2) AS WEATHER,\n",
    "    ROUND(MAX(CARRIER_DELAY), 2) AS CARRIER,\n",
    "    ROUND(MAX(DEP_DELAY), 2) AS DEPARTURE\n",
    "FROM flights\n",
    "'''\n",
    "avg_delay = spark.sql(query_1).toPandas()\n",
    "max_delay = spark.sql(query_2).toPandas()"
   ]
  },
  {
   "cell_type": "code",
   "execution_count": 59,
   "metadata": {
    "ExecuteTime": {
     "end_time": "2021-06-26T15:43:19.577742Z",
     "start_time": "2021-06-26T15:43:19.301855Z"
    }
   },
   "outputs": [
    {
     "data": {
      "image/png": "[encoded data removed]",
      "text/plain": [
       "<Figure size 1080x576 with 2 Axes>"
      ]
     },
     "metadata": {},
     "output_type": "display_data"
    }
   ],
   "source": [
    "fig, (ax1, ax2) = plt.subplots(nrows=1, ncols=2, figsize=(15,8))\n",
    "ax1.bar(avg_delay.columns, avg_delay.values[0], color='#1a73e8') #row=0, col=0\n",
    "ax1.title.set_text('Avg Delay')\n",
    "ax2.bar(max_delay.columns, max_delay.values[0], color='#223e7f') #row=1, col=0\n",
    "ax2.title.set_text('Max Delay')\n",
    "plt.suptitle(\"What causes the most delay\", size=18)\n",
    "plt.show()"
   ]
  },
  {
   "cell_type": "markdown",
   "metadata": {},
   "source": [
    "# Missing values"
   ]
  },
  {
   "cell_type": "code",
   "execution_count": 60,
   "metadata": {
    "ExecuteTime": {
     "end_time": "2021-06-26T15:43:19.632633Z",
     "start_time": "2021-06-26T15:43:19.580126Z"
    }
   },
   "outputs": [
    {
     "name": "stdout",
     "output_type": "stream",
     "text": [
      "COUNT(*)-COUNT(Name) AS Name,\n",
      "COUNT(*)-COUNT(FL_DATE) AS FL_DATE,\n",
      "COUNT(*)-COUNT(OP_CARRIER) AS OP_CARRIER,\n",
      "COUNT(*)-COUNT(OP_CARRIER_FL_NUM) AS OP_CARRIER_FL_NUM,\n",
      "COUNT(*)-COUNT(ORIGIN) AS ORIGIN,\n",
      "COUNT(*)-COUNT(DEST) AS DEST,\n",
      "COUNT(*)-COUNT(CRS_DEP_TIME) AS CRS_DEP_TIME,\n",
      "COUNT(*)-COUNT(DEP_TIME) AS DEP_TIME,\n",
      "COUNT(*)-COUNT(DEP_DELAY) AS DEP_DELAY,\n",
      "COUNT(*)-COUNT(TAXI_OUT) AS TAXI_OUT,\n",
      "COUNT(*)-COUNT(WHEELS_OFF) AS WHEELS_OFF,\n",
      "COUNT(*)-COUNT(WHEELS_ON) AS WHEELS_ON,\n",
      "COUNT(*)-COUNT(TAXI_IN) AS TAXI_IN,\n",
      "COUNT(*)-COUNT(CRS_ARR_TIME) AS CRS_ARR_TIME,\n",
      "COUNT(*)-COUNT(ARR_TIME) AS ARR_TIME,\n",
      "COUNT(*)-COUNT(ARR_DELAY) AS ARR_DELAY,\n",
      "COUNT(*)-COUNT(CANCELLED) AS CANCELLED,\n",
      "COUNT(*)-COUNT(CANCELLATION_CODE) AS CANCELLATION_CODE,\n",
      "COUNT(*)-COUNT(DIVERTED) AS DIVERTED,\n",
      "COUNT(*)-COUNT(CRS_ELAPSED_TIME) AS CRS_ELAPSED_TIME,\n",
      "COUNT(*)-COUNT(ACTUAL_ELAPSED_TIME) AS ACTUAL_ELAPSED_TIME,\n",
      "COUNT(*)-COUNT(AIR_TIME) AS AIR_TIME,\n",
      "COUNT(*)-COUNT(DISTANCE) AS DISTANCE,\n",
      "COUNT(*)-COUNT(CARRIER_DELAY) AS CARRIER_DELAY,\n",
      "COUNT(*)-COUNT(WEATHER_DELAY) AS WEATHER_DELAY,\n",
      "COUNT(*)-COUNT(NAS_DELAY) AS NAS_DELAY,\n",
      "COUNT(*)-COUNT(SECURITY_DELAY) AS SECURITY_DELAY,\n",
      "COUNT(*)-COUNT(LATE_AIRCRAFT_DELAY) AS LATE_AIRCRAFT_DELAY,\n"
     ]
    }
   ],
   "source": [
    "df_dictionary = df_dict.toPandas()\n",
    "for element in df_dictionary['_c0']:\n",
    "    print(f'COUNT(*)-COUNT({element}) AS {element},')"
   ]
  },
  {
   "cell_type": "code",
   "execution_count": 61,
   "metadata": {
    "ExecuteTime": {
     "end_time": "2021-06-26T15:43:56.057142Z",
     "start_time": "2021-06-26T15:43:19.634295Z"
    }
   },
   "outputs": [
    {
     "name": "stdout",
     "output_type": "stream",
     "text": [
      "FL_DATE 0\n",
      "OP_CARRIER 0\n",
      "OP_CARRIER_FL_NUM 0\n",
      "ORIGIN 0\n",
      "DEST 0\n",
      "CRS_DEP_TIME 0\n",
      "DEP_TIME 82867\n",
      "DEP_DELAY 82867\n",
      "TAXI_OUT 85787\n",
      "WHEELS_OFF 85787\n",
      "WHEELS_ON 89322\n",
      "TAXI_IN 89321\n",
      "CRS_ARR_TIME 0\n",
      "ARR_TIME 89322\n",
      "ARR_DELAY 102361\n",
      "CANCELLED 0\n",
      "CANCELLATION_CODE 6342300\n",
      "DIVERTED 0\n",
      "CRS_ELAPSED_TIME 0\n",
      "ACTUAL_ELAPSED_TIME 102362\n",
      "AIR_TIME 102361\n",
      "DISTANCE 0\n",
      "CARRIER_DELAY 5258837\n",
      "WEATHER_DELAY 5258837\n",
      "NAS_DELAY 5258837\n",
      "SECURITY_DELAY 5258837\n",
      "LATE_AIRCRAFT_DELAY 5258837\n",
      "CPU times: user 40.4 ms, sys: 6.11 ms, total: 46.6 ms\n",
      "Wall time: 36.4 s\n"
     ]
    }
   ],
   "source": [
    "%%time\n",
    "\n",
    "query = '''\n",
    "SELECT\n",
    "    COUNT(*)-COUNT(FL_DATE) AS FL_DATE,\n",
    "    COUNT(*)-COUNT(OP_CARRIER) AS OP_CARRIER,\n",
    "    COUNT(*)-COUNT(OP_CARRIER_FL_NUM) AS OP_CARRIER_FL_NUM,\n",
    "    COUNT(*)-COUNT(ORIGIN) AS ORIGIN,\n",
    "    COUNT(*)-COUNT(DEST) AS DEST,\n",
    "    COUNT(*)-COUNT(CRS_DEP_TIME) AS CRS_DEP_TIME,\n",
    "    COUNT(*)-COUNT(DEP_TIME) AS DEP_TIME,\n",
    "    COUNT(*)-COUNT(DEP_DELAY) AS DEP_DELAY,\n",
    "    COUNT(*)-COUNT(TAXI_OUT) AS TAXI_OUT,\n",
    "    COUNT(*)-COUNT(WHEELS_OFF) AS WHEELS_OFF,\n",
    "    COUNT(*)-COUNT(WHEELS_ON) AS WHEELS_ON,\n",
    "    COUNT(*)-COUNT(TAXI_IN) AS TAXI_IN,\n",
    "    COUNT(*)-COUNT(CRS_ARR_TIME) AS CRS_ARR_TIME,\n",
    "    COUNT(*)-COUNT(ARR_TIME) AS ARR_TIME,\n",
    "    COUNT(*)-COUNT(ARR_DELAY) AS ARR_DELAY,\n",
    "    COUNT(*)-COUNT(CANCELLED) AS CANCELLED,\n",
    "    COUNT(*)-COUNT(CANCELLATION_CODE) AS CANCELLATION_CODE,\n",
    "    COUNT(*)-COUNT(DIVERTED) AS DIVERTED,\n",
    "    COUNT(*)-COUNT(CRS_ELAPSED_TIME) AS CRS_ELAPSED_TIME,\n",
    "    COUNT(*)-COUNT(ACTUAL_ELAPSED_TIME) AS ACTUAL_ELAPSED_TIME,\n",
    "    COUNT(*)-COUNT(AIR_TIME) AS AIR_TIME,\n",
    "    COUNT(*)-COUNT(DISTANCE) AS DISTANCE,\n",
    "    COUNT(*)-COUNT(CARRIER_DELAY) AS CARRIER_DELAY,\n",
    "    COUNT(*)-COUNT(WEATHER_DELAY) AS WEATHER_DELAY,\n",
    "    COUNT(*)-COUNT(NAS_DELAY) AS NAS_DELAY,\n",
    "    COUNT(*)-COUNT(SECURITY_DELAY) AS SECURITY_DELAY,\n",
    "    COUNT(*)-COUNT(LATE_AIRCRAFT_DELAY) AS LATE_AIRCRAFT_DELAY\n",
    "FROM flights \n",
    "'''\n",
    "df_missing = spark.sql(query).toPandas()\n",
    "for element in df_missing.columns:\n",
    "    print(element, df_missing[element].iloc[0])"
   ]
  },
  {
   "cell_type": "markdown",
   "metadata": {},
   "source": [
    "# Data preparation"
   ]
  },
  {
   "cell_type": "code",
   "execution_count": 62,
   "metadata": {
    "ExecuteTime": {
     "end_time": "2021-06-26T15:43:56.088018Z",
     "start_time": "2021-06-26T15:43:56.058919Z"
    }
   },
   "outputs": [],
   "source": [
    "df_filtered = df.filter(\"\"\"\n",
    "DEP_DELAY IS NOT NULL and \n",
    "TAXI_OUT IS NOT NULL and \n",
    "TAXI_IN IS NOT NULL and \n",
    "ARR_TIME IS NOT NULL and \n",
    "ARR_DELAY IS NOT NULL and\n",
    "CANCELLED IS NOT NULL and  \n",
    "CRS_ELAPSED_TIME IS NOT NULL and\n",
    "ACTUAL_ELAPSED_TIME IS NOT NULL and \n",
    "AIR_TIME IS NOT NULL and \n",
    "DISTANCE IS NOT NULL and \n",
    "CARRIER_DELAY IS NOT NULL and \n",
    "WEATHER_DELAY IS NOT NULL and \n",
    "NAS_DELAY IS NOT NULL and \n",
    "SECURITY_DELAY IS NOT NULL and \n",
    "LATE_AIRCRAFT_DELAY IS NOT NULL and\n",
    "\"\"\")"
   ]
  },
  {
   "cell_type": "markdown",
   "metadata": {},
   "source": [
    "# Modeling"
   ]
  },
  {
   "cell_type": "markdown",
   "metadata": {},
   "source": [
    " Only considering features that you are aware of before the plane takes off."
   ]
  },
  {
   "cell_type": "markdown",
   "metadata": {},
   "source": [
    "- OP_CARRIER\n",
    "- ORIGIN\n",
    "- DEST\n",
    "- DEP_DELAY\n",
    "- TAXI_OUT\n",
    "- DISTANCE\n",
    "- CARRIER_DELAY\n",
    "- WEATHER_DELAY\n",
    "- NAS_DELAY\n",
    "- SECURITY_DELAY"
   ]
  },
  {
   "cell_type": "markdown",
   "metadata": {},
   "source": [
    "## Pipeline Model"
   ]
  },
  {
   "cell_type": "markdown",
   "metadata": {},
   "source": [
    "### OneHotEncoder, StringIndexer"
   ]
  },
  {
   "cell_type": "markdown",
   "metadata": {},
   "source": [
    "To apply OneHotEncoder on categorical values it's necessary to have a index column. That's why it's necessary to use StringIndexer"
   ]
  },
  {
   "cell_type": "code",
   "execution_count": 63,
   "metadata": {
    "ExecuteTime": {
     "end_time": "2021-06-26T15:43:56.212323Z",
     "start_time": "2021-06-26T15:43:56.095287Z"
    }
   },
   "outputs": [],
   "source": [
    "from pyspark.ml import Pipeline\n",
    "from pyspark.ml.feature import VectorAssembler \n",
    "from pyspark.ml.feature import OneHotEncoder,StringIndexer\n",
    "\n",
    "categoricalCols = ['OP_CARRIER', 'ORIGIN', 'DEST']\n",
    "\n",
    "numericCols = ['DEP_DELAY', 'DISTANCE', 'TAXI_OUT',\\\n",
    "               'CARRIER_DELAY', 'WEATHER_DELAY', 'NAS_DELAY', \\\n",
    "               'SECURITY_DELAY']\n",
    "\n",
    "indexOutputCols = [x + \"_Index\" for x in categoricalCols]\n",
    "oneOutputCols = [x + \"_OHE\" for x in categoricalCols]\n",
    "\n",
    "stringIndexer = StringIndexer(inputCols=categoricalCols,\n",
    "                             outputCols=indexOutputCols,\n",
    "                             handleInvalid='skip')\n",
    "\n",
    "oheEncoder = OneHotEncoder(inputCols=indexOutputCols,\n",
    "                           outputCols=oneOutputCols)\n",
    "\n",
    "assemblerInputs = oneOutputCols + numericCols\n",
    "\n",
    "vecAssembler = VectorAssembler(inputCols=assemblerInputs,\n",
    "                              outputCol = 'features')\n",
    "\n",
    "# # Just to see the output from OnehotEncoder\n",
    "# oheEncoder.fit(stringIndexer.fit(train).transform(train)) \\\n",
    "#           .transform(stringIndexer.fit(train).transform(train)) \\\n",
    "#           .select('OP_CARRIER', 'OP_CARRIER_OHE', 'OP_CARRIER_Index').show(5)"
   ]
  },
  {
   "cell_type": "markdown",
   "metadata": {},
   "source": [
    "### Train and test split"
   ]
  },
  {
   "cell_type": "code",
   "execution_count": 64,
   "metadata": {
    "ExecuteTime": {
     "end_time": "2021-06-26T15:43:56.244018Z",
     "start_time": "2021-06-26T15:43:56.214663Z"
    }
   },
   "outputs": [],
   "source": [
    "train, test = df_filtered.randomSplit([0.7, 0.3], seed=42)"
   ]
  },
  {
   "cell_type": "markdown",
   "metadata": {},
   "source": [
    "## Linear Regression"
   ]
  },
  {
   "cell_type": "code",
   "execution_count": 65,
   "metadata": {
    "ExecuteTime": {
     "end_time": "2021-06-26T15:46:17.650547Z",
     "start_time": "2021-06-26T15:43:56.246641Z"
    }
   },
   "outputs": [
    {
     "name": "stdout",
     "output_type": "stream",
     "text": [
      "0.0694573079999996\n"
     ]
    }
   ],
   "source": [
    "from pyspark.ml.regression import LinearRegression\n",
    "lr = LinearRegression(featuresCol='features', labelCol='ARR_DELAY')\n",
    "\n",
    "\n",
    "\n",
    "pipeline = Pipeline(stages = [stringIndexer, oheEncoder, vecAssembler, lr])\n",
    "\n",
    "import time\n",
    "start = time.process_time()\n",
    "pipelineModel = pipeline.fit(train)  \n",
    "print(time.process_time() - start)\n",
    "pred = pipelineModel.transform(test)"
   ]
  },
  {
   "cell_type": "code",
   "execution_count": 66,
   "metadata": {
    "ExecuteTime": {
     "end_time": "2021-06-26T15:46:27.218089Z",
     "start_time": "2021-06-26T15:46:17.652813Z"
    }
   },
   "outputs": [
    {
     "name": "stdout",
     "output_type": "stream",
     "text": [
      "+----------+---------+--------------------+------------------+\n",
      "|OP_CARRIER|ARR_DELAY|            features|        prediction|\n",
      "+----------+---------+--------------------+------------------+\n",
      "|        9E|     19.0|(614,[15,32,413,6...|30.878739481117744|\n",
      "|        9E|     26.0|(614,[15,47,328,6...|27.222427574545726|\n",
      "|        9E|     31.0|(614,[15,47,407,6...|38.601932051681494|\n",
      "|        9E|     38.0|(614,[15,47,392,6...| 43.54603846259174|\n",
      "|        9E|     49.0|(614,[15,119,341,...|54.622605197232154|\n",
      "+----------+---------+--------------------+------------------+\n",
      "only showing top 5 rows\n",
      "\n"
     ]
    }
   ],
   "source": [
    "pred.select('OP_CARRIER','ARR_DELAY', 'features', 'prediction').show(5)"
   ]
  },
  {
   "cell_type": "markdown",
   "metadata": {},
   "source": [
    "### Evaluation"
   ]
  },
  {
   "cell_type": "code",
   "execution_count": 67,
   "metadata": {
    "ExecuteTime": {
     "end_time": "2021-06-26T15:47:03.442839Z",
     "start_time": "2021-06-26T15:46:27.219717Z"
    }
   },
   "outputs": [
    {
     "name": "stdout",
     "output_type": "stream",
     "text": [
      "RMSE =  11.046810214238155\n"
     ]
    }
   ],
   "source": [
    "from pyspark.ml.evaluation import RegressionEvaluator\n",
    "\n",
    "regressionEvaluator = RegressionEvaluator(predictionCol='prediction',\n",
    "                                          labelCol='ARR_DELAY',\n",
    "                                          metricName='rmse')\n",
    "lr_rmse = regressionEvaluator.evaluate(pred)\n",
    "print('RMSE = ', lr_rmse)"
   ]
  },
  {
   "cell_type": "markdown",
   "metadata": {},
   "source": [
    "## Random Forest"
   ]
  },
  {
   "cell_type": "code",
   "execution_count": 68,
   "metadata": {
    "ExecuteTime": {
     "end_time": "2021-06-26T15:52:15.145605Z",
     "start_time": "2021-06-26T15:47:03.445319Z"
    }
   },
   "outputs": [
    {
     "name": "stdout",
     "output_type": "stream",
     "text": [
      "+------------------+---------+--------------------+\n",
      "|        prediction|ARR_DELAY|            features|\n",
      "+------------------+---------+--------------------+\n",
      "| 26.38800411157457|     19.0|(614,[15,32,413,6...|\n",
      "|28.628204177852176|     26.0|(614,[15,47,328,6...|\n",
      "| 34.98059951470286|     31.0|(614,[15,47,407,6...|\n",
      "|28.628204177852176|     38.0|(614,[15,47,392,6...|\n",
      "| 41.57334913584084|     49.0|(614,[15,119,341,...|\n",
      "+------------------+---------+--------------------+\n",
      "only showing top 5 rows\n",
      "\n",
      "Root Mean Squared Error (RMSE) on test data = 20.568\n",
      "OneHotEncoderModel: uid=OneHotEncoder_acaa9bf2b08c, dropLast=true, handleInvalid=error, numInputCols=3, numOutputCols=3\n",
      "CPU times: user 93.6 ms, sys: 40.1 ms, total: 134 ms\n",
      "Wall time: 5min 11s\n"
     ]
    }
   ],
   "source": [
    "%%time\n",
    "from pyspark.ml import Pipeline\n",
    "from pyspark.ml.regression import RandomForestRegressor\n",
    "from pyspark.ml.feature import VectorIndexer\n",
    "from pyspark.ml.evaluation import RegressionEvaluator\n",
    "\n",
    "\n",
    "# Train a RandomForest model.\n",
    "rf = RandomForestRegressor(featuresCol='features', labelCol='ARR_DELAY',\n",
    "                          maxDepth=8, numTrees=16, seed=42)\n",
    "\n",
    "# Chain indexer and forest in a Pipeline\n",
    "pipeline = Pipeline(stages=[stringIndexer, oheEncoder, vecAssembler, rf])\n",
    "\n",
    "# Train model.  \n",
    "model = pipeline.fit(train)\n",
    "\n",
    "# Make predictions.\n",
    "predictions = model.transform(test)\n",
    "\n",
    "# Select example rows to display.\n",
    "predictions.select(\"prediction\", \"ARR_DELAY\", \"features\").show(5)\n",
    "\n",
    "# Select (prediction, true label) and compute test error\n",
    "evaluator = RegressionEvaluator(labelCol=\"ARR_DELAY\", predictionCol=\"prediction\", metricName=\"rmse\")\n",
    "rf_rmse = evaluator.evaluate(predictions)\n",
    "print(\"Root Mean Squared Error (RMSE) on test data = %g\" % rf_rmse)\n",
    "\n",
    "rfModel = model.stages[1]\n",
    "print(rfModel)  # summary only"
   ]
  },
  {
   "cell_type": "markdown",
   "metadata": {},
   "source": [
    "### Features Importance"
   ]
  },
  {
   "cell_type": "code",
   "execution_count": 69,
   "metadata": {
    "ExecuteTime": {
     "end_time": "2021-06-26T15:52:15.152551Z",
     "start_time": "2021-06-26T15:52:15.147285Z"
    }
   },
   "outputs": [],
   "source": [
    "def ExtractFeatureImp(featureImp, dataset, featuresCol):\n",
    "    list_extract = []\n",
    "    for i in dataset.schema[featuresCol].metadata[\"ml_attr\"][\"attrs\"]:\n",
    "        list_extract = list_extract + dataset.schema[featuresCol].metadata[\"ml_attr\"][\"attrs\"][i]\n",
    "    varlist = pd.DataFrame(list_extract)\n",
    "    varlist['score'] = varlist['idx'].apply(lambda x: featureImp[x])\n",
    "    return(varlist.sort_values('score', ascending = False))"
   ]
  },
  {
   "cell_type": "code",
   "execution_count": 70,
   "metadata": {
    "ExecuteTime": {
     "end_time": "2021-06-26T15:52:15.438998Z",
     "start_time": "2021-06-26T15:52:15.154845Z"
    }
   },
   "outputs": [],
   "source": [
    "df2 = model.transform(df_filtered)\n",
    "fi = ExtractFeatureImp(model.stages[-1].featureImportances, df2, \"features\").head(10)"
   ]
  },
  {
   "cell_type": "code",
   "execution_count": 71,
   "metadata": {
    "ExecuteTime": {
     "end_time": "2021-06-26T15:52:15.673893Z",
     "start_time": "2021-06-26T15:52:15.441307Z"
    }
   },
   "outputs": [
    {
     "data": {
      "text/plain": [
       "Text(0.5, 0, 'Scores')"
      ]
     },
     "execution_count": 71,
     "metadata": {},
     "output_type": "execute_result"
    },
    {
     "data": {
      "image/png": "[encoded data removed]",
      "text/plain": [
       "<Figure size 1080x576 with 1 Axes>"
      ]
     },
     "metadata": {},
     "output_type": "display_data"
    }
   ],
   "source": [
    "fig = plt.figure(figsize=(15, 8))\n",
    "ax = fig.add_subplot(111)\n",
    "ax.bar(x=fi.name, height=fi.score, color='#223e7f')\n",
    "plt.title('Features Importances')\n",
    "plt.tick_params(axis='x', rotation=45)\n",
    "plt.ylabel('Features')\n",
    "plt.xlabel('Scores')"
   ]
  },
  {
   "cell_type": "markdown",
   "metadata": {},
   "source": [
    "# Conclusions"
   ]
  },
  {
   "cell_type": "code",
   "execution_count": null,
   "metadata": {},
   "outputs": [],
   "source": []
  }
 ],
 "metadata": {
  "hide_input": false,
  "kernelspec": {
   "display_name": "Insper (PySpark)",
   "language": "python",
   "name": "insper"
  },
  "language_info": {
   "codemirror_mode": {
    "name": "ipython",
    "version": 3
   },
   "file_extension": ".py",
   "mimetype": "text/x-python",
   "name": "python",
   "nbconvert_exporter": "python",
   "pygments_lexer": "ipython3",
   "version": "3.8.3"
  },
  "toc": {
   "base_numbering": 1,
   "nav_menu": {},
   "number_sections": true,
   "sideBar": true,
   "skip_h1_title": false,
   "title_cell": "Table of Contents",
   "title_sidebar": "Contents",
   "toc_cell": false,
   "toc_position": {
    "height": "calc(100% - 180px)",
    "left": "10px",
    "top": "150px",
    "width": "312.986px"
   },
   "toc_section_display": true,
   "toc_window_display": true
  },
  "varInspector": {
   "cols": {
    "lenName": 16,
    "lenType": 16,
    "lenVar": 40
   },
   "kernels_config": {
    "python": {
     "delete_cmd_postfix": "",
     "delete_cmd_prefix": "del ",
     "library": "var_list.py",
     "varRefreshCmd": "print(var_dic_list())"
    },
    "r": {
     "delete_cmd_postfix": ") ",
     "delete_cmd_prefix": "rm(",
     "library": "var_list.r",
     "varRefreshCmd": "cat(var_dic_list()) "
    }
   },
   "types_to_exclude": [
    "module",
    "function",
    "builtin_function_or_method",
    "instance",
    "_Feature"
   ],
   "window_display": false
  }
 },
 "nbformat": 4,
 "nbformat_minor": 4
}
