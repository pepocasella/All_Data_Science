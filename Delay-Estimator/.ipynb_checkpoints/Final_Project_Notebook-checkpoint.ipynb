{
 "cells": [
  {
   "cell_type": "markdown",
   "metadata": {
    "ExecuteTime": {
     "end_time": "2021-06-12T17:58:39.427091Z",
     "start_time": "2021-06-12T17:58:39.310893Z"
    }
   },
   "source": [
    "![https://miro.medium.com/max/1180/1*4r8q_WiW97CRmxPaCaAQ4Q.jpeg](https://miro.medium.com/max/1180/1*4r8q_WiW97CRmxPaCaAQ4Q.jpeg)"
   ]
  },
  {
   "cell_type": "markdown",
   "metadata": {},
   "source": [
    "Team: Pedro Casella"
   ]
  },
  {
   "cell_type": "markdown",
   "metadata": {},
   "source": [
    "#  Delay Estimator"
   ]
  },
  {
   "cell_type": "markdown",
   "metadata": {},
   "source": [
    "Spark application that creates a machine learning model for a real-world problem, using real-world data: Predicting the arrival delay of commercial flights\n",
    "\n",
    "- Our mission is to predict the total Delay on Arrival for the passengers\n",
    "- Our variable target is [ARR_Delay] - Total Delay on Arrival in minutes\n"
   ]
  },
  {
   "cell_type": "markdown",
   "metadata": {},
   "source": [
    "![https://miro.medium.com/max/4104/1*yzDeQQnHoBfj_hT7gcsygQ.png](https://miro.medium.com/max/4104/1*yzDeQQnHoBfj_hT7gcsygQ.png)"
   ]
  },
  {
   "cell_type": "markdown",
   "metadata": {},
   "source": [
    "## Spark Setup"
   ]
  },
  {
   "cell_type": "markdown",
   "metadata": {
    "ExecuteTime": {
     "end_time": "2021-05-29T22:12:51.904772Z",
     "start_time": "2021-05-29T22:12:51.788138Z"
    }
   },
   "source": [
    "![https://miro.medium.com/max/1400/1*wiXLNwwMyWdyyBuzZnGrWA.png](https://miro.medium.com/max/1400/1*wiXLNwwMyWdyyBuzZnGrWA.png)"
   ]
  },
  {
   "cell_type": "code",
   "execution_count": 1,
   "metadata": {
    "ExecuteTime": {
     "end_time": "2021-06-26T13:55:09.957017Z",
     "start_time": "2021-06-26T13:55:01.933271Z"
    }
   },
   "outputs": [],
   "source": [
    "# Setar o ambiente para uso de Python no Spark\n",
    "import support_functions as sf\n",
    "sf.set_spark_python()\n",
    "\n",
    "# Criar a sessao do Spark\n",
    "from pyspark import SparkConf, SparkContext\n",
    "from pyspark.conf import SparkConf\n",
    "from pyspark.sql import SparkSession\n",
    "spark = SparkSession \\\n",
    "            .builder \\\n",
    "            .master(\"local[2]\") \\\n",
    "            .appName(\"Pedro\") \\\n",
    "            .getOrCreate()"
   ]
  },
  {
   "cell_type": "code",
   "execution_count": 2,
   "metadata": {
    "ExecuteTime": {
     "end_time": "2021-06-26T13:55:09.980206Z",
     "start_time": "2021-06-26T13:55:09.960194Z"
    }
   },
   "outputs": [
    {
     "data": {
      "text/html": [
       "\n",
       "            <div>\n",
       "                <p><b>SparkSession - in-memory</b></p>\n",
       "                \n",
       "        <div>\n",
       "            <p><b>SparkContext</b></p>\n",
       "\n",
       "            <p><a href=\"http://ip-172-31-39-225.ec2.internal:4044\">Spark UI</a></p>\n",
       "\n",
       "            <dl>\n",
       "              <dt>Version</dt>\n",
       "                <dd><code>v3.0.1</code></dd>\n",
       "              <dt>Master</dt>\n",
       "                <dd><code>local[2]</code></dd>\n",
       "              <dt>AppName</dt>\n",
       "                <dd><code>Pedro</code></dd>\n",
       "            </dl>\n",
       "        </div>\n",
       "        \n",
       "            </div>\n",
       "        "
      ],
      "text/plain": [
       "<pyspark.sql.session.SparkSession at 0x7f6150561d00>"
      ]
     },
     "execution_count": 2,
     "metadata": {},
     "output_type": "execute_result"
    }
   ],
   "source": [
    "spark"
   ]
  },
  {
   "cell_type": "code",
   "execution_count": 3,
   "metadata": {
    "ExecuteTime": {
     "end_time": "2021-06-26T13:55:09.990456Z",
     "start_time": "2021-06-26T13:55:09.983078Z"
    }
   },
   "outputs": [],
   "source": [
    "sc = spark.sparkContext"
   ]
  },
  {
   "cell_type": "code",
   "execution_count": 4,
   "metadata": {
    "ExecuteTime": {
     "end_time": "2021-06-26T13:55:10.030824Z",
     "start_time": "2021-06-26T13:55:09.993186Z"
    }
   },
   "outputs": [
    {
     "data": {
      "text/plain": [
       "[('spark.driver.port', '45389'),\n",
       " ('spark.app.name', 'Pedro'),\n",
       " ('spark.rdd.compress', 'True'),\n",
       " ('spark.serializer.objectStreamReset', '100'),\n",
       " ('spark.submit.pyFiles', ''),\n",
       " ('spark.executor.id', 'driver'),\n",
       " ('spark.app.id', 'local-1624715707831'),\n",
       " ('spark.submit.deployMode', 'client'),\n",
       " ('spark.driver.host', 'ip-172-31-39-225.ec2.internal'),\n",
       " ('spark.ui.showConsoleProgress', 'true'),\n",
       " ('spark.master', 'local[2]')]"
      ]
     },
     "execution_count": 4,
     "metadata": {},
     "output_type": "execute_result"
    }
   ],
   "source": [
    "sc.getConf().getAll()"
   ]
  },
  {
   "cell_type": "markdown",
   "metadata": {},
   "source": [
    "## Incrise machine parameters"
   ]
  },
  {
   "cell_type": "code",
   "execution_count": 5,
   "metadata": {
    "ExecuteTime": {
     "end_time": "2021-06-26T13:55:10.497480Z",
     "start_time": "2021-06-26T13:55:10.033077Z"
    }
   },
   "outputs": [],
   "source": [
    "conf = spark.sparkContext._conf.setAll([('spark.executor.memory', '8g'), \\\n",
    "                                        ('spark.executor.cores', '3'), \\\n",
    "                                        ('spark.cores.max', '3'),\\\n",
    "                                        ('spark.driver.memory','8g')])\n",
    "sc.stop()"
   ]
  },
  {
   "cell_type": "code",
   "execution_count": 6,
   "metadata": {
    "ExecuteTime": {
     "end_time": "2021-06-26T13:55:10.567483Z",
     "start_time": "2021-06-26T13:55:10.499365Z"
    }
   },
   "outputs": [
    {
     "data": {
      "text/plain": [
       "[('spark.driver.port', '45389'),\n",
       " ('spark.app.name', 'Pedro'),\n",
       " ('spark.executor.id', 'driver'),\n",
       " ('spark.cores.max', '3'),\n",
       " ('spark.rdd.compress', 'True'),\n",
       " ('spark.driver.memory', '8g'),\n",
       " ('spark.serializer.objectStreamReset', '100'),\n",
       " ('spark.executor.memory', '8g'),\n",
       " ('spark.submit.pyFiles', ''),\n",
       " ('spark.executor.cores', '3'),\n",
       " ('spark.submit.deployMode', 'client'),\n",
       " ('spark.app.id', 'local-1624715707831'),\n",
       " ('spark.driver.host', 'ip-172-31-39-225.ec2.internal'),\n",
       " ('spark.ui.showConsoleProgress', 'true'),\n",
       " ('spark.master', 'local[2]')]"
      ]
     },
     "execution_count": 6,
     "metadata": {},
     "output_type": "execute_result"
    }
   ],
   "source": [
    "sc.getConf().getAll()"
   ]
  },
  {
   "cell_type": "code",
   "execution_count": 7,
   "metadata": {
    "ExecuteTime": {
     "end_time": "2021-06-26T13:55:10.872344Z",
     "start_time": "2021-06-26T13:55:10.569776Z"
    }
   },
   "outputs": [],
   "source": [
    "spark = SparkSession.builder.config(conf=conf).getOrCreate()"
   ]
  },
  {
   "cell_type": "code",
   "execution_count": 8,
   "metadata": {
    "ExecuteTime": {
     "end_time": "2021-06-26T13:55:10.949215Z",
     "start_time": "2021-06-26T13:55:10.876142Z"
    }
   },
   "outputs": [],
   "source": [
    "from pyspark.sql import functions as sf\n",
    "from pyspark.sql.types import *\n",
    "from pyspark.sql import Row"
   ]
  },
  {
   "cell_type": "markdown",
   "metadata": {},
   "source": [
    "# Data Dictionary"
   ]
  },
  {
   "cell_type": "code",
   "execution_count": 9,
   "metadata": {
    "ExecuteTime": {
     "end_time": "2021-06-26T13:55:17.299960Z",
     "start_time": "2021-06-26T13:55:10.952323Z"
    }
   },
   "outputs": [],
   "source": [
    "df_dict = spark.read.csv('./Data/projeto_final_dicionário.csv')"
   ]
  },
  {
   "cell_type": "code",
   "execution_count": 10,
   "metadata": {
    "ExecuteTime": {
     "end_time": "2021-06-26T13:55:17.694213Z",
     "start_time": "2021-06-26T13:55:17.302458Z"
    }
   },
   "outputs": [
    {
     "name": "stdout",
     "output_type": "stream",
     "text": [
      "+-------------------+--------------------+---------------+--------+\n",
      "|                _c0|                 _c1|            _c2|     _c3|\n",
      "+-------------------+--------------------+---------------+--------+\n",
      "|               Name|         Description|   Type(Format)| Example|\n",
      "|            FL_DATE|  Date of the flight|DATE (yy/mm/dd)|5/2/2009|\n",
      "|         OP_CARRIER|  Airline Identifier|         STRING|      9E|\n",
      "|  OP_CARRIER_FL_NUM|       Flight Number|        INTEGER|    2216|\n",
      "|             ORIGIN|Starting Airport ...|         STRING|     MLI|\n",
      "|               DEST|Destination Airpo...|         STRING|     MEM|\n",
      "|       CRS_DEP_TIME|Planned Departure...|        INTEGER|     600|\n",
      "|           DEP_TIME|Actual Departure ...|          FLOAT|   603.0|\n",
      "|          DEP_DELAY|Total Delay on De...|          FLOAT|     3.0|\n",
      "|           TAXI_OUT|The time duration...|          FLOAT|    14.0|\n",
      "|         WHEELS_OFF|The time point th...|          FLOAT|   617.0|\n",
      "|          WHEELS_ON|The time point th...|          FLOAT|   757.0|\n",
      "|            TAXI_IN|The time duration...|          FLOAT|     8.0|\n",
      "|       CRS_ARR_TIME|Planned arrival time|        INTEGER|     732|\n",
      "|           ARR_TIME| Actual Arrival Time|          FLOAT|   805.0|\n",
      "|          ARR_DELAY|Total Delay on Ar...|          FLOAT|    33.0|\n",
      "|          CANCELLED|Flight Cancelled ...|          FLOAT|     0.0|\n",
      "|  CANCELLATION_CODE|Reason for Cancel...|         STRING|       D|\n",
      "|           DIVERTED|Aircraft landed o...|          FLOAT|     0.0|\n",
      "|   CRS_ELAPSED_TIME|Planned time amou...|          FLOAT|    92.0|\n",
      "|ACTUAL_ELAPSED_TIME|AIR_TIME+TAXI_IN+...|          FLOAT|   122.0|\n",
      "|           AIR_TIME|The time duration...|          FLOAT|   100.0|\n",
      "|           DISTANCE|Distance between ...|          FLOAT|   442.0|\n",
      "|      CARRIER_DELAY|Delay caused by t...|          FLOAT|     0.0|\n",
      "|      WEATHER_DELAY|Delay caused by w...|          FLOAT|     0.0|\n",
      "|          NAS_DELAY|Delay caused by a...|          FLOAT|    33.0|\n",
      "|     SECURITY_DELAY|Delay caused by s...|          FLOAT|     0.0|\n",
      "|LATE_AIRCRAFT_DELAY|Delay caused by a...|         STRING|     0.0|\n",
      "+-------------------+--------------------+---------------+--------+\n",
      "\n"
     ]
    }
   ],
   "source": [
    "df_dict.show(31)"
   ]
  },
  {
   "cell_type": "markdown",
   "metadata": {},
   "source": [
    "# Reading Files\n",
    "\n"
   ]
  },
  {
   "cell_type": "code",
   "execution_count": 11,
   "metadata": {
    "ExecuteTime": {
     "end_time": "2021-06-26T13:55:18.285319Z",
     "start_time": "2021-06-26T13:55:17.696686Z"
    }
   },
   "outputs": [],
   "source": [
    "df = spark.read.csv('../../10_dados/projeto/*.csv', header=True)"
   ]
  },
  {
   "cell_type": "code",
   "execution_count": 12,
   "metadata": {
    "ExecuteTime": {
     "end_time": "2021-06-26T13:55:18.307355Z",
     "start_time": "2021-06-26T13:55:18.287132Z"
    }
   },
   "outputs": [],
   "source": [
    "# Define a Schema\n",
    "\n",
    "labels = ( \n",
    "    ('FL_DATE', StringType()),\n",
    "    ('OP_CARRIER', StringType()),\n",
    "    ('OP_CARRIER_FL_NUM',IntegerType()),\n",
    "    ('ORIGIN',StringType()),\n",
    "    ('DEST',StringType()),\n",
    "    ('CRS_DEP_TIME',IntegerType()),\n",
    "    ('DEP_TIME',FloatType()),\n",
    "    ('DEP_DELAY',FloatType()),\n",
    "    ('TAXI_OUT',FloatType()),\n",
    "    ('WHEELS_OFF',FloatType()),\n",
    "    ('WHEELS_ON',FloatType()),\n",
    "    ('TAXI_IN',FloatType()),\n",
    "    ('CRS_ARR_TIME',IntegerType()),\n",
    "    ('ARR_TIME',FloatType()),\n",
    "    ('ARR_DELAY',FloatType()),\n",
    "    ('CANCELLED',FloatType()),\n",
    "    ('CANCELLATION_CODE',StringType()),\n",
    "    ('DIVERTED',FloatType()),\n",
    "    ('CRS_ELAPSED_TIME',FloatType()),\n",
    "    ('ACTUAL_ELAPSED_TIME',FloatType()),\n",
    "    ('AIR_TIME',FloatType()),\n",
    "    ('DISTANCE',FloatType()),\n",
    "    ('CARRIER_DELAY',FloatType()),\n",
    "    ('WEATHER_DELAY',FloatType()),\n",
    "    ('NAS_DELAY',FloatType()),\n",
    "    ('SECURITY_DELAY',FloatType()),\n",
    "    ('LATE_AIRCRAFT_DELAY',StringType()),\n",
    ")"
   ]
  },
  {
   "cell_type": "code",
   "execution_count": 13,
   "metadata": {
    "ExecuteTime": {
     "end_time": "2021-06-26T13:55:18.326041Z",
     "start_time": "2021-06-26T13:55:18.315781Z"
    }
   },
   "outputs": [],
   "source": [
    "my_schema = StructType([StructField(x[0], x[1], True) for x in labels])"
   ]
  },
  {
   "cell_type": "code",
   "execution_count": 14,
   "metadata": {
    "ExecuteTime": {
     "end_time": "2021-06-26T13:55:18.420053Z",
     "start_time": "2021-06-26T13:55:18.335373Z"
    }
   },
   "outputs": [],
   "source": [
    "df = spark.read.csv('../../10_dados/projeto/*.csv', \n",
    "                    header=True, \n",
    "                    schema = my_schema)"
   ]
  },
  {
   "cell_type": "code",
   "execution_count": 15,
   "metadata": {
    "ExecuteTime": {
     "end_time": "2021-06-26T13:55:18.435108Z",
     "start_time": "2021-06-26T13:55:18.422115Z"
    },
    "scrolled": true
   },
   "outputs": [
    {
     "name": "stdout",
     "output_type": "stream",
     "text": [
      "root\n",
      " |-- FL_DATE: string (nullable = true)\n",
      " |-- OP_CARRIER: string (nullable = true)\n",
      " |-- OP_CARRIER_FL_NUM: integer (nullable = true)\n",
      " |-- ORIGIN: string (nullable = true)\n",
      " |-- DEST: string (nullable = true)\n",
      " |-- CRS_DEP_TIME: integer (nullable = true)\n",
      " |-- DEP_TIME: float (nullable = true)\n",
      " |-- DEP_DELAY: float (nullable = true)\n",
      " |-- TAXI_OUT: float (nullable = true)\n",
      " |-- WHEELS_OFF: float (nullable = true)\n",
      " |-- WHEELS_ON: float (nullable = true)\n",
      " |-- TAXI_IN: float (nullable = true)\n",
      " |-- CRS_ARR_TIME: integer (nullable = true)\n",
      " |-- ARR_TIME: float (nullable = true)\n",
      " |-- ARR_DELAY: float (nullable = true)\n",
      " |-- CANCELLED: float (nullable = true)\n",
      " |-- CANCELLATION_CODE: string (nullable = true)\n",
      " |-- DIVERTED: float (nullable = true)\n",
      " |-- CRS_ELAPSED_TIME: float (nullable = true)\n",
      " |-- ACTUAL_ELAPSED_TIME: float (nullable = true)\n",
      " |-- AIR_TIME: float (nullable = true)\n",
      " |-- DISTANCE: float (nullable = true)\n",
      " |-- CARRIER_DELAY: float (nullable = true)\n",
      " |-- WEATHER_DELAY: float (nullable = true)\n",
      " |-- NAS_DELAY: float (nullable = true)\n",
      " |-- SECURITY_DELAY: float (nullable = true)\n",
      " |-- LATE_AIRCRAFT_DELAY: string (nullable = true)\n",
      "\n"
     ]
    }
   ],
   "source": [
    "df.printSchema()"
   ]
  },
  {
   "cell_type": "code",
   "execution_count": 16,
   "metadata": {
    "ExecuteTime": {
     "end_time": "2021-06-26T13:55:19.432153Z",
     "start_time": "2021-06-26T13:55:18.437612Z"
    }
   },
   "outputs": [
    {
     "name": "stdout",
     "output_type": "stream",
     "text": [
      "+----------+----------+-----------------+------+----+------------+--------+---------+--------+----------+---------+-------+------------+--------+---------+---------+-----------------+--------+----------------+-------------------+--------+--------+-------------+-------------+---------+--------------+-------------------+\n",
      "|   FL_DATE|OP_CARRIER|OP_CARRIER_FL_NUM|ORIGIN|DEST|CRS_DEP_TIME|DEP_TIME|DEP_DELAY|TAXI_OUT|WHEELS_OFF|WHEELS_ON|TAXI_IN|CRS_ARR_TIME|ARR_TIME|ARR_DELAY|CANCELLED|CANCELLATION_CODE|DIVERTED|CRS_ELAPSED_TIME|ACTUAL_ELAPSED_TIME|AIR_TIME|DISTANCE|CARRIER_DELAY|WEATHER_DELAY|NAS_DELAY|SECURITY_DELAY|LATE_AIRCRAFT_DELAY|\n",
      "+----------+----------+-----------------+------+----+------------+--------+---------+--------+----------+---------+-------+------------+--------+---------+---------+-----------------+--------+----------------+-------------------+--------+--------+-------------+-------------+---------+--------------+-------------------+\n",
      "|2009-01-01|        XE|             1204|   DCA| EWR|        1100|  1058.0|     -2.0|    18.0|    1116.0|   1158.0|    8.0|        1202|  1206.0|      4.0|      0.0|             null|     0.0|            62.0|               68.0|    42.0|   199.0|         null|         null|     null|          null|               null|\n",
      "|2009-01-01|        XE|             1206|   EWR| IAD|        1510|  1509.0|     -1.0|    28.0|    1537.0|   1620.0|    4.0|        1632|  1624.0|     -8.0|      0.0|             null|     0.0|            82.0|               75.0|    43.0|   213.0|         null|         null|     null|          null|               null|\n",
      "|2009-01-01|        XE|             1207|   EWR| DCA|        1100|  1059.0|     -1.0|    20.0|    1119.0|   1155.0|    6.0|        1210|  1201.0|     -9.0|      0.0|             null|     0.0|            70.0|               62.0|    36.0|   199.0|         null|         null|     null|          null|               null|\n",
      "|2009-01-01|        XE|             1208|   DCA| EWR|        1240|  1249.0|      9.0|    10.0|    1259.0|   1336.0|    9.0|        1357|  1345.0|    -12.0|      0.0|             null|     0.0|            77.0|               56.0|    37.0|   199.0|         null|         null|     null|          null|               null|\n",
      "|2009-01-01|        XE|             1209|   IAD| EWR|        1715|  1705.0|    -10.0|    24.0|    1729.0|   1809.0|   13.0|        1900|  1822.0|    -38.0|      0.0|             null|     0.0|           105.0|               77.0|    40.0|   213.0|         null|         null|     null|          null|               null|\n",
      "+----------+----------+-----------------+------+----+------------+--------+---------+--------+----------+---------+-------+------------+--------+---------+---------+-----------------+--------+----------------+-------------------+--------+--------+-------------+-------------+---------+--------------+-------------------+\n",
      "only showing top 5 rows\n",
      "\n"
     ]
    }
   ],
   "source": [
    "df.show(5)"
   ]
  },
  {
   "cell_type": "code",
   "execution_count": 17,
   "metadata": {
    "ExecuteTime": {
     "end_time": "2021-06-26T13:55:46.964922Z",
     "start_time": "2021-06-26T13:55:19.434384Z"
    }
   },
   "outputs": [
    {
     "name": "stdout",
     "output_type": "stream",
     "text": [
      "Data Size is: 61827740 rows\n",
      "CPU times: user 6.4 ms, sys: 1.06 ms, total: 7.47 ms\n",
      "Wall time: 27.5 s\n"
     ]
    }
   ],
   "source": [
    "%%time\n",
    "datasize = df.count()\n",
    "print(f'Data Size is: {datasize} rows')"
   ]
  },
  {
   "cell_type": "markdown",
   "metadata": {},
   "source": [
    "# Visualization"
   ]
  },
  {
   "cell_type": "code",
   "execution_count": 18,
   "metadata": {
    "ExecuteTime": {
     "end_time": "2021-06-26T13:55:47.860864Z",
     "start_time": "2021-06-26T13:55:46.967475Z"
    }
   },
   "outputs": [],
   "source": [
    "import pandas as pd\n",
    "import matplotlib.pyplot as plt\n",
    "import seaborn as sns\n",
    "from matplotlib.pyplot import figure\n",
    "plt.style.use('ggplot')"
   ]
  },
  {
   "cell_type": "markdown",
   "metadata": {},
   "source": [
    "Creating a temporary view for visualization purpose"
   ]
  },
  {
   "cell_type": "code",
   "execution_count": 19,
   "metadata": {
    "ExecuteTime": {
     "end_time": "2021-06-26T13:55:48.114098Z",
     "start_time": "2021-06-26T13:55:47.863375Z"
    }
   },
   "outputs": [],
   "source": [
    "df.createOrReplaceTempView('flights')"
   ]
  },
  {
   "cell_type": "markdown",
   "metadata": {},
   "source": [
    "### Wich carrier has the most Delays\n"
   ]
  },
  {
   "cell_type": "code",
   "execution_count": 20,
   "metadata": {
    "ExecuteTime": {
     "end_time": "2021-06-26T13:57:40.818232Z",
     "start_time": "2021-06-26T13:55:48.116134Z"
    }
   },
   "outputs": [
    {
     "name": "stdout",
     "output_type": "stream",
     "text": [
      "+---------------+---------+---------+---------+-----------+\n",
      "|AIRLINE_COMPANY|MIN_DELAY|MAX_DELAY|AVG_DELAY|  SUM_DELAY|\n",
      "+---------------+---------+---------+---------+-----------+\n",
      "|             G4|    -98.0|   1505.0|     9.98|   950351.0|\n",
      "|             F9|    -91.0|   1253.0|      9.2|  8269438.0|\n",
      "|             OH|    -94.0|   1105.0|     8.69|  4806496.0|\n",
      "|             EV|    -92.0|   1810.0|     8.46|3.8951437E7|\n",
      "|             B6|    -98.0|   1473.0|     8.17|1.9974192E7|\n",
      "|             NK|    -99.0|   1637.0|     8.14|  4731697.0|\n",
      "|             XE|    -73.0|    963.0|     7.51|  8076656.0|\n",
      "|             MQ|   -153.0|   1666.0|     6.96|2.1640651E7|\n",
      "|             VX|   -411.0|    746.0|     6.25|  2419987.0|\n",
      "|             OO|   -192.0|   2692.0|     5.71| 3.517478E7|\n",
      "|             YV|    -94.0|   1773.0|     5.25|  5453130.0|\n",
      "|             AA|   -108.0|   2444.0|     5.18|3.4093716E7|\n",
      "|             CO|    -85.0|   1172.0|     5.14|  3761409.0|\n",
      "|             WN|   -151.0|   2223.0|     4.85|5.8143765E7|\n",
      "|             NW|    -88.0|   2449.0|     3.92|  1138401.0|\n",
      "|             FL|    -91.0|   1102.0|     3.65|  4399393.0|\n",
      "|             UA|   -120.0|   1539.0|     3.38|1.6144867E7|\n",
      "|             YX|    -77.0|   1346.0|     3.08|   939165.0|\n",
      "|             9E|   -107.0|   1685.0|     3.03|  3136638.0|\n",
      "|             US|    -87.0|    942.0|     1.95|  5144999.0|\n",
      "+---------------+---------+---------+---------+-----------+\n",
      "only showing top 20 rows\n",
      "\n",
      "CPU times: user 16.6 ms, sys: 5.5 ms, total: 22 ms\n",
      "Wall time: 1min 52s\n"
     ]
    }
   ],
   "source": [
    "%%time\n",
    "\n",
    "query = '''\n",
    "SELECT\n",
    "    OP_CARRIER AS AIRLINE_COMPANY,\n",
    "    MIN(ARR_DELAY) AS MIN_DELAY,\n",
    "    MAX(ARR_DELAY) AS MAX_DELAY,\n",
    "    ROUND(AVG(ARR_DELAY), 2) AS AVG_DELAY,\n",
    "    SUM(ARR_DELAY) AS SUM_DELAY\n",
    "FROM flights \n",
    "GROUP BY OP_CARRIER\n",
    "ORDER BY AVG_DELAY DESC\n",
    "\n",
    "'''\n",
    "carrier_delays = spark.sql(query).show()"
   ]
  },
  {
   "cell_type": "code",
   "execution_count": 21,
   "metadata": {
    "ExecuteTime": {
     "end_time": "2021-06-26T13:59:19.148018Z",
     "start_time": "2021-06-26T13:57:40.820196Z"
    }
   },
   "outputs": [],
   "source": [
    "carrier_delays = spark.sql(query).toPandas()"
   ]
  },
  {
   "cell_type": "code",
   "execution_count": 22,
   "metadata": {
    "ExecuteTime": {
     "end_time": "2021-06-26T13:59:20.906218Z",
     "start_time": "2021-06-26T13:59:19.149897Z"
    }
   },
   "outputs": [
    {
     "data": {
      "image/png": "[encoded data removed]",
      "text/plain": [
       "<Figure size 1080x1080 with 4 Axes>"
      ]
     },
     "metadata": {},
     "output_type": "display_data"
    }
   ],
   "source": [
    "fig, ax = plt.subplots(2, 2, figsize=(15,15))\n",
    "ax[0, 0].bar(carrier_delays.AIRLINE_COMPANY, carrier_delays.MIN_DELAY, color='#1a73e8') #row=0, col=0\n",
    "ax[0, 0].title.set_text('Min Delay')\n",
    "ax[1, 0].bar(carrier_delays.AIRLINE_COMPANY, carrier_delays.MAX_DELAY, color='#223e7f') #row=1, col=0\n",
    "ax[1, 0].title.set_text('Max Delay')\n",
    "ax[0, 1].bar(carrier_delays.AIRLINE_COMPANY, carrier_delays.AVG_DELAY, color = '#B1D4E0')#row=0, col=1\n",
    "ax[0, 1].title.set_text('Avg Delay')\n",
    "ax[1, 1].bar(carrier_delays.AIRLINE_COMPANY, carrier_delays.SUM_DELAY) #row=1, col=1\n",
    "ax[1, 1].title.set_text('Total Delay')\n",
    "plt.suptitle(\"Wich carrier has the most Delays?\", size=18)\n",
    "plt.show()"
   ]
  },
  {
   "cell_type": "markdown",
   "metadata": {},
   "source": [
    "### How many flights were cancelled"
   ]
  },
  {
   "cell_type": "code",
   "execution_count": 46,
   "metadata": {
    "ExecuteTime": {
     "end_time": "2021-06-26T16:12:28.455209Z",
     "start_time": "2021-06-26T16:11:26.508901Z"
    }
   },
   "outputs": [
    {
     "name": "stdout",
     "output_type": "stream",
     "text": [
      "+---------+------------------------+\n",
      "|CANCELLED|count(OP_CARRIER_FL_NUM)|\n",
      "+---------+------------------------+\n",
      "|   2356.0|                       1|\n",
      "|      1.0|                  977551|\n",
      "|      0.0|                60850188|\n",
      "+---------+------------------------+\n",
      "\n",
      "CPU times: user 10.4 ms, sys: 1.42 ms, total: 11.8 ms\n",
      "Wall time: 1min 1s\n"
     ]
    }
   ],
   "source": [
    "%%time\n",
    "query = '''\n",
    "SELECT\n",
    "    CANCELLED,\n",
    "    COUNT(OP_CARRIER_FL_NUM)\n",
    "FROM flights \n",
    "GROUP BY CANCELLED\n",
    "'''\n",
    "spark.sql(query).show()"
   ]
  },
  {
   "cell_type": "markdown",
   "metadata": {},
   "source": [
    "### Which carrier has the most cancelled flights?"
   ]
  },
  {
   "cell_type": "code",
   "execution_count": 25,
   "metadata": {
    "ExecuteTime": {
     "end_time": "2021-06-26T14:02:44.251057Z",
     "start_time": "2021-06-26T14:01:07.529325Z"
    }
   },
   "outputs": [
    {
     "name": "stdout",
     "output_type": "stream",
     "text": [
      "CPU times: user 22.3 ms, sys: 2.85 ms, total: 25.1 ms\n",
      "Wall time: 1min 36s\n"
     ]
    }
   ],
   "source": [
    "%%time\n",
    "\n",
    "query = '''\n",
    "SELECT\n",
    "    OP_CARRIER AS AIRLINE_COMPANY,\n",
    "    COUNT(OP_CARRIER) AS CANCELLED_FLIGHTS \n",
    "FROM flights\n",
    "WHERE CANCELLED = 1\n",
    "GROUP BY OP_CARRIER \n",
    "ORDER BY CANCELLED_FLIGHTS DESC\n",
    "'''\n",
    "#spark.sql(query).show()\n",
    "carrier_cancelled = spark.sql(query).toPandas()"
   ]
  },
  {
   "cell_type": "code",
   "execution_count": 26,
   "metadata": {
    "ExecuteTime": {
     "end_time": "2021-06-26T14:02:44.622159Z",
     "start_time": "2021-06-26T14:02:44.253893Z"
    }
   },
   "outputs": [
    {
     "data": {
      "text/plain": [
       "Text(0.5, 1.0, 'Which carrier has the most cancelled flights?')"
      ]
     },
     "execution_count": 26,
     "metadata": {},
     "output_type": "execute_result"
    },
    {
     "data": {
      "image/png": "[encoded data removed]",
      "text/plain": [
       "<Figure size 640x480 with 1 Axes>"
      ]
     },
     "metadata": {},
     "output_type": "display_data"
    }
   ],
   "source": [
    "figure(figsize=(8, 6), dpi=80)\n",
    "plt.bar(carrier_cancelled.AIRLINE_COMPANY, carrier_cancelled.CANCELLED_FLIGHTS)\n",
    "plt.title('Which carrier has the most cancelled flights?')"
   ]
  },
  {
   "cell_type": "markdown",
   "metadata": {},
   "source": [
    "### Which origin and destination airports have the most delays?"
   ]
  },
  {
   "cell_type": "markdown",
   "metadata": {},
   "source": [
    "#### Origin"
   ]
  },
  {
   "cell_type": "code",
   "execution_count": 27,
   "metadata": {
    "ExecuteTime": {
     "end_time": "2021-06-26T14:04:44.689041Z",
     "start_time": "2021-06-26T14:02:44.624398Z"
    }
   },
   "outputs": [
    {
     "name": "stdout",
     "output_type": "stream",
     "text": [
      "CPU times: user 30.9 ms, sys: 3.55 ms, total: 34.4 ms\n",
      "Wall time: 2min\n"
     ]
    }
   ],
   "source": [
    "%%time\n",
    "\n",
    "query = '''\n",
    "SELECT\n",
    "    ORIGIN,\n",
    "    MIN(ARR_DELAY) AS MIN_DELAY,\n",
    "    MAX(ARR_DELAY) AS MAX_DELAY,\n",
    "    ROUND(AVG(ARR_DELAY), 2) AS AVG_DELAY,\n",
    "    SUM(ARR_DELAY) AS SUM_DELAY\n",
    "FROM flights \n",
    "GROUP BY ORIGIN\n",
    "ORDER BY AVG_DELAY DESC\n",
    "'''\n",
    "#spark.sql(query).show()\n",
    "origin_delays = spark.sql(query).toPandas()\n",
    "origin_delays = origin_delays.head(10)"
   ]
  },
  {
   "cell_type": "code",
   "execution_count": 28,
   "metadata": {
    "ExecuteTime": {
     "end_time": "2021-06-26T14:04:45.767152Z",
     "start_time": "2021-06-26T14:04:44.691069Z"
    }
   },
   "outputs": [
    {
     "data": {
      "image/png": "[encoded data removed]",
      "text/plain": [
       "<Figure size 1080x1080 with 4 Axes>"
      ]
     },
     "metadata": {},
     "output_type": "display_data"
    }
   ],
   "source": [
    "fig, ax = plt.subplots(2, 2, figsize=(15,15))\n",
    "ax[0, 0].bar(origin_delays.ORIGIN, origin_delays.MIN_DELAY, color='#1a73e8') #row=0, col=0\n",
    "ax[0, 0].title.set_text('Min Delay')\n",
    "ax[1, 0].bar(origin_delays.ORIGIN, origin_delays.MAX_DELAY, color='#223e7f') #row=1, col=0\n",
    "ax[1, 0].title.set_text('Max Delay')\n",
    "ax[0, 1].bar(origin_delays.ORIGIN, origin_delays.AVG_DELAY, color = '#B1D4E0')#row=0, col=1\n",
    "ax[0, 1].title.set_text('Avg Delay')\n",
    "ax[1, 1].bar(origin_delays.ORIGIN, origin_delays.SUM_DELAY) #row=1, col=1\n",
    "ax[1, 1].title.set_text('Total Delay')\n",
    "plt.suptitle(\" Which origin airports have the most delays? TOP(10)\", size=18)\n",
    "plt.show()"
   ]
  },
  {
   "cell_type": "markdown",
   "metadata": {},
   "source": [
    "#### Destination"
   ]
  },
  {
   "cell_type": "code",
   "execution_count": 29,
   "metadata": {
    "ExecuteTime": {
     "end_time": "2021-06-26T14:06:43.682300Z",
     "start_time": "2021-06-26T14:04:45.771475Z"
    }
   },
   "outputs": [
    {
     "name": "stdout",
     "output_type": "stream",
     "text": [
      "CPU times: user 32.9 ms, sys: 2.61 ms, total: 35.5 ms\n",
      "Wall time: 1min 57s\n"
     ]
    }
   ],
   "source": [
    "%%time\n",
    "\n",
    "query = '''\n",
    "SELECT\n",
    "    DEST,\n",
    "    MIN(ARR_DELAY) AS MIN_DELAY,\n",
    "    MAX(ARR_DELAY) AS MAX_DELAY,\n",
    "    ROUND(AVG(ARR_DELAY), 2) AS AVG_DELAY,\n",
    "    SUM(ARR_DELAY) AS SUM_DELAY\n",
    "FROM flights \n",
    "GROUP BY DEST\n",
    "ORDER BY AVG_DELAY DESC\n",
    "'''\n",
    "dest_delays = spark.sql(query).toPandas()\n",
    "dest_delays = dest_delays.head(10)"
   ]
  },
  {
   "cell_type": "code",
   "execution_count": 30,
   "metadata": {
    "ExecuteTime": {
     "end_time": "2021-06-26T14:06:44.797184Z",
     "start_time": "2021-06-26T14:06:43.684949Z"
    }
   },
   "outputs": [
    {
     "data": {
      "image/png": "[encoded data removed]",
      "text/plain": [
       "<Figure size 1080x1080 with 4 Axes>"
      ]
     },
     "metadata": {},
     "output_type": "display_data"
    }
   ],
   "source": [
    "fig, ax = plt.subplots(2, 2, figsize=(15,15))\n",
    "ax[0, 0].bar(dest_delays.DEST, dest_delays.MIN_DELAY, color='#1a73e8') #row=0, col=0\n",
    "ax[0, 0].title.set_text('Min Delay')\n",
    "ax[1, 0].bar(dest_delays.DEST, dest_delays.MAX_DELAY, color='#223e7f') #row=1, col=0\n",
    "ax[1, 0].title.set_text('Max Delay')\n",
    "ax[0, 1].bar(dest_delays.DEST, dest_delays.AVG_DELAY, color = '#B1D4E0')#row=0, col=1\n",
    "ax[0, 1].title.set_text('Avg Delay')\n",
    "ax[1, 1].bar(dest_delays.DEST, dest_delays.SUM_DELAY) #row=1, col=1\n",
    "ax[1, 1].title.set_text('Total Delay')\n",
    "plt.suptitle(\" Which destination airports have the most delays? TOP(10)\", size=18)\n",
    "plt.show()"
   ]
  },
  {
   "cell_type": "markdown",
   "metadata": {},
   "source": [
    "### What causes the most delay"
   ]
  },
  {
   "cell_type": "code",
   "execution_count": 31,
   "metadata": {
    "ExecuteTime": {
     "end_time": "2021-06-26T14:10:30.063593Z",
     "start_time": "2021-06-26T14:06:44.799500Z"
    }
   },
   "outputs": [
    {
     "name": "stdout",
     "output_type": "stream",
     "text": [
      "CPU times: user 47.5 ms, sys: 8.94 ms, total: 56.4 ms\n",
      "Wall time: 3min 45s\n"
     ]
    }
   ],
   "source": [
    "%%time\n",
    "query_1='''\n",
    "SELECT\n",
    "    ROUND(AVG(SECURITY_DELAY), 2) AS SECURITY,\n",
    "    ROUND(AVG(NAS_DELAY), 2) AS AIR_SYSTEM,\n",
    "    ROUND(AVG(WEATHER_DELAY), 2) AS WEATHER,\n",
    "    ROUND(AVG(CARRIER_DELAY), 2) AS CARRIER,\n",
    "    ROUND(AVG(DEP_DELAY), 2) AS DEPARTURE\n",
    "FROM flights\n",
    "'''\n",
    "query_2='''\n",
    "SELECT\n",
    "    ROUND(MAX(SECURITY_DELAY), 2) AS SECURITY,\n",
    "    ROUND(MAX(NAS_DELAY), 2) AS AIR_SYSTEM,\n",
    "    ROUND(MAX(WEATHER_DELAY), 2) AS WEATHER,\n",
    "    ROUND(MAX(CARRIER_DELAY), 2) AS CARRIER,\n",
    "    ROUND(MAX(DEP_DELAY), 2) AS DEPARTURE\n",
    "FROM flights\n",
    "'''\n",
    "avg_delay = spark.sql(query_1).toPandas()\n",
    "max_delay = spark.sql(query_2).toPandas()"
   ]
  },
  {
   "cell_type": "code",
   "execution_count": 32,
   "metadata": {
    "ExecuteTime": {
     "end_time": "2021-06-26T14:10:30.518757Z",
     "start_time": "2021-06-26T14:10:30.067071Z"
    }
   },
   "outputs": [
    {
     "data": {
      "image/png": "[encoded data removed]",
      "text/plain": [
       "<Figure size 1080x576 with 2 Axes>"
      ]
     },
     "metadata": {},
     "output_type": "display_data"
    }
   ],
   "source": [
    "fig, (ax1, ax2) = plt.subplots(nrows=1, ncols=2, figsize=(15,8))\n",
    "ax1.bar(avg_delay.columns, avg_delay.values[0], color='#1a73e8') #row=0, col=0\n",
    "ax1.title.set_text('Avg Delay')\n",
    "ax2.bar(max_delay.columns, max_delay.values[0], color='#223e7f') #row=1, col=0\n",
    "ax2.title.set_text('Max Delay')\n",
    "plt.suptitle(\"What causes the most delay\", size=18)\n",
    "plt.show()"
   ]
  },
  {
   "cell_type": "markdown",
   "metadata": {},
   "source": [
    "# Missing values"
   ]
  },
  {
   "cell_type": "code",
   "execution_count": 33,
   "metadata": {
    "ExecuteTime": {
     "end_time": "2021-06-26T14:10:30.600354Z",
     "start_time": "2021-06-26T14:10:30.521132Z"
    }
   },
   "outputs": [
    {
     "name": "stdout",
     "output_type": "stream",
     "text": [
      "COUNT(*)-COUNT(Name) AS Name,\n",
      "COUNT(*)-COUNT(FL_DATE) AS FL_DATE,\n",
      "COUNT(*)-COUNT(OP_CARRIER) AS OP_CARRIER,\n",
      "COUNT(*)-COUNT(OP_CARRIER_FL_NUM) AS OP_CARRIER_FL_NUM,\n",
      "COUNT(*)-COUNT(ORIGIN) AS ORIGIN,\n",
      "COUNT(*)-COUNT(DEST) AS DEST,\n",
      "COUNT(*)-COUNT(CRS_DEP_TIME) AS CRS_DEP_TIME,\n",
      "COUNT(*)-COUNT(DEP_TIME) AS DEP_TIME,\n",
      "COUNT(*)-COUNT(DEP_DELAY) AS DEP_DELAY,\n",
      "COUNT(*)-COUNT(TAXI_OUT) AS TAXI_OUT,\n",
      "COUNT(*)-COUNT(WHEELS_OFF) AS WHEELS_OFF,\n",
      "COUNT(*)-COUNT(WHEELS_ON) AS WHEELS_ON,\n",
      "COUNT(*)-COUNT(TAXI_IN) AS TAXI_IN,\n",
      "COUNT(*)-COUNT(CRS_ARR_TIME) AS CRS_ARR_TIME,\n",
      "COUNT(*)-COUNT(ARR_TIME) AS ARR_TIME,\n",
      "COUNT(*)-COUNT(ARR_DELAY) AS ARR_DELAY,\n",
      "COUNT(*)-COUNT(CANCELLED) AS CANCELLED,\n",
      "COUNT(*)-COUNT(CANCELLATION_CODE) AS CANCELLATION_CODE,\n",
      "COUNT(*)-COUNT(DIVERTED) AS DIVERTED,\n",
      "COUNT(*)-COUNT(CRS_ELAPSED_TIME) AS CRS_ELAPSED_TIME,\n",
      "COUNT(*)-COUNT(ACTUAL_ELAPSED_TIME) AS ACTUAL_ELAPSED_TIME,\n",
      "COUNT(*)-COUNT(AIR_TIME) AS AIR_TIME,\n",
      "COUNT(*)-COUNT(DISTANCE) AS DISTANCE,\n",
      "COUNT(*)-COUNT(CARRIER_DELAY) AS CARRIER_DELAY,\n",
      "COUNT(*)-COUNT(WEATHER_DELAY) AS WEATHER_DELAY,\n",
      "COUNT(*)-COUNT(NAS_DELAY) AS NAS_DELAY,\n",
      "COUNT(*)-COUNT(SECURITY_DELAY) AS SECURITY_DELAY,\n",
      "COUNT(*)-COUNT(LATE_AIRCRAFT_DELAY) AS LATE_AIRCRAFT_DELAY,\n"
     ]
    }
   ],
   "source": [
    "df_dictionary = df_dict.toPandas()\n",
    "for element in df_dictionary['_c0']:\n",
    "    print(f'COUNT(*)-COUNT({element}) AS {element},')"
   ]
  },
  {
   "cell_type": "code",
   "execution_count": 34,
   "metadata": {
    "ExecuteTime": {
     "end_time": "2021-06-26T14:19:35.861996Z",
     "start_time": "2021-06-26T14:10:30.602209Z"
    }
   },
   "outputs": [
    {
     "name": "stdout",
     "output_type": "stream",
     "text": [
      "FL_DATE 0\n",
      "OP_CARRIER 0\n",
      "OP_CARRIER_FL_NUM 0\n",
      "ORIGIN 0\n",
      "DEST 0\n",
      "CRS_DEP_TIME 6096763\n",
      "DEP_TIME 939854\n",
      "DEP_DELAY 944806\n",
      "TAXI_OUT 968173\n",
      "WHEELS_OFF 968168\n",
      "WHEELS_ON 1001532\n",
      "TAXI_IN 1001531\n",
      "CRS_ARR_TIME 6096764\n",
      "ARR_TIME 1001531\n",
      "ARR_DELAY 1126285\n",
      "CANCELLED 0\n",
      "CANCELLATION_CODE 60850187\n",
      "DIVERTED 0\n",
      "CRS_ELAPSED_TIME 61\n",
      "ACTUAL_ELAPSED_TIME 1123688\n",
      "AIR_TIME 1123686\n",
      "DISTANCE 1\n",
      "CARRIER_DELAY 50382457\n",
      "WEATHER_DELAY 50382458\n",
      "NAS_DELAY 50382458\n",
      "SECURITY_DELAY 50382459\n",
      "LATE_AIRCRAFT_DELAY 50382459\n",
      "CPU times: user 90.4 ms, sys: 21.1 ms, total: 111 ms\n",
      "Wall time: 9min 5s\n"
     ]
    }
   ],
   "source": [
    "%%time\n",
    "\n",
    "query = '''\n",
    "SELECT\n",
    "    COUNT(*)-COUNT(FL_DATE) AS FL_DATE,\n",
    "    COUNT(*)-COUNT(OP_CARRIER) AS OP_CARRIER,\n",
    "    COUNT(*)-COUNT(OP_CARRIER_FL_NUM) AS OP_CARRIER_FL_NUM,\n",
    "    COUNT(*)-COUNT(ORIGIN) AS ORIGIN,\n",
    "    COUNT(*)-COUNT(DEST) AS DEST,\n",
    "    COUNT(*)-COUNT(CRS_DEP_TIME) AS CRS_DEP_TIME,\n",
    "    COUNT(*)-COUNT(DEP_TIME) AS DEP_TIME,\n",
    "    COUNT(*)-COUNT(DEP_DELAY) AS DEP_DELAY,\n",
    "    COUNT(*)-COUNT(TAXI_OUT) AS TAXI_OUT,\n",
    "    COUNT(*)-COUNT(WHEELS_OFF) AS WHEELS_OFF,\n",
    "    COUNT(*)-COUNT(WHEELS_ON) AS WHEELS_ON,\n",
    "    COUNT(*)-COUNT(TAXI_IN) AS TAXI_IN,\n",
    "    COUNT(*)-COUNT(CRS_ARR_TIME) AS CRS_ARR_TIME,\n",
    "    COUNT(*)-COUNT(ARR_TIME) AS ARR_TIME,\n",
    "    COUNT(*)-COUNT(ARR_DELAY) AS ARR_DELAY,\n",
    "    COUNT(*)-COUNT(CANCELLED) AS CANCELLED,\n",
    "    COUNT(*)-COUNT(CANCELLATION_CODE) AS CANCELLATION_CODE,\n",
    "    COUNT(*)-COUNT(DIVERTED) AS DIVERTED,\n",
    "    COUNT(*)-COUNT(CRS_ELAPSED_TIME) AS CRS_ELAPSED_TIME,\n",
    "    COUNT(*)-COUNT(ACTUAL_ELAPSED_TIME) AS ACTUAL_ELAPSED_TIME,\n",
    "    COUNT(*)-COUNT(AIR_TIME) AS AIR_TIME,\n",
    "    COUNT(*)-COUNT(DISTANCE) AS DISTANCE,\n",
    "    COUNT(*)-COUNT(CARRIER_DELAY) AS CARRIER_DELAY,\n",
    "    COUNT(*)-COUNT(WEATHER_DELAY) AS WEATHER_DELAY,\n",
    "    COUNT(*)-COUNT(NAS_DELAY) AS NAS_DELAY,\n",
    "    COUNT(*)-COUNT(SECURITY_DELAY) AS SECURITY_DELAY,\n",
    "    COUNT(*)-COUNT(LATE_AIRCRAFT_DELAY) AS LATE_AIRCRAFT_DELAY\n",
    "FROM flights \n",
    "'''\n",
    "df_missing = spark.sql(query).toPandas()\n",
    "for element in df_missing.columns:\n",
    "    print(element, df_missing[element].iloc[0])"
   ]
  },
  {
   "cell_type": "markdown",
   "metadata": {},
   "source": [
    "# Data preparation"
   ]
  },
  {
   "cell_type": "code",
   "execution_count": 35,
   "metadata": {
    "ExecuteTime": {
     "end_time": "2021-06-26T14:19:35.893810Z",
     "start_time": "2021-06-26T14:19:35.864072Z"
    }
   },
   "outputs": [],
   "source": [
    "df_filtered = df.filter(\"\"\"\n",
    "DEP_DELAY IS NOT NULL and \n",
    "TAXI_OUT IS NOT NULL and \n",
    "TAXI_IN IS NOT NULL and \n",
    "ARR_TIME IS NOT NULL and \n",
    "ARR_DELAY IS NOT NULL and\n",
    "CANCELLED IS NOT NULL and  \n",
    "CRS_ELAPSED_TIME IS NOT NULL and\n",
    "ACTUAL_ELAPSED_TIME IS NOT NULL and \n",
    "AIR_TIME IS NOT NULL and \n",
    "DISTANCE IS NOT NULL and \n",
    "CARRIER_DELAY IS NOT NULL and \n",
    "WEATHER_DELAY IS NOT NULL and \n",
    "NAS_DELAY IS NOT NULL and \n",
    "SECURITY_DELAY IS NOT NULL and \n",
    "LATE_AIRCRAFT_DELAY IS NOT NULL and\n",
    "\"\"\")"
   ]
  },
  {
   "cell_type": "markdown",
   "metadata": {},
   "source": [
    "# Modeling"
   ]
  },
  {
   "cell_type": "markdown",
   "metadata": {},
   "source": [
    " Only considering features that you are aware of before the plane takes off."
   ]
  },
  {
   "cell_type": "markdown",
   "metadata": {},
   "source": [
    "- OP_CARRIER\n",
    "- ORIGIN\n",
    "- DEST\n",
    "- DEP_DELAY\n",
    "- TAXI_OUT\n",
    "- DISTANCE\n",
    "- CARRIER_DELAY\n",
    "- WEATHER_DELAY\n",
    "- NAS_DELAY\n",
    "- SECURITY_DELAY"
   ]
  },
  {
   "cell_type": "markdown",
   "metadata": {},
   "source": [
    "## Pipeline Model"
   ]
  },
  {
   "cell_type": "markdown",
   "metadata": {},
   "source": [
    "### OneHotEncoder, StringIndexer"
   ]
  },
  {
   "cell_type": "markdown",
   "metadata": {},
   "source": [
    "To apply OneHotEncoder on categorical values it's necessary to have a index column. That's why it's necessary to use StringIndexer"
   ]
  },
  {
   "cell_type": "code",
   "execution_count": 36,
   "metadata": {
    "ExecuteTime": {
     "end_time": "2021-06-26T14:19:36.026818Z",
     "start_time": "2021-06-26T14:19:35.896253Z"
    }
   },
   "outputs": [],
   "source": [
    "from pyspark.ml import Pipeline\n",
    "from pyspark.ml.feature import VectorAssembler \n",
    "from pyspark.ml.feature import OneHotEncoder,StringIndexer\n",
    "\n",
    "categoricalCols = ['OP_CARRIER', 'ORIGIN', 'DEST']\n",
    "\n",
    "numericCols = ['DEP_DELAY', 'DISTANCE', 'TAXI_OUT',\\\n",
    "               'CARRIER_DELAY', 'WEATHER_DELAY', 'NAS_DELAY', \\\n",
    "               'SECURITY_DELAY']\n",
    "\n",
    "indexOutputCols = [x + \"_Index\" for x in categoricalCols]\n",
    "oneOutputCols = [x + \"_OHE\" for x in categoricalCols]\n",
    "\n",
    "stringIndexer = StringIndexer(inputCols=categoricalCols,\n",
    "                             outputCols=indexOutputCols,\n",
    "                             handleInvalid='skip')\n",
    "\n",
    "oheEncoder = OneHotEncoder(inputCols=indexOutputCols,\n",
    "                           outputCols=oneOutputCols)\n",
    "\n",
    "assemblerInputs = oneOutputCols + numericCols\n",
    "\n",
    "vecAssembler = VectorAssembler(inputCols=assemblerInputs,\n",
    "                              outputCol = 'features')\n",
    "\n",
    "# # Just to see the output from OnehotEncoder\n",
    "# oheEncoder.fit(stringIndexer.fit(train).transform(train)) \\\n",
    "#           .transform(stringIndexer.fit(train).transform(train)) \\\n",
    "#           .select('OP_CARRIER', 'OP_CARRIER_OHE', 'OP_CARRIER_Index').show(5)"
   ]
  },
  {
   "cell_type": "markdown",
   "metadata": {},
   "source": [
    "### Train and test split"
   ]
  },
  {
   "cell_type": "code",
   "execution_count": 37,
   "metadata": {
    "ExecuteTime": {
     "end_time": "2021-06-26T14:19:36.088532Z",
     "start_time": "2021-06-26T14:19:36.047624Z"
    }
   },
   "outputs": [],
   "source": [
    "train, test = df_filtered.randomSplit([0.7, 0.3], seed=42)"
   ]
  },
  {
   "cell_type": "markdown",
   "metadata": {},
   "source": [
    "## Linear Regression"
   ]
  },
  {
   "cell_type": "code",
   "execution_count": 38,
   "metadata": {
    "ExecuteTime": {
     "end_time": "2021-06-26T14:48:30.450324Z",
     "start_time": "2021-06-26T14:19:36.090418Z"
    }
   },
   "outputs": [
    {
     "name": "stdout",
     "output_type": "stream",
     "text": [
      "0.322158052999999\n"
     ]
    }
   ],
   "source": [
    "from pyspark.ml.regression import LinearRegression\n",
    "lr = LinearRegression(featuresCol='features', labelCol='ARR_DELAY')\n",
    "\n",
    "pipeline = Pipeline(stages = [stringIndexer, oheEncoder, vecAssembler, lr])\n",
    "\n",
    "import time\n",
    "start = time.process_time()\n",
    "pipelineModel = pipeline.fit(train)  \n",
    "print(time.process_time() - start)\n",
    "pred = pipelineModel.transform(test)"
   ]
  },
  {
   "cell_type": "code",
   "execution_count": 39,
   "metadata": {
    "ExecuteTime": {
     "end_time": "2021-06-26T14:48:40.795135Z",
     "start_time": "2021-06-26T14:48:30.452577Z"
    }
   },
   "outputs": [
    {
     "name": "stdout",
     "output_type": "stream",
     "text": [
      "+----------+---------+--------------------+------------------+\n",
      "|OP_CARRIER|ARR_DELAY|            features|        prediction|\n",
      "+----------+---------+--------------------+------------------+\n",
      "|        9E|     19.0|(777,[13,38,504,7...|28.988337369402597|\n",
      "|        9E|     26.0|(777,[13,67,412,7...| 27.09322790702164|\n",
      "|        9E|     31.0|(777,[13,67,491,7...| 39.43392997357789|\n",
      "|        9E|     38.0|(777,[13,67,475,7...|45.464934720712165|\n",
      "|        9E|     49.0|(777,[13,121,446,...| 52.51079931645029|\n",
      "+----------+---------+--------------------+------------------+\n",
      "only showing top 5 rows\n",
      "\n"
     ]
    }
   ],
   "source": [
    "pred.select('OP_CARRIER','ARR_DELAY', 'features', 'prediction').show(5)"
   ]
  },
  {
   "cell_type": "markdown",
   "metadata": {},
   "source": [
    "### Evaluation"
   ]
  },
  {
   "cell_type": "code",
   "execution_count": 40,
   "metadata": {
    "ExecuteTime": {
     "end_time": "2021-06-26T14:56:09.613339Z",
     "start_time": "2021-06-26T14:48:40.797410Z"
    }
   },
   "outputs": [
    {
     "name": "stdout",
     "output_type": "stream",
     "text": [
      "RMSE =  11.616944812277502\n"
     ]
    }
   ],
   "source": [
    "from pyspark.ml.evaluation import RegressionEvaluator\n",
    "\n",
    "regressionEvaluator = RegressionEvaluator(predictionCol='prediction',\n",
    "                                          labelCol='ARR_DELAY',\n",
    "                                          metricName='rmse')\n",
    "lr_rmse = regressionEvaluator.evaluate(pred)\n",
    "print('RMSE = ', lr_rmse)"
   ]
  },
  {
   "cell_type": "markdown",
   "metadata": {},
   "source": [
    "#### Saving Linear Model"
   ]
  },
  {
   "cell_type": "code",
   "execution_count": null,
   "metadata": {},
   "outputs": [],
   "source": [
    "pipelineModel.write().overwrite().save('./lr_pipeline_model')"
   ]
  },
  {
   "cell_type": "markdown",
   "metadata": {},
   "source": [
    "## Random Forest"
   ]
  },
  {
   "cell_type": "code",
   "execution_count": 41,
   "metadata": {
    "ExecuteTime": {
     "end_time": "2021-06-26T15:56:16.446474Z",
     "start_time": "2021-06-26T14:56:09.615071Z"
    }
   },
   "outputs": [
    {
     "name": "stdout",
     "output_type": "stream",
     "text": [
      "+------------------+---------+--------------------+\n",
      "|        prediction|ARR_DELAY|            features|\n",
      "+------------------+---------+--------------------+\n",
      "| 29.10674733953846|     19.0|(777,[13,38,504,7...|\n",
      "|32.426316527019935|     26.0|(777,[13,67,412,7...|\n",
      "| 36.22899994953547|     31.0|(777,[13,67,491,7...|\n",
      "|  32.4033933596065|     38.0|(777,[13,67,475,7...|\n",
      "| 45.33746712753478|     49.0|(777,[13,121,446,...|\n",
      "+------------------+---------+--------------------+\n",
      "only showing top 5 rows\n",
      "\n",
      "Root Mean Squared Error (RMSE) on test data = 29.0845\n",
      "OneHotEncoderModel: uid=OneHotEncoder_b67784e822dd, dropLast=true, handleInvalid=error, numInputCols=3, numOutputCols=3\n",
      "CPU times: user 551 ms, sys: 91.2 ms, total: 642 ms\n",
      "Wall time: 1h 6s\n"
     ]
    }
   ],
   "source": [
    "%%time\n",
    "from pyspark.ml import Pipeline\n",
    "from pyspark.ml.regression import RandomForestRegressor\n",
    "from pyspark.ml.feature import VectorIndexer\n",
    "from pyspark.ml.evaluation import RegressionEvaluator\n",
    "\n",
    "\n",
    "# Train a RandomForest model.\n",
    "rf = RandomForestRegressor(featuresCol='features', labelCol='ARR_DELAY',\n",
    "                          maxDepth=8, numTrees=16, seed=42)\n",
    "\n",
    "# Chain indexer and forest in a Pipeline\n",
    "pipeline = Pipeline(stages=[stringIndexer, oheEncoder, vecAssembler, rf])\n",
    "\n",
    "# Train model.  \n",
    "model = pipeline.fit(train)\n",
    "\n",
    "# Make predictions.\n",
    "predictions = model.transform(test)\n",
    "\n",
    "# Select example rows to display.\n",
    "predictions.select(\"prediction\", \"ARR_DELAY\", \"features\").show(5)\n",
    "\n",
    "# Select (prediction, true label) and compute test error\n",
    "evaluator = RegressionEvaluator(labelCol=\"ARR_DELAY\", predictionCol=\"prediction\", metricName=\"rmse\")\n",
    "rf_rmse = evaluator.evaluate(predictions)\n",
    "print(\"Root Mean Squared Error (RMSE) on test data = %g\" % rf_rmse)\n",
    "\n",
    "rfModel = model.stages[1]\n",
    "print(rfModel)  # summary only"
   ]
  },
  {
   "cell_type": "markdown",
   "metadata": {},
   "source": [
    "### Features Importance"
   ]
  },
  {
   "cell_type": "code",
   "execution_count": 42,
   "metadata": {
    "ExecuteTime": {
     "end_time": "2021-06-26T15:56:16.452723Z",
     "start_time": "2021-06-26T15:56:16.448235Z"
    }
   },
   "outputs": [],
   "source": [
    "def ExtractFeatureImp(featureImp, dataset, featuresCol):\n",
    "    list_extract = []\n",
    "    for i in dataset.schema[featuresCol].metadata[\"ml_attr\"][\"attrs\"]:\n",
    "        list_extract = list_extract + dataset.schema[featuresCol].metadata[\"ml_attr\"][\"attrs\"][i]\n",
    "    varlist = pd.DataFrame(list_extract)\n",
    "    varlist['score'] = varlist['idx'].apply(lambda x: featureImp[x])\n",
    "    return(varlist.sort_values('score', ascending = False))"
   ]
  },
  {
   "cell_type": "code",
   "execution_count": 43,
   "metadata": {
    "ExecuteTime": {
     "end_time": "2021-06-26T15:56:16.693387Z",
     "start_time": "2021-06-26T15:56:16.454179Z"
    }
   },
   "outputs": [],
   "source": [
    "df2 = model.transform(df_filtered)\n",
    "fi = ExtractFeatureImp(model.stages[-1].featureImportances, df2, \"features\").head(10)"
   ]
  },
  {
   "cell_type": "code",
   "execution_count": 44,
   "metadata": {
    "ExecuteTime": {
     "end_time": "2021-06-26T15:56:16.936875Z",
     "start_time": "2021-06-26T15:56:16.695436Z"
    }
   },
   "outputs": [
    {
     "data": {
      "text/plain": [
       "Text(0.5, 0, 'Scores')"
      ]
     },
     "execution_count": 44,
     "metadata": {},
     "output_type": "execute_result"
    },
    {
     "data": {
      "image/png": "[encoded data removed]",
      "text/plain": [
       "<Figure size 1080x576 with 1 Axes>"
      ]
     },
     "metadata": {},
     "output_type": "display_data"
    }
   ],
   "source": [
    "fig = plt.figure(figsize=(15, 8))\n",
    "ax = fig.add_subplot(111)\n",
    "ax.bar(x=fi.name, height=fi.score, color='#223e7f')\n",
    "plt.title('Features Importances')\n",
    "plt.tick_params(axis='x', rotation=45)\n",
    "plt.ylabel('Features')\n",
    "plt.xlabel('Scores')"
   ]
  },
  {
   "cell_type": "markdown",
   "metadata": {},
   "source": [
    "#### Saving Random Forest Model"
   ]
  },
  {
   "cell_type": "code",
   "execution_count": 45,
   "metadata": {
    "ExecuteTime": {
     "end_time": "2021-06-26T15:56:26.013800Z",
     "start_time": "2021-06-26T15:56:24.700965Z"
    }
   },
   "outputs": [],
   "source": [
    "pipelineModel.write().overwrite().save('./rf_pipeline_model')"
   ]
  },
  {
   "cell_type": "markdown",
   "metadata": {},
   "source": [
    "# Conclusions"
   ]
  },
  {
   "cell_type": "markdown",
   "metadata": {},
   "source": [
    "- Linear Regression: RMSE = 11.61 min\n",
    "- Random Forest: RMSE = 29.08 min"
   ]
  },
  {
   "cell_type": "code",
   "execution_count": 47,
   "metadata": {
    "ExecuteTime": {
     "end_time": "2021-06-26T17:06:25.102097Z",
     "start_time": "2021-06-26T17:05:24.026054Z"
    }
   },
   "outputs": [
    {
     "name": "stdout",
     "output_type": "stream",
     "text": [
      "+---------+---------+---------+------------+\n",
      "|MIN_DELAY|MAX_DELAY|AVG_DELAY|   SUM_DELAY|\n",
      "+---------+---------+---------+------------+\n",
      "|   -411.0|   2692.0|     4.71|2.85609265E8|\n",
      "+---------+---------+---------+------------+\n",
      "\n",
      "CPU times: user 10.5 ms, sys: 1.45 ms, total: 12 ms\n",
      "Wall time: 1min 1s\n"
     ]
    }
   ],
   "source": [
    "%%time\n",
    "\n",
    "query = '''\n",
    "SELECT\n",
    "    MIN(ARR_DELAY) AS MIN_DELAY,\n",
    "    MAX(ARR_DELAY) AS MAX_DELAY,\n",
    "    ROUND(AVG(ARR_DELAY), 2) AS AVG_DELAY,\n",
    "    SUM(ARR_DELAY) AS SUM_DELAY\n",
    "FROM flights \n",
    "'''\n",
    "spark.sql(query).show()"
   ]
  }
 ],
 "metadata": {
  "hide_input": false,
  "kernelspec": {
   "display_name": "Python 3",
   "language": "python",
   "name": "python3"
  },
  "language_info": {
   "codemirror_mode": {
    "name": "ipython",
    "version": 3
   },
   "file_extension": ".py",
   "mimetype": "text/x-python",
   "name": "python",
   "nbconvert_exporter": "python",
   "pygments_lexer": "ipython3",
   "version": "3.8.5"
  },
  "toc": {
   "base_numbering": 1,
   "nav_menu": {},
   "number_sections": true,
   "sideBar": true,
   "skip_h1_title": false,
   "title_cell": "Table of Contents",
   "title_sidebar": "Contents",
   "toc_cell": false,
   "toc_position": {
    "height": "calc(100% - 180px)",
    "left": "10px",
    "top": "150px",
    "width": "300.747px"
   },
   "toc_section_display": true,
   "toc_window_display": true
  },
  "varInspector": {
   "cols": {
    "lenName": 16,
    "lenType": 16,
    "lenVar": 40
   },
   "kernels_config": {
    "python": {
     "delete_cmd_postfix": "",
     "delete_cmd_prefix": "del ",
     "library": "var_list.py",
     "varRefreshCmd": "print(var_dic_list())"
    },
    "r": {
     "delete_cmd_postfix": ") ",
     "delete_cmd_prefix": "rm(",
     "library": "var_list.r",
     "varRefreshCmd": "cat(var_dic_list()) "
    }
   },
   "types_to_exclude": [
    "module",
    "function",
    "builtin_function_or_method",
    "instance",
    "_Feature"
   ],
   "window_display": false
  }
 },
 "nbformat": 4,
 "nbformat_minor": 4
}
