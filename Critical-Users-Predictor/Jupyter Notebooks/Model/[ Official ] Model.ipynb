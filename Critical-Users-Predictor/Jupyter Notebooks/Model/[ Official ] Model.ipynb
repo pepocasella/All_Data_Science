{
 "cells": [
  {
   "cell_type": "code",
   "execution_count": 1,
   "metadata": {},
   "outputs": [],
   "source": [
    "import os\n",
    "import pandas as pd\n",
    "import numpy as np\n",
    "\n",
    "import matplotlib.pyplot as plt\n",
    "plt.rcParams['figure.figsize'] = (10,6)\n",
    "plt.rcParams['axes.titlesize'] = 24\n",
    "plt.rcParams['axes.labelsize'] = 20\n",
    "plt.rcParams['lines.linewidth'] = 3\n",
    "plt.rcParams['lines.markersize'] = 10\n",
    "plt.rcParams['xtick.labelsize'] = 16\n",
    "plt.rcParams['ytick.labelsize'] = 16\n",
    "\n",
    "import seaborn as sns\n",
    "sns.set(style=\"white\")\n",
    "sns.set(style=\"whitegrid\", color_codes=True)\n",
    "\n",
    "import os\n",
    "import glob\n",
    "\n",
    "\n",
    "import warnings\n",
    "warnings.filterwarnings('ignore')"
   ]
  },
  {
   "cell_type": "markdown",
   "metadata": {},
   "source": [
    "# Import Data"
   ]
  },
  {
   "cell_type": "markdown",
   "metadata": {},
   "source": [
    "#### Zendesk Agg"
   ]
  },
  {
   "cell_type": "code",
   "execution_count": 2,
   "metadata": {},
   "outputs": [],
   "source": [
    "path = '../../Data/Zendesk/'\n",
    "\n",
    "df_tickets_agg = pd.DataFrame()\n",
    "for f in glob.glob(path + \"*.xlsx\"):\n",
    "    df = pd.read_excel(f)\n",
    "    df_tickets_agg = df_tickets_agg.append(df,ignore_index=True)"
   ]
  },
  {
   "cell_type": "markdown",
   "metadata": {},
   "source": [
    "#### Metabase data"
   ]
  },
  {
   "cell_type": "code",
   "execution_count": 3,
   "metadata": {},
   "outputs": [],
   "source": [
    "df_checkins = (pd.read_csv('../../Data/Metabase/checkins.csv')\n",
    "                 .filter(['person_id', 'count checkin'])\n",
    "                 .rename(columns={'count checkin':'Count_checkin'})\n",
    "              )\n",
    "df_plans = pd.read_csv('../../Data/Metabase/plan_values.csv').rename(columns={'max': 'Plan_value'})"
   ]
  },
  {
   "cell_type": "code",
   "execution_count": 4,
   "metadata": {},
   "outputs": [],
   "source": [
    "df_cancel_1 = pd.read_csv('../../Data/Metabase/cancelamentos_1.csv')\n",
    "df_cancel_2 = pd.read_csv('../../Data/Metabase/cancelamentos_2.csv')\n",
    "df_cancel = (pd.concat([df_cancel_1, df_cancel_2])\n",
    "               .filter(['person_id', 'change_to_type']))\n",
    "\n",
    "# creatin cancelation flag\n",
    "df_cancel = (df_cancel.groupby('person_id').count()\n",
    "                      .reset_index()\n",
    "                      .sort_values('change_to_type', ascending=False)\n",
    "                      .assign(Cancel=1))"
   ]
  },
  {
   "cell_type": "code",
   "execution_count": 5,
   "metadata": {},
   "outputs": [],
   "source": [
    "df_agg = pd.merge(df_tickets_agg, df_plans, how='left', left_on='Requester_ID', right_on='person_id')\n",
    "df_agg = pd.merge(df_agg, df_checkins, how='left', left_on='Requester_ID', right_on='person_id')\n",
    "df_agg = pd.merge(df_agg, df_cancel, how='left', left_on='Requester_ID', right_on='person_id')"
   ]
  },
  {
   "cell_type": "code",
   "execution_count": 6,
   "metadata": {},
   "outputs": [],
   "source": [
    "df_agg = df_agg.filter(['Requester_ID', 'Month', 'Volume_7days', 'Volume_15days',\n",
    "                'Volume_Monthly', 'ReclameAqui', 'SocialMedia', 'Tempo_Medio_Chat',\n",
    "                'Tempo_Medio_Email', 'AWT_Chat', '%NFCR', '%Insatisfação(CSAT)',\n",
    "                'CSAT_Rated', 'Plan_value', 'Count_checkin', 'Cancel'])"
   ]
  },
  {
   "cell_type": "code",
   "execution_count": 7,
   "metadata": {},
   "outputs": [
    {
     "name": "stdout",
     "output_type": "stream",
     "text": [
      "<class 'pandas.core.frame.DataFrame'>\n",
      "Int64Index: 152534 entries, 0 to 152533\n",
      "Data columns (total 16 columns):\n",
      " #   Column               Non-Null Count   Dtype  \n",
      "---  ------               --------------   -----  \n",
      " 0   Requester_ID         152534 non-null  int64  \n",
      " 1   Month                152534 non-null  object \n",
      " 2   Volume_7days         152534 non-null  int64  \n",
      " 3   Volume_15days        152534 non-null  int64  \n",
      " 4   Volume_Monthly       152534 non-null  int64  \n",
      " 5   ReclameAqui          152534 non-null  object \n",
      " 6   SocialMedia          152534 non-null  object \n",
      " 7   Tempo_Medio_Chat     152534 non-null  float64\n",
      " 8   Tempo_Medio_Email    152028 non-null  float64\n",
      " 9   AWT_Chat             152534 non-null  float64\n",
      " 10  %NFCR                152534 non-null  float64\n",
      " 11  %Insatisfação(CSAT)  152534 non-null  float64\n",
      " 12  CSAT_Rated           152534 non-null  int64  \n",
      " 13  Plan_value           96479 non-null   float64\n",
      " 14  Count_checkin        83903 non-null   float64\n",
      " 15  Cancel               20429 non-null   float64\n",
      "dtypes: float64(8), int64(5), object(3)\n",
      "memory usage: 19.8+ MB\n"
     ]
    }
   ],
   "source": [
    "df_agg.info()"
   ]
  },
  {
   "cell_type": "code",
   "execution_count": 8,
   "metadata": {},
   "outputs": [
    {
     "data": {
      "text/html": [
       "<div>\n",
       "<style scoped>\n",
       "    .dataframe tbody tr th:only-of-type {\n",
       "        vertical-align: middle;\n",
       "    }\n",
       "\n",
       "    .dataframe tbody tr th {\n",
       "        vertical-align: top;\n",
       "    }\n",
       "\n",
       "    .dataframe thead th {\n",
       "        text-align: right;\n",
       "    }\n",
       "</style>\n",
       "<table border=\"1\" class=\"dataframe\">\n",
       "  <thead>\n",
       "    <tr style=\"text-align: right;\">\n",
       "      <th></th>\n",
       "      <th>Requester_ID</th>\n",
       "      <th>Month</th>\n",
       "      <th>Volume_7days</th>\n",
       "      <th>Volume_15days</th>\n",
       "      <th>Volume_Monthly</th>\n",
       "      <th>ReclameAqui</th>\n",
       "      <th>SocialMedia</th>\n",
       "      <th>Tempo_Medio_Chat</th>\n",
       "      <th>Tempo_Medio_Email</th>\n",
       "      <th>AWT_Chat</th>\n",
       "      <th>%NFCR</th>\n",
       "      <th>%Insatisfação(CSAT)</th>\n",
       "      <th>CSAT_Rated</th>\n",
       "      <th>Plan_value</th>\n",
       "      <th>Count_checkin</th>\n",
       "      <th>Cancel</th>\n",
       "    </tr>\n",
       "  </thead>\n",
       "  <tbody>\n",
       "    <tr>\n",
       "      <th>0</th>\n",
       "      <td>10005693</td>\n",
       "      <td>2021_01</td>\n",
       "      <td>1</td>\n",
       "      <td>1</td>\n",
       "      <td>1</td>\n",
       "      <td>no</td>\n",
       "      <td>no</td>\n",
       "      <td>0.0</td>\n",
       "      <td>8795.666667</td>\n",
       "      <td>0.0</td>\n",
       "      <td>0.0</td>\n",
       "      <td>0.0</td>\n",
       "      <td>0</td>\n",
       "      <td>NaN</td>\n",
       "      <td>NaN</td>\n",
       "      <td>NaN</td>\n",
       "    </tr>\n",
       "    <tr>\n",
       "      <th>1</th>\n",
       "      <td>10008091</td>\n",
       "      <td>2021_01</td>\n",
       "      <td>1</td>\n",
       "      <td>1</td>\n",
       "      <td>1</td>\n",
       "      <td>no</td>\n",
       "      <td>no</td>\n",
       "      <td>0.0</td>\n",
       "      <td>2503.750000</td>\n",
       "      <td>0.0</td>\n",
       "      <td>0.0</td>\n",
       "      <td>0.0</td>\n",
       "      <td>0</td>\n",
       "      <td>NaN</td>\n",
       "      <td>NaN</td>\n",
       "      <td>NaN</td>\n",
       "    </tr>\n",
       "    <tr>\n",
       "      <th>2</th>\n",
       "      <td>10014513</td>\n",
       "      <td>2021_01</td>\n",
       "      <td>1</td>\n",
       "      <td>1</td>\n",
       "      <td>1</td>\n",
       "      <td>no</td>\n",
       "      <td>no</td>\n",
       "      <td>0.0</td>\n",
       "      <td>12367.208333</td>\n",
       "      <td>0.0</td>\n",
       "      <td>0.0</td>\n",
       "      <td>0.0</td>\n",
       "      <td>0</td>\n",
       "      <td>NaN</td>\n",
       "      <td>NaN</td>\n",
       "      <td>NaN</td>\n",
       "    </tr>\n",
       "  </tbody>\n",
       "</table>\n",
       "</div>"
      ],
      "text/plain": [
       "   Requester_ID    Month  Volume_7days  Volume_15days  Volume_Monthly  \\\n",
       "0      10005693  2021_01             1              1               1   \n",
       "1      10008091  2021_01             1              1               1   \n",
       "2      10014513  2021_01             1              1               1   \n",
       "\n",
       "  ReclameAqui SocialMedia  Tempo_Medio_Chat  Tempo_Medio_Email  AWT_Chat  \\\n",
       "0          no          no               0.0        8795.666667       0.0   \n",
       "1          no          no               0.0        2503.750000       0.0   \n",
       "2          no          no               0.0       12367.208333       0.0   \n",
       "\n",
       "   %NFCR  %Insatisfação(CSAT)  CSAT_Rated  Plan_value  Count_checkin  Cancel  \n",
       "0    0.0                  0.0           0         NaN            NaN     NaN  \n",
       "1    0.0                  0.0           0         NaN            NaN     NaN  \n",
       "2    0.0                  0.0           0         NaN            NaN     NaN  "
      ]
     },
     "execution_count": 8,
     "metadata": {},
     "output_type": "execute_result"
    }
   ],
   "source": [
    "df_agg.head(3)"
   ]
  },
  {
   "cell_type": "code",
   "execution_count": 9,
   "metadata": {},
   "outputs": [
    {
     "data": {
      "text/plain": [
       "Requester_ID            0.000000\n",
       "Month                   0.000000\n",
       "Volume_7days            0.000000\n",
       "Volume_15days           0.000000\n",
       "Volume_Monthly          0.000000\n",
       "ReclameAqui             0.000000\n",
       "SocialMedia             0.000000\n",
       "Tempo_Medio_Chat        0.000000\n",
       "Tempo_Medio_Email       0.331729\n",
       "AWT_Chat                0.000000\n",
       "%NFCR                   0.000000\n",
       "%Insatisfação(CSAT)     0.000000\n",
       "CSAT_Rated              0.000000\n",
       "Plan_value             36.749184\n",
       "Count_checkin          44.993903\n",
       "Cancel                 86.606920\n",
       "dtype: float64"
      ]
     },
     "execution_count": 9,
     "metadata": {},
     "output_type": "execute_result"
    }
   ],
   "source": [
    "df_agg.isnull().mean() * 100"
   ]
  },
  {
   "cell_type": "code",
   "execution_count": 10,
   "metadata": {},
   "outputs": [
    {
     "data": {
      "text/plain": [
       "<AxesSubplot:>"
      ]
     },
     "execution_count": 10,
     "metadata": {},
     "output_type": "execute_result"
    },
    {
     "data": {
      "image/png": "[encoded data removed]",
      "text/plain": [
       "<Figure size 1800x720 with 2 Axes>"
      ]
     },
     "metadata": {
      "needs_background": "light"
     },
     "output_type": "display_data"
    }
   ],
   "source": [
    "import missingno as msno\n",
    "%matplotlib inline\n",
    "msno.matrix(df_agg)"
   ]
  },
  {
   "cell_type": "markdown",
   "metadata": {},
   "source": [
    "# Data Manipulation"
   ]
  },
  {
   "cell_type": "markdown",
   "metadata": {},
   "source": [
    "#### Data Preparation"
   ]
  },
  {
   "cell_type": "code",
   "execution_count": 11,
   "metadata": {},
   "outputs": [],
   "source": [
    "# Every Volume Chat, E-mail, Social NaN is zero\n",
    "df_agg.Tempo_Medio_Chat.loc[df_agg.Tempo_Medio_Chat.isna()] = 0\n",
    "df_agg.Tempo_Medio_Email.loc[df_agg.Tempo_Medio_Email.isna()] = 0\n",
    "\n",
    "# Assuming that checkin==NaN is everyone who has median checked in (can be mistake on matebase query)\n",
    "df_agg['Count_checkin'].loc[df_agg['Count_checkin'].isna()] = df_agg.Count_checkin.median()\n",
    "\n",
    "# Assuming that cancel is NaN is every one who has not tried to cancel (can be mistake on matebase query)\n",
    "df_agg.Cancel.loc[df_agg.Cancel.isna()] = 0\n",
    "\n",
    "df_agg.Plan_value[df_agg.Plan_value.isna()] = df_agg.Plan_value.median()\n",
    "\n",
    "df_agg.AWT_Chat.loc[df_agg.AWT_Chat.isna()] = 0"
   ]
  },
  {
   "cell_type": "code",
   "execution_count": 12,
   "metadata": {},
   "outputs": [],
   "source": [
    "#from pandas_profiling import ProfileReport\n",
    "#prof = ProfileReport(df_agg)\n",
    "#prof"
   ]
  },
  {
   "cell_type": "markdown",
   "metadata": {},
   "source": [
    "#### Target Creation"
   ]
  },
  {
   "cell_type": "code",
   "execution_count": 13,
   "metadata": {},
   "outputs": [
    {
     "data": {
      "text/html": [
       "<div>\n",
       "<style scoped>\n",
       "    .dataframe tbody tr th:only-of-type {\n",
       "        vertical-align: middle;\n",
       "    }\n",
       "\n",
       "    .dataframe tbody tr th {\n",
       "        vertical-align: top;\n",
       "    }\n",
       "\n",
       "    .dataframe thead th {\n",
       "        text-align: right;\n",
       "    }\n",
       "</style>\n",
       "<table border=\"1\" class=\"dataframe\">\n",
       "  <thead>\n",
       "    <tr style=\"text-align: right;\">\n",
       "      <th></th>\n",
       "      <th>Requester_ID</th>\n",
       "      <th>Month</th>\n",
       "      <th>Volume_7days</th>\n",
       "      <th>Volume_15days</th>\n",
       "      <th>Volume_Monthly</th>\n",
       "      <th>ReclameAqui</th>\n",
       "      <th>SocialMedia</th>\n",
       "      <th>Tempo_Medio_Chat</th>\n",
       "      <th>Tempo_Medio_Email</th>\n",
       "      <th>AWT_Chat</th>\n",
       "      <th>%NFCR</th>\n",
       "      <th>%Insatisfação(CSAT)</th>\n",
       "      <th>CSAT_Rated</th>\n",
       "      <th>Plan_value</th>\n",
       "      <th>Count_checkin</th>\n",
       "      <th>Cancel</th>\n",
       "    </tr>\n",
       "  </thead>\n",
       "  <tbody>\n",
       "    <tr>\n",
       "      <th>0</th>\n",
       "      <td>10005693</td>\n",
       "      <td>2021_01</td>\n",
       "      <td>1</td>\n",
       "      <td>1</td>\n",
       "      <td>1</td>\n",
       "      <td>no</td>\n",
       "      <td>no</td>\n",
       "      <td>0.0</td>\n",
       "      <td>8795.666667</td>\n",
       "      <td>0.0</td>\n",
       "      <td>0.0</td>\n",
       "      <td>0.0</td>\n",
       "      <td>0</td>\n",
       "      <td>119.9</td>\n",
       "      <td>15.0</td>\n",
       "      <td>0.0</td>\n",
       "    </tr>\n",
       "    <tr>\n",
       "      <th>1</th>\n",
       "      <td>10008091</td>\n",
       "      <td>2021_01</td>\n",
       "      <td>1</td>\n",
       "      <td>1</td>\n",
       "      <td>1</td>\n",
       "      <td>no</td>\n",
       "      <td>no</td>\n",
       "      <td>0.0</td>\n",
       "      <td>2503.750000</td>\n",
       "      <td>0.0</td>\n",
       "      <td>0.0</td>\n",
       "      <td>0.0</td>\n",
       "      <td>0</td>\n",
       "      <td>119.9</td>\n",
       "      <td>15.0</td>\n",
       "      <td>0.0</td>\n",
       "    </tr>\n",
       "    <tr>\n",
       "      <th>2</th>\n",
       "      <td>10014513</td>\n",
       "      <td>2021_01</td>\n",
       "      <td>1</td>\n",
       "      <td>1</td>\n",
       "      <td>1</td>\n",
       "      <td>no</td>\n",
       "      <td>no</td>\n",
       "      <td>0.0</td>\n",
       "      <td>12367.208333</td>\n",
       "      <td>0.0</td>\n",
       "      <td>0.0</td>\n",
       "      <td>0.0</td>\n",
       "      <td>0</td>\n",
       "      <td>119.9</td>\n",
       "      <td>15.0</td>\n",
       "      <td>0.0</td>\n",
       "    </tr>\n",
       "  </tbody>\n",
       "</table>\n",
       "</div>"
      ],
      "text/plain": [
       "   Requester_ID    Month  Volume_7days  Volume_15days  Volume_Monthly  \\\n",
       "0      10005693  2021_01             1              1               1   \n",
       "1      10008091  2021_01             1              1               1   \n",
       "2      10014513  2021_01             1              1               1   \n",
       "\n",
       "  ReclameAqui SocialMedia  Tempo_Medio_Chat  Tempo_Medio_Email  AWT_Chat  \\\n",
       "0          no          no               0.0        8795.666667       0.0   \n",
       "1          no          no               0.0        2503.750000       0.0   \n",
       "2          no          no               0.0       12367.208333       0.0   \n",
       "\n",
       "   %NFCR  %Insatisfação(CSAT)  CSAT_Rated  Plan_value  Count_checkin  Cancel  \n",
       "0    0.0                  0.0           0       119.9           15.0     0.0  \n",
       "1    0.0                  0.0           0       119.9           15.0     0.0  \n",
       "2    0.0                  0.0           0       119.9           15.0     0.0  "
      ]
     },
     "execution_count": 13,
     "metadata": {},
     "output_type": "execute_result"
    }
   ],
   "source": [
    "df_agg.head(3)"
   ]
  },
  {
   "cell_type": "code",
   "execution_count": 29,
   "metadata": {},
   "outputs": [],
   "source": [
    "df_agg['Target'] = 0\n",
    "\n",
    "df_agg.Target.loc[#(df_agg.Volume_7days>3) |\n",
    "                  #(df_agg.Volume_15days>3) |\n",
    "                  #(df_agg.Volume_Monthly==4) |\n",
    "                   (df_agg.ReclameAqui=='yes') \n",
    "                   #|(df_agg['%Insatisfação(CSAT)']==1) |\n",
    "                   #(df_agg['%NFCR']==1)\n",
    "                   ] = 1"
   ]
  },
  {
   "cell_type": "code",
   "execution_count": 30,
   "metadata": {},
   "outputs": [
    {
     "name": "stdout",
     "output_type": "stream",
     "text": [
      "0    152131\n",
      "1       403\n",
      "Name: Target, dtype: int64 \n",
      "\n"
     ]
    },
    {
     "data": {
      "text/plain": [
       "<AxesSubplot:title={'center':'target'}>"
      ]
     },
     "execution_count": 30,
     "metadata": {},
     "output_type": "execute_result"
    },
    {
     "data": {
      "image/png": "[encoded data removed]",
      "text/plain": [
       "<Figure size 432x288 with 1 Axes>"
      ]
     },
     "metadata": {
      "needs_background": "light"
     },
     "output_type": "display_data"
    }
   ],
   "source": [
    "print(df_agg.Target.value_counts(), '\\n')\n",
    "df_agg.Target.value_counts().plot(kind='bar', title='target')"
   ]
  },
  {
   "cell_type": "markdown",
   "metadata": {},
   "source": [
    "#### Data Scaling"
   ]
  },
  {
   "cell_type": "markdown",
   "metadata": {},
   "source": [
    "# Modeling"
   ]
  },
  {
   "cell_type": "markdown",
   "metadata": {},
   "source": [
    "#### Modeling With DownSamples"
   ]
  },
  {
   "cell_type": "code",
   "execution_count": 31,
   "metadata": {},
   "outputs": [],
   "source": [
    "df = df_agg"
   ]
  },
  {
   "cell_type": "code",
   "execution_count": 32,
   "metadata": {},
   "outputs": [
    {
     "data": {
      "text/plain": [
       "1    403\n",
       "0    403\n",
       "Name: Target, dtype: int64"
      ]
     },
     "execution_count": 32,
     "metadata": {},
     "output_type": "execute_result"
    }
   ],
   "source": [
    "# Down-sample majority class\n",
    "from sklearn.utils import resample\n",
    "\n",
    "df_majority = df[df.Target == 0]\n",
    "df_minority = df[df.Target == 1]\n",
    "\n",
    "df_majority_downsampled = resample(df_majority,\n",
    "                                   replace=False,\n",
    "                                   n_samples=df_minority.shape[0],\n",
    "                                   random_state=42)\n",
    "\n",
    "df_downsampled = pd.concat([df_majority_downsampled, df_minority])\n",
    "\n",
    "df_downsampled.Target.value_counts()"
   ]
  },
  {
   "cell_type": "markdown",
   "metadata": {},
   "source": [
    "#### Traning and Testing sets"
   ]
  },
  {
   "cell_type": "code",
   "execution_count": 33,
   "metadata": {},
   "outputs": [],
   "source": [
    "features = ['Volume_7days', 'Volume_15days',\n",
    "            'Volume_Monthly', 'Tempo_Medio_Chat',\n",
    "            'Tempo_Medio_Email', 'AWT_Chat',\n",
    "            '%NFCR', '%Insatisfação(CSAT)',\n",
    "            'CSAT_Rated', 'Plan_value', \n",
    "            'Count_checkin', 'Cancel']"
   ]
  },
  {
   "cell_type": "code",
   "execution_count": 34,
   "metadata": {},
   "outputs": [],
   "source": [
    "from sklearn.model_selection import train_test_split\n",
    "y = df_downsampled.Target\n",
    "X = df_downsampled.filter(features)\n",
    "X_train, X_test, y_train, y_test = train_test_split(X, y, test_size=0.25, random_state=42)"
   ]
  },
  {
   "cell_type": "markdown",
   "metadata": {},
   "source": [
    "## Decision Tree"
   ]
  },
  {
   "cell_type": "code",
   "execution_count": 35,
   "metadata": {},
   "outputs": [],
   "source": [
    "from sklearn.tree import DecisionTreeClassifier\n",
    "from sklearn.tree import export_text\n",
    "\n",
    "classifier_tree = DecisionTreeClassifier(random_state=0, max_depth=2)\n",
    "classifier_tree = classifier_tree.fit(X_train, y_train)\n",
    "# Predicting the Test set results\n",
    "y_pred_tree = classifier_tree.predict(X_test)"
   ]
  },
  {
   "cell_type": "code",
   "execution_count": 36,
   "metadata": {},
   "outputs": [
    {
     "name": "stdout",
     "output_type": "stream",
     "text": [
      "Accuracy = 0.61 \n",
      "Recall = 0.47\n"
     ]
    },
    {
     "data": {
      "image/png": "[encoded data removed]",
      "text/plain": [
       "<Figure size 432x288 with 2 Axes>"
      ]
     },
     "metadata": {
      "needs_background": "light"
     },
     "output_type": "display_data"
    }
   ],
   "source": [
    "from sklearn.metrics import confusion_matrix\n",
    "from sklearn.metrics import accuracy_score, recall_score\n",
    "\n",
    "print(f'Accuracy = {accuracy_score(y_test, y_pred_tree):.2f} \\nRecall = {recall_score(y_test, y_pred_tree):.2f}')\n",
    "\n",
    "cm_rf = confusion_matrix(y_test, y_pred_tree)\n",
    "plt.title('Confusion Matrix (Random Forest)', size=16)\n",
    "sns.heatmap(cm_rf, annot=True, fmt='.2f', cmap='Blues')\n",
    "plt.show()"
   ]
  },
  {
   "cell_type": "code",
   "execution_count": 37,
   "metadata": {},
   "outputs": [
    {
     "data": {
      "image/png": "[encoded data removed]",
      "text/plain": [
       "<Figure size 432x288 with 1 Axes>"
      ]
     },
     "metadata": {
      "needs_background": "light"
     },
     "output_type": "display_data"
    }
   ],
   "source": [
    "from sklearn import tree\n",
    "_ = tree.plot_tree(classifier_tree,\n",
    "                   feature_names=X_train.columns,\n",
    "                   class_names=['non_critical', 'critical'], # Names of each of the target classes in ascending numerical order.\n",
    "                   filled=True)"
   ]
  },
  {
   "cell_type": "markdown",
   "metadata": {},
   "source": [
    "## Random  Forest"
   ]
  },
  {
   "cell_type": "code",
   "execution_count": 38,
   "metadata": {},
   "outputs": [],
   "source": [
    "# Fitting Random Forest Classification to the Training set\n",
    "from sklearn.ensemble import RandomForestClassifier\n",
    "classifier_rf = RandomForestClassifier(n_estimators = 100,\n",
    "                                       max_depth=4,\n",
    "                                       criterion = 'entropy', \n",
    "                                       random_state = 0)\n",
    "classifier_rf.fit(X_train, y_train)\n",
    "\n",
    "# Predicting the Test set results\n",
    "y_pred_rf = classifier_rf.predict(X_test)\n",
    "\n",
    "# K-foldcross validation\n",
    "from sklearn.model_selection import cross_val_score\n",
    "accuracies_rf = cross_val_score(estimator = classifier_rf, X = X_train, y = y_train, cv = 10, n_jobs = -1)\n",
    "mean_rf = accuracies_rf.mean()\n",
    "variance_rf = accuracies_rf.std()"
   ]
  },
  {
   "cell_type": "code",
   "execution_count": 39,
   "metadata": {},
   "outputs": [
    {
     "name": "stdout",
     "output_type": "stream",
     "text": [
      "Accuracy = 0.68 \n",
      "Recall = 0.63\n"
     ]
    },
    {
     "data": {
      "image/png": "[encoded data removed]",
      "text/plain": [
       "<Figure size 432x288 with 2 Axes>"
      ]
     },
     "metadata": {
      "needs_background": "light"
     },
     "output_type": "display_data"
    }
   ],
   "source": [
    "from sklearn.metrics import confusion_matrix\n",
    "from sklearn.metrics import accuracy_score, recall_score\n",
    "\n",
    "print(f'Accuracy = {accuracy_score(y_test, y_pred_rf):.2f} \\nRecall = {recall_score(y_test, y_pred_rf):.2f}')\n",
    "\n",
    "cm_rf = confusion_matrix(y_test, y_pred_rf)\n",
    "plt.title('Confusion Matrix (Random Forest)', size=16)\n",
    "sns.heatmap(cm_rf, annot=True, fmt='.2f', cmap='Blues')\n",
    "plt.show()"
   ]
  },
  {
   "cell_type": "code",
   "execution_count": 40,
   "metadata": {},
   "outputs": [
    {
     "data": {
      "image/png": "[encoded data removed]",
      "text/plain": [
       "<Figure size 432x288 with 1 Axes>"
      ]
     },
     "metadata": {
      "needs_background": "light"
     },
     "output_type": "display_data"
    }
   ],
   "source": [
    "#ROC\n",
    "import scikitplot as skplt #to make things easy\n",
    "y_pred_proba = classifier_rf.predict_proba(X_test)\n",
    "skplt.metrics.plot_roc_curve(y_test, y_pred_proba)\n",
    "plt.title(\"ROC Curves - Random Forest\")\n",
    "plt.show()"
   ]
  },
  {
   "cell_type": "code",
   "execution_count": 41,
   "metadata": {},
   "outputs": [
    {
     "data": {
      "text/plain": [
       "Text(0.5, 0, 'Random Forest Feature Importance')"
      ]
     },
     "execution_count": 41,
     "metadata": {},
     "output_type": "execute_result"
    },
    {
     "data": {
      "image/png": "[encoded data removed]",
      "text/plain": [
       "<Figure size 432x288 with 1 Axes>"
      ]
     },
     "metadata": {
      "needs_background": "light"
     },
     "output_type": "display_data"
    }
   ],
   "source": [
    "fi = pd.DataFrame({'feature': list(X_train.columns),\n",
    "                   'importance': classifier_rf.feature_importances_}).\\\n",
    "                    sort_values('importance', ascending = False)\n",
    "plt.barh(fi.feature,fi.importance)\n",
    "plt.xlabel(\"Random Forest Feature Importance\")"
   ]
  },
  {
   "cell_type": "markdown",
   "metadata": {},
   "source": [
    "### Output Model"
   ]
  },
  {
   "cell_type": "code",
   "execution_count": 46,
   "metadata": {},
   "outputs": [
    {
     "data": {
      "text/html": [
       "<div>\n",
       "<style scoped>\n",
       "    .dataframe tbody tr th:only-of-type {\n",
       "        vertical-align: middle;\n",
       "    }\n",
       "\n",
       "    .dataframe tbody tr th {\n",
       "        vertical-align: top;\n",
       "    }\n",
       "\n",
       "    .dataframe thead th {\n",
       "        text-align: right;\n",
       "    }\n",
       "</style>\n",
       "<table border=\"1\" class=\"dataframe\">\n",
       "  <thead>\n",
       "    <tr style=\"text-align: right;\">\n",
       "      <th></th>\n",
       "      <th>Volume_7days</th>\n",
       "      <th>Volume_15days</th>\n",
       "      <th>Volume_Monthly</th>\n",
       "      <th>Tempo_Medio_Chat</th>\n",
       "      <th>Tempo_Medio_Email</th>\n",
       "      <th>AWT_Chat</th>\n",
       "      <th>%NFCR</th>\n",
       "      <th>%Insatisfação(CSAT)</th>\n",
       "      <th>CSAT_Rated</th>\n",
       "      <th>Plan_value</th>\n",
       "      <th>Count_checkin</th>\n",
       "      <th>Cancel</th>\n",
       "      <th>Target</th>\n",
       "      <th>Prob</th>\n",
       "    </tr>\n",
       "  </thead>\n",
       "  <tbody>\n",
       "    <tr>\n",
       "      <th>0</th>\n",
       "      <td>NaN</td>\n",
       "      <td>NaN</td>\n",
       "      <td>NaN</td>\n",
       "      <td>NaN</td>\n",
       "      <td>NaN</td>\n",
       "      <td>NaN</td>\n",
       "      <td>NaN</td>\n",
       "      <td>NaN</td>\n",
       "      <td>NaN</td>\n",
       "      <td>NaN</td>\n",
       "      <td>NaN</td>\n",
       "      <td>NaN</td>\n",
       "      <td>NaN</td>\n",
       "      <td>0.644052</td>\n",
       "    </tr>\n",
       "    <tr>\n",
       "      <th>1</th>\n",
       "      <td>NaN</td>\n",
       "      <td>NaN</td>\n",
       "      <td>NaN</td>\n",
       "      <td>NaN</td>\n",
       "      <td>NaN</td>\n",
       "      <td>NaN</td>\n",
       "      <td>NaN</td>\n",
       "      <td>NaN</td>\n",
       "      <td>NaN</td>\n",
       "      <td>NaN</td>\n",
       "      <td>NaN</td>\n",
       "      <td>NaN</td>\n",
       "      <td>NaN</td>\n",
       "      <td>0.567396</td>\n",
       "    </tr>\n",
       "    <tr>\n",
       "      <th>2</th>\n",
       "      <td>NaN</td>\n",
       "      <td>NaN</td>\n",
       "      <td>NaN</td>\n",
       "      <td>NaN</td>\n",
       "      <td>NaN</td>\n",
       "      <td>NaN</td>\n",
       "      <td>NaN</td>\n",
       "      <td>NaN</td>\n",
       "      <td>NaN</td>\n",
       "      <td>NaN</td>\n",
       "      <td>NaN</td>\n",
       "      <td>NaN</td>\n",
       "      <td>NaN</td>\n",
       "      <td>0.297182</td>\n",
       "    </tr>\n",
       "    <tr>\n",
       "      <th>3</th>\n",
       "      <td>NaN</td>\n",
       "      <td>NaN</td>\n",
       "      <td>NaN</td>\n",
       "      <td>NaN</td>\n",
       "      <td>NaN</td>\n",
       "      <td>NaN</td>\n",
       "      <td>NaN</td>\n",
       "      <td>NaN</td>\n",
       "      <td>NaN</td>\n",
       "      <td>NaN</td>\n",
       "      <td>NaN</td>\n",
       "      <td>NaN</td>\n",
       "      <td>NaN</td>\n",
       "      <td>0.307818</td>\n",
       "    </tr>\n",
       "    <tr>\n",
       "      <th>4</th>\n",
       "      <td>NaN</td>\n",
       "      <td>NaN</td>\n",
       "      <td>NaN</td>\n",
       "      <td>NaN</td>\n",
       "      <td>NaN</td>\n",
       "      <td>NaN</td>\n",
       "      <td>NaN</td>\n",
       "      <td>NaN</td>\n",
       "      <td>NaN</td>\n",
       "      <td>NaN</td>\n",
       "      <td>NaN</td>\n",
       "      <td>NaN</td>\n",
       "      <td>NaN</td>\n",
       "      <td>0.623250</td>\n",
       "    </tr>\n",
       "    <tr>\n",
       "      <th>...</th>\n",
       "      <td>...</td>\n",
       "      <td>...</td>\n",
       "      <td>...</td>\n",
       "      <td>...</td>\n",
       "      <td>...</td>\n",
       "      <td>...</td>\n",
       "      <td>...</td>\n",
       "      <td>...</td>\n",
       "      <td>...</td>\n",
       "      <td>...</td>\n",
       "      <td>...</td>\n",
       "      <td>...</td>\n",
       "      <td>...</td>\n",
       "      <td>...</td>\n",
       "    </tr>\n",
       "    <tr>\n",
       "      <th>151061</th>\n",
       "      <td>0.0</td>\n",
       "      <td>1.0</td>\n",
       "      <td>1.0</td>\n",
       "      <td>2189.5550</td>\n",
       "      <td>0.0</td>\n",
       "      <td>607.0</td>\n",
       "      <td>0.0</td>\n",
       "      <td>1.0</td>\n",
       "      <td>1.0</td>\n",
       "      <td>30.94</td>\n",
       "      <td>9.0</td>\n",
       "      <td>0.0</td>\n",
       "      <td>1.0</td>\n",
       "      <td>NaN</td>\n",
       "    </tr>\n",
       "    <tr>\n",
       "      <th>151214</th>\n",
       "      <td>0.0</td>\n",
       "      <td>1.0</td>\n",
       "      <td>2.0</td>\n",
       "      <td>2440.2905</td>\n",
       "      <td>0.0</td>\n",
       "      <td>428.5</td>\n",
       "      <td>0.5</td>\n",
       "      <td>0.0</td>\n",
       "      <td>0.0</td>\n",
       "      <td>119.90</td>\n",
       "      <td>31.0</td>\n",
       "      <td>0.0</td>\n",
       "      <td>1.0</td>\n",
       "      <td>NaN</td>\n",
       "    </tr>\n",
       "    <tr>\n",
       "      <th>151455</th>\n",
       "      <td>0.0</td>\n",
       "      <td>0.0</td>\n",
       "      <td>1.0</td>\n",
       "      <td>1196.8840</td>\n",
       "      <td>0.0</td>\n",
       "      <td>23.0</td>\n",
       "      <td>0.0</td>\n",
       "      <td>0.0</td>\n",
       "      <td>0.0</td>\n",
       "      <td>159.90</td>\n",
       "      <td>15.0</td>\n",
       "      <td>1.0</td>\n",
       "      <td>0.0</td>\n",
       "      <td>NaN</td>\n",
       "    </tr>\n",
       "    <tr>\n",
       "      <th>151532</th>\n",
       "      <td>0.0</td>\n",
       "      <td>0.0</td>\n",
       "      <td>1.0</td>\n",
       "      <td>615.2540</td>\n",
       "      <td>0.0</td>\n",
       "      <td>331.0</td>\n",
       "      <td>0.0</td>\n",
       "      <td>0.0</td>\n",
       "      <td>0.0</td>\n",
       "      <td>119.90</td>\n",
       "      <td>15.0</td>\n",
       "      <td>0.0</td>\n",
       "      <td>0.0</td>\n",
       "      <td>NaN</td>\n",
       "    </tr>\n",
       "    <tr>\n",
       "      <th>152075</th>\n",
       "      <td>1.0</td>\n",
       "      <td>1.0</td>\n",
       "      <td>1.0</td>\n",
       "      <td>1636.4510</td>\n",
       "      <td>0.0</td>\n",
       "      <td>390.0</td>\n",
       "      <td>0.0</td>\n",
       "      <td>0.0</td>\n",
       "      <td>1.0</td>\n",
       "      <td>119.90</td>\n",
       "      <td>15.0</td>\n",
       "      <td>0.0</td>\n",
       "      <td>0.0</td>\n",
       "      <td>NaN</td>\n",
       "    </tr>\n",
       "  </tbody>\n",
       "</table>\n",
       "<p>404 rows × 14 columns</p>\n",
       "</div>"
      ],
      "text/plain": [
       "        Volume_7days  Volume_15days  Volume_Monthly  Tempo_Medio_Chat  \\\n",
       "0                NaN            NaN             NaN               NaN   \n",
       "1                NaN            NaN             NaN               NaN   \n",
       "2                NaN            NaN             NaN               NaN   \n",
       "3                NaN            NaN             NaN               NaN   \n",
       "4                NaN            NaN             NaN               NaN   \n",
       "...              ...            ...             ...               ...   \n",
       "151061           0.0            1.0             1.0         2189.5550   \n",
       "151214           0.0            1.0             2.0         2440.2905   \n",
       "151455           0.0            0.0             1.0         1196.8840   \n",
       "151532           0.0            0.0             1.0          615.2540   \n",
       "152075           1.0            1.0             1.0         1636.4510   \n",
       "\n",
       "        Tempo_Medio_Email  AWT_Chat  %NFCR  %Insatisfação(CSAT)  CSAT_Rated  \\\n",
       "0                     NaN       NaN    NaN                  NaN         NaN   \n",
       "1                     NaN       NaN    NaN                  NaN         NaN   \n",
       "2                     NaN       NaN    NaN                  NaN         NaN   \n",
       "3                     NaN       NaN    NaN                  NaN         NaN   \n",
       "4                     NaN       NaN    NaN                  NaN         NaN   \n",
       "...                   ...       ...    ...                  ...         ...   \n",
       "151061                0.0     607.0    0.0                  1.0         1.0   \n",
       "151214                0.0     428.5    0.5                  0.0         0.0   \n",
       "151455                0.0      23.0    0.0                  0.0         0.0   \n",
       "151532                0.0     331.0    0.0                  0.0         0.0   \n",
       "152075                0.0     390.0    0.0                  0.0         1.0   \n",
       "\n",
       "        Plan_value  Count_checkin  Cancel  Target      Prob  \n",
       "0              NaN            NaN     NaN     NaN  0.644052  \n",
       "1              NaN            NaN     NaN     NaN  0.567396  \n",
       "2              NaN            NaN     NaN     NaN  0.297182  \n",
       "3              NaN            NaN     NaN     NaN  0.307818  \n",
       "4              NaN            NaN     NaN     NaN  0.623250  \n",
       "...            ...            ...     ...     ...       ...  \n",
       "151061       30.94            9.0     0.0     1.0       NaN  \n",
       "151214      119.90           31.0     0.0     1.0       NaN  \n",
       "151455      159.90           15.0     1.0     0.0       NaN  \n",
       "151532      119.90           15.0     0.0     0.0       NaN  \n",
       "152075      119.90           15.0     0.0     0.0       NaN  \n",
       "\n",
       "[404 rows x 14 columns]"
      ]
     },
     "execution_count": 46,
     "metadata": {},
     "output_type": "execute_result"
    }
   ],
   "source": [
    "df_prob = pd.DataFrame({'Prob': classifier_rf.predict_proba(X_test)[:,-1]})\n",
    "x_test = pd.concat([X_test, y_test], axis=1)\n",
    "pd.concat([x_test, df_prob], axis=1)"
   ]
  },
  {
   "cell_type": "code",
   "execution_count": 43,
   "metadata": {},
   "outputs": [],
   "source": [
    "df_output = X_test.assign(Pred=classifier_rf.predict_proba(X_test)[:,-1])"
   ]
  },
  {
   "cell_type": "code",
   "execution_count": 44,
   "metadata": {},
   "outputs": [
    {
     "data": {
      "text/html": [
       "<div>\n",
       "<style scoped>\n",
       "    .dataframe tbody tr th:only-of-type {\n",
       "        vertical-align: middle;\n",
       "    }\n",
       "\n",
       "    .dataframe tbody tr th {\n",
       "        vertical-align: top;\n",
       "    }\n",
       "\n",
       "    .dataframe thead th {\n",
       "        text-align: right;\n",
       "    }\n",
       "</style>\n",
       "<table border=\"1\" class=\"dataframe\">\n",
       "  <thead>\n",
       "    <tr style=\"text-align: right;\">\n",
       "      <th></th>\n",
       "      <th>Volume_7days</th>\n",
       "      <th>Volume_15days</th>\n",
       "      <th>Volume_Monthly</th>\n",
       "      <th>Tempo_Medio_Chat</th>\n",
       "      <th>Tempo_Medio_Email</th>\n",
       "      <th>AWT_Chat</th>\n",
       "      <th>%NFCR</th>\n",
       "      <th>%Insatisfação(CSAT)</th>\n",
       "      <th>CSAT_Rated</th>\n",
       "      <th>Plan_value</th>\n",
       "      <th>Count_checkin</th>\n",
       "      <th>Cancel</th>\n",
       "      <th>Pred</th>\n",
       "    </tr>\n",
       "  </thead>\n",
       "  <tbody>\n",
       "    <tr>\n",
       "      <th>109155</th>\n",
       "      <td>1</td>\n",
       "      <td>1</td>\n",
       "      <td>1</td>\n",
       "      <td>0.000</td>\n",
       "      <td>9325.75</td>\n",
       "      <td>0.0</td>\n",
       "      <td>0.0</td>\n",
       "      <td>0.0</td>\n",
       "      <td>0</td>\n",
       "      <td>259.9</td>\n",
       "      <td>27.0</td>\n",
       "      <td>1.0</td>\n",
       "      <td>0.644052</td>\n",
       "    </tr>\n",
       "    <tr>\n",
       "      <th>140915</th>\n",
       "      <td>1</td>\n",
       "      <td>1</td>\n",
       "      <td>1</td>\n",
       "      <td>471.636</td>\n",
       "      <td>0.00</td>\n",
       "      <td>1183.0</td>\n",
       "      <td>0.0</td>\n",
       "      <td>0.0</td>\n",
       "      <td>1</td>\n",
       "      <td>119.9</td>\n",
       "      <td>3.0</td>\n",
       "      <td>1.0</td>\n",
       "      <td>0.567396</td>\n",
       "    </tr>\n",
       "    <tr>\n",
       "      <th>89606</th>\n",
       "      <td>0</td>\n",
       "      <td>0</td>\n",
       "      <td>1</td>\n",
       "      <td>0.000</td>\n",
       "      <td>15153.25</td>\n",
       "      <td>0.0</td>\n",
       "      <td>0.0</td>\n",
       "      <td>0.0</td>\n",
       "      <td>0</td>\n",
       "      <td>119.9</td>\n",
       "      <td>15.0</td>\n",
       "      <td>0.0</td>\n",
       "      <td>0.297182</td>\n",
       "    </tr>\n",
       "  </tbody>\n",
       "</table>\n",
       "</div>"
      ],
      "text/plain": [
       "        Volume_7days  Volume_15days  Volume_Monthly  Tempo_Medio_Chat  \\\n",
       "109155             1              1               1             0.000   \n",
       "140915             1              1               1           471.636   \n",
       "89606              0              0               1             0.000   \n",
       "\n",
       "        Tempo_Medio_Email  AWT_Chat  %NFCR  %Insatisfação(CSAT)  CSAT_Rated  \\\n",
       "109155            9325.75       0.0    0.0                  0.0           0   \n",
       "140915               0.00    1183.0    0.0                  0.0           1   \n",
       "89606            15153.25       0.0    0.0                  0.0           0   \n",
       "\n",
       "        Plan_value  Count_checkin  Cancel      Pred  \n",
       "109155       259.9           27.0     1.0  0.644052  \n",
       "140915       119.9            3.0     1.0  0.567396  \n",
       "89606        119.9           15.0     0.0  0.297182  "
      ]
     },
     "execution_count": 44,
     "metadata": {},
     "output_type": "execute_result"
    }
   ],
   "source": [
    "df_output.head(3)"
   ]
  },
  {
   "cell_type": "code",
   "execution_count": null,
   "metadata": {},
   "outputs": [],
   "source": []
  }
 ],
 "metadata": {
  "hide_input": false,
  "kernelspec": {
   "display_name": "Python 3",
   "language": "python",
   "name": "python3"
  },
  "language_info": {
   "codemirror_mode": {
    "name": "ipython",
    "version": 3
   },
   "file_extension": ".py",
   "mimetype": "text/x-python",
   "name": "python",
   "nbconvert_exporter": "python",
   "pygments_lexer": "ipython3",
   "version": "3.8.5"
  },
  "toc": {
   "base_numbering": 1,
   "nav_menu": {},
   "number_sections": true,
   "sideBar": true,
   "skip_h1_title": false,
   "title_cell": "Table of Contents",
   "title_sidebar": "Contents",
   "toc_cell": false,
   "toc_position": {
    "height": "calc(100% - 180px)",
    "left": "10px",
    "top": "150px",
    "width": "295.663px"
   },
   "toc_section_display": true,
   "toc_window_display": true
  },
  "varInspector": {
   "cols": {
    "lenName": 16,
    "lenType": 16,
    "lenVar": 40
   },
   "kernels_config": {
    "python": {
     "delete_cmd_postfix": "",
     "delete_cmd_prefix": "del ",
     "library": "var_list.py",
     "varRefreshCmd": "print(var_dic_list())"
    },
    "r": {
     "delete_cmd_postfix": ") ",
     "delete_cmd_prefix": "rm(",
     "library": "var_list.r",
     "varRefreshCmd": "cat(var_dic_list()) "
    }
   },
   "types_to_exclude": [
    "module",
    "function",
    "builtin_function_or_method",
    "instance",
    "_Feature"
   ],
   "window_display": false
  }
 },
 "nbformat": 4,
 "nbformat_minor": 4
}
