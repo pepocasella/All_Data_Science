{
 "cells": [
  {
   "cell_type": "code",
   "execution_count": 144,
   "metadata": {},
   "outputs": [],
   "source": [
    "import os\n",
    "import pandas as pd\n",
    "import numpy as np\n",
    "\n",
    "import matplotlib.pyplot as plt\n",
    "plt.rcParams['figure.figsize'] = (10,6)\n",
    "plt.rcParams['axes.titlesize'] = 24\n",
    "plt.rcParams['axes.labelsize'] = 20\n",
    "plt.rcParams['lines.linewidth'] = 3\n",
    "plt.rcParams['lines.markersize'] = 10\n",
    "plt.rcParams['xtick.labelsize'] = 16\n",
    "plt.rcParams['ytick.labelsize'] = 16\n",
    "\n",
    "import seaborn as sns\n",
    "sns.set(style=\"white\")\n",
    "sns.set(style=\"whitegrid\", color_codes=True)\n",
    "\n",
    "import os\n",
    "import glob\n",
    "\n",
    "\n",
    "import warnings\n",
    "warnings.filterwarnings('ignore')"
   ]
  },
  {
   "cell_type": "markdown",
   "metadata": {},
   "source": [
    "# Import Data"
   ]
  },
  {
   "cell_type": "markdown",
   "metadata": {},
   "source": [
    "#### Zendesk Agg"
   ]
  },
  {
   "cell_type": "code",
   "execution_count": 52,
   "metadata": {},
   "outputs": [],
   "source": [
    "path = '../../Data/Zendesk/'\n",
    "\n",
    "df_tickets_agg = pd.DataFrame()\n",
    "for f in glob.glob(path + \"*.xlsx\"):\n",
    "    df = pd.read_excel(f)\n",
    "    df_tickets_agg = df_tickets_agg.append(df,ignore_index=True)"
   ]
  },
  {
   "cell_type": "markdown",
   "metadata": {},
   "source": [
    "#### Metabase data"
   ]
  },
  {
   "cell_type": "code",
   "execution_count": 53,
   "metadata": {},
   "outputs": [],
   "source": [
    "df_checkins = (pd.read_csv('../../Data/Metabase/checkins.csv')\n",
    "                 .filter(['person_id', 'count checkin'])\n",
    "                 .rename(columns={'count checkin':'Count_checkin'})\n",
    "              )\n",
    "df_plans = pd.read_csv('../../Data/Metabase/plan_values.csv').rename(columns={'max': 'Plan_value'})"
   ]
  },
  {
   "cell_type": "code",
   "execution_count": 54,
   "metadata": {},
   "outputs": [],
   "source": [
    "df_cancel_1 = pd.read_csv('../../Data/Metabase/cancelamentos_1.csv')\n",
    "df_cancel_2 = pd.read_csv('../../Data/Metabase/cancelamentos_2.csv')\n",
    "df_cancel = (pd.concat([df_cancel_1, df_cancel_2])\n",
    "               .filter(['person_id', 'change_to_type']))\n",
    "\n",
    "# creatin cancelation flag\n",
    "df_cancel = (df_cancel.groupby('person_id').count()\n",
    "                      .reset_index()\n",
    "                      .sort_values('change_to_type', ascending=False)\n",
    "                      .assign(Cancel=1))"
   ]
  },
  {
   "cell_type": "code",
   "execution_count": 55,
   "metadata": {},
   "outputs": [],
   "source": [
    "df_agg = pd.merge(df_tickets_agg, df_plans, how='left', left_on='Requester_ID', right_on='person_id')\n",
    "df_agg = pd.merge(df_agg, df_checkins, how='left', left_on='Requester_ID', right_on='person_id')\n",
    "df_agg = pd.merge(df_agg, df_cancel, how='left', left_on='Requester_ID', right_on='person_id')"
   ]
  },
  {
   "cell_type": "code",
   "execution_count": 56,
   "metadata": {},
   "outputs": [],
   "source": [
    "df_agg = df_agg.filter(['Requester_ID', 'Month', 'Volume_7days', 'Volume_15days',\n",
    "                'Volume_Monthly', 'ReclameAqui', 'SocialMedia', 'Tempo_Medio_Chat',\n",
    "                'Tempo_Medio_Email', 'AWT_Chat', '%NFCR', '%Insatisfação(CSAT)',\n",
    "                'CSAT_Rated', 'Plan_value', 'Count_checkin', 'Cancel'])"
   ]
  },
  {
   "cell_type": "code",
   "execution_count": 57,
   "metadata": {},
   "outputs": [
    {
     "data": {
      "text/html": [
       "<div>\n",
       "<style scoped>\n",
       "    .dataframe tbody tr th:only-of-type {\n",
       "        vertical-align: middle;\n",
       "    }\n",
       "\n",
       "    .dataframe tbody tr th {\n",
       "        vertical-align: top;\n",
       "    }\n",
       "\n",
       "    .dataframe thead th {\n",
       "        text-align: right;\n",
       "    }\n",
       "</style>\n",
       "<table border=\"1\" class=\"dataframe\">\n",
       "  <thead>\n",
       "    <tr style=\"text-align: right;\">\n",
       "      <th></th>\n",
       "      <th>Requester_ID</th>\n",
       "      <th>Month</th>\n",
       "      <th>Volume_7days</th>\n",
       "      <th>Volume_15days</th>\n",
       "      <th>Volume_Monthly</th>\n",
       "      <th>ReclameAqui</th>\n",
       "      <th>SocialMedia</th>\n",
       "      <th>Tempo_Medio_Chat</th>\n",
       "      <th>Tempo_Medio_Email</th>\n",
       "      <th>AWT_Chat</th>\n",
       "      <th>%NFCR</th>\n",
       "      <th>%Insatisfação(CSAT)</th>\n",
       "      <th>CSAT_Rated</th>\n",
       "      <th>Plan_value</th>\n",
       "      <th>Count_checkin</th>\n",
       "      <th>Cancel</th>\n",
       "    </tr>\n",
       "  </thead>\n",
       "  <tbody>\n",
       "    <tr>\n",
       "      <th>0</th>\n",
       "      <td>10005693</td>\n",
       "      <td>2021_01</td>\n",
       "      <td>1</td>\n",
       "      <td>1</td>\n",
       "      <td>1</td>\n",
       "      <td>no</td>\n",
       "      <td>no</td>\n",
       "      <td>0.0</td>\n",
       "      <td>8795.666667</td>\n",
       "      <td>0.0</td>\n",
       "      <td>0.0</td>\n",
       "      <td>0.0</td>\n",
       "      <td>0</td>\n",
       "      <td>NaN</td>\n",
       "      <td>NaN</td>\n",
       "      <td>NaN</td>\n",
       "    </tr>\n",
       "    <tr>\n",
       "      <th>1</th>\n",
       "      <td>10008091</td>\n",
       "      <td>2021_01</td>\n",
       "      <td>1</td>\n",
       "      <td>1</td>\n",
       "      <td>1</td>\n",
       "      <td>no</td>\n",
       "      <td>no</td>\n",
       "      <td>0.0</td>\n",
       "      <td>2503.750000</td>\n",
       "      <td>0.0</td>\n",
       "      <td>0.0</td>\n",
       "      <td>0.0</td>\n",
       "      <td>0</td>\n",
       "      <td>NaN</td>\n",
       "      <td>NaN</td>\n",
       "      <td>NaN</td>\n",
       "    </tr>\n",
       "    <tr>\n",
       "      <th>2</th>\n",
       "      <td>10014513</td>\n",
       "      <td>2021_01</td>\n",
       "      <td>1</td>\n",
       "      <td>1</td>\n",
       "      <td>1</td>\n",
       "      <td>no</td>\n",
       "      <td>no</td>\n",
       "      <td>0.0</td>\n",
       "      <td>12367.208333</td>\n",
       "      <td>0.0</td>\n",
       "      <td>0.0</td>\n",
       "      <td>0.0</td>\n",
       "      <td>0</td>\n",
       "      <td>NaN</td>\n",
       "      <td>NaN</td>\n",
       "      <td>NaN</td>\n",
       "    </tr>\n",
       "  </tbody>\n",
       "</table>\n",
       "</div>"
      ],
      "text/plain": [
       "   Requester_ID    Month  Volume_7days  Volume_15days  Volume_Monthly  \\\n",
       "0      10005693  2021_01             1              1               1   \n",
       "1      10008091  2021_01             1              1               1   \n",
       "2      10014513  2021_01             1              1               1   \n",
       "\n",
       "  ReclameAqui SocialMedia  Tempo_Medio_Chat  Tempo_Medio_Email  AWT_Chat  \\\n",
       "0          no          no               0.0        8795.666667       0.0   \n",
       "1          no          no               0.0        2503.750000       0.0   \n",
       "2          no          no               0.0       12367.208333       0.0   \n",
       "\n",
       "   %NFCR  %Insatisfação(CSAT)  CSAT_Rated  Plan_value  Count_checkin  Cancel  \n",
       "0    0.0                  0.0           0         NaN            NaN     NaN  \n",
       "1    0.0                  0.0           0         NaN            NaN     NaN  \n",
       "2    0.0                  0.0           0         NaN            NaN     NaN  "
      ]
     },
     "execution_count": 57,
     "metadata": {},
     "output_type": "execute_result"
    }
   ],
   "source": [
    "df_agg.head(3)"
   ]
  },
  {
   "cell_type": "code",
   "execution_count": 58,
   "metadata": {},
   "outputs": [
    {
     "data": {
      "text/plain": [
       "Requester_ID            0.000000\n",
       "Month                   0.000000\n",
       "Volume_7days            0.000000\n",
       "Volume_15days           0.000000\n",
       "Volume_Monthly          0.000000\n",
       "ReclameAqui             0.000000\n",
       "SocialMedia             0.000000\n",
       "Tempo_Medio_Chat        0.000000\n",
       "Tempo_Medio_Email       0.331729\n",
       "AWT_Chat                0.000000\n",
       "%NFCR                   0.000000\n",
       "%Insatisfação(CSAT)     0.000000\n",
       "CSAT_Rated              0.000000\n",
       "Plan_value             36.749184\n",
       "Count_checkin          44.993903\n",
       "Cancel                 86.606920\n",
       "dtype: float64"
      ]
     },
     "execution_count": 58,
     "metadata": {},
     "output_type": "execute_result"
    }
   ],
   "source": [
    "df_agg.isnull().mean() * 100"
   ]
  },
  {
   "cell_type": "code",
   "execution_count": 59,
   "metadata": {},
   "outputs": [
    {
     "data": {
      "text/plain": [
       "<AxesSubplot:>"
      ]
     },
     "execution_count": 59,
     "metadata": {},
     "output_type": "execute_result"
    },
    {
     "data": {
      "image/png": "[encoded data removed]",
      "text/plain": [
       "<Figure size 1800x720 with 2 Axes>"
      ]
     },
     "metadata": {
      "needs_background": "light"
     },
     "output_type": "display_data"
    }
   ],
   "source": [
    "import missingno as msno\n",
    "%matplotlib inline\n",
    "msno.matrix(df_agg)"
   ]
  },
  {
   "cell_type": "markdown",
   "metadata": {},
   "source": [
    "# Data Manipulation"
   ]
  },
  {
   "cell_type": "markdown",
   "metadata": {},
   "source": [
    "#### Data Preparation"
   ]
  },
  {
   "cell_type": "code",
   "execution_count": 60,
   "metadata": {},
   "outputs": [],
   "source": [
    "# Every Volume Chat, E-mail, Social NaN is zero\n",
    "df_agg.Tempo_Medio_Chat.loc[df_agg.Tempo_Medio_Chat.isna()] = 0\n",
    "df_agg.Tempo_Medio_Email.loc[df_agg.Tempo_Medio_Email.isna()] = 0\n",
    "\n",
    "# Assuming that checkin==NaN is everyone who has median checked in (can be mistake on matebase query)\n",
    "df_agg['Count_checkin'].loc[df_agg['Count_checkin'].isna()] = df_agg.Count_checkin.median()\n",
    "\n",
    "# Assuming that cancel is NaN is every one who has not tried to cancel (can be mistake on matebase query)\n",
    "df_agg.Cancel.loc[df_agg.Cancel.isna()] = 0\n",
    "\n",
    "df_agg.Plan_value[df_agg.Plan_value.isna()] = df_agg.Plan_value.median()\n",
    "\n",
    "df_agg.AWT_Chat.loc[df_agg.AWT_Chat.isna()] = 0"
   ]
  },
  {
   "cell_type": "code",
   "execution_count": 61,
   "metadata": {},
   "outputs": [],
   "source": [
    "#from pandas_profiling import ProfileReport\n",
    "#prof = ProfileReport(df_agg)\n",
    "#prof"
   ]
  },
  {
   "cell_type": "markdown",
   "metadata": {},
   "source": [
    "#### Target Creation"
   ]
  },
  {
   "cell_type": "code",
   "execution_count": 62,
   "metadata": {},
   "outputs": [
    {
     "data": {
      "text/html": [
       "<div>\n",
       "<style scoped>\n",
       "    .dataframe tbody tr th:only-of-type {\n",
       "        vertical-align: middle;\n",
       "    }\n",
       "\n",
       "    .dataframe tbody tr th {\n",
       "        vertical-align: top;\n",
       "    }\n",
       "\n",
       "    .dataframe thead th {\n",
       "        text-align: right;\n",
       "    }\n",
       "</style>\n",
       "<table border=\"1\" class=\"dataframe\">\n",
       "  <thead>\n",
       "    <tr style=\"text-align: right;\">\n",
       "      <th></th>\n",
       "      <th>Requester_ID</th>\n",
       "      <th>Month</th>\n",
       "      <th>Volume_7days</th>\n",
       "      <th>Volume_15days</th>\n",
       "      <th>Volume_Monthly</th>\n",
       "      <th>ReclameAqui</th>\n",
       "      <th>SocialMedia</th>\n",
       "      <th>Tempo_Medio_Chat</th>\n",
       "      <th>Tempo_Medio_Email</th>\n",
       "      <th>AWT_Chat</th>\n",
       "      <th>%NFCR</th>\n",
       "      <th>%Insatisfação(CSAT)</th>\n",
       "      <th>CSAT_Rated</th>\n",
       "      <th>Plan_value</th>\n",
       "      <th>Count_checkin</th>\n",
       "      <th>Cancel</th>\n",
       "    </tr>\n",
       "  </thead>\n",
       "  <tbody>\n",
       "    <tr>\n",
       "      <th>0</th>\n",
       "      <td>10005693</td>\n",
       "      <td>2021_01</td>\n",
       "      <td>1</td>\n",
       "      <td>1</td>\n",
       "      <td>1</td>\n",
       "      <td>no</td>\n",
       "      <td>no</td>\n",
       "      <td>0.0</td>\n",
       "      <td>8795.666667</td>\n",
       "      <td>0.0</td>\n",
       "      <td>0.0</td>\n",
       "      <td>0.0</td>\n",
       "      <td>0</td>\n",
       "      <td>119.9</td>\n",
       "      <td>15.0</td>\n",
       "      <td>0.0</td>\n",
       "    </tr>\n",
       "    <tr>\n",
       "      <th>1</th>\n",
       "      <td>10008091</td>\n",
       "      <td>2021_01</td>\n",
       "      <td>1</td>\n",
       "      <td>1</td>\n",
       "      <td>1</td>\n",
       "      <td>no</td>\n",
       "      <td>no</td>\n",
       "      <td>0.0</td>\n",
       "      <td>2503.750000</td>\n",
       "      <td>0.0</td>\n",
       "      <td>0.0</td>\n",
       "      <td>0.0</td>\n",
       "      <td>0</td>\n",
       "      <td>119.9</td>\n",
       "      <td>15.0</td>\n",
       "      <td>0.0</td>\n",
       "    </tr>\n",
       "    <tr>\n",
       "      <th>2</th>\n",
       "      <td>10014513</td>\n",
       "      <td>2021_01</td>\n",
       "      <td>1</td>\n",
       "      <td>1</td>\n",
       "      <td>1</td>\n",
       "      <td>no</td>\n",
       "      <td>no</td>\n",
       "      <td>0.0</td>\n",
       "      <td>12367.208333</td>\n",
       "      <td>0.0</td>\n",
       "      <td>0.0</td>\n",
       "      <td>0.0</td>\n",
       "      <td>0</td>\n",
       "      <td>119.9</td>\n",
       "      <td>15.0</td>\n",
       "      <td>0.0</td>\n",
       "    </tr>\n",
       "  </tbody>\n",
       "</table>\n",
       "</div>"
      ],
      "text/plain": [
       "   Requester_ID    Month  Volume_7days  Volume_15days  Volume_Monthly  \\\n",
       "0      10005693  2021_01             1              1               1   \n",
       "1      10008091  2021_01             1              1               1   \n",
       "2      10014513  2021_01             1              1               1   \n",
       "\n",
       "  ReclameAqui SocialMedia  Tempo_Medio_Chat  Tempo_Medio_Email  AWT_Chat  \\\n",
       "0          no          no               0.0        8795.666667       0.0   \n",
       "1          no          no               0.0        2503.750000       0.0   \n",
       "2          no          no               0.0       12367.208333       0.0   \n",
       "\n",
       "   %NFCR  %Insatisfação(CSAT)  CSAT_Rated  Plan_value  Count_checkin  Cancel  \n",
       "0    0.0                  0.0           0       119.9           15.0     0.0  \n",
       "1    0.0                  0.0           0       119.9           15.0     0.0  \n",
       "2    0.0                  0.0           0       119.9           15.0     0.0  "
      ]
     },
     "execution_count": 62,
     "metadata": {},
     "output_type": "execute_result"
    }
   ],
   "source": [
    "df_agg.head(3)"
   ]
  },
  {
   "cell_type": "code",
   "execution_count": 63,
   "metadata": {},
   "outputs": [],
   "source": [
    "df_agg['Target'] = 0\n",
    "\n",
    "df_agg.Target.loc[#(df_agg.Volume_7days>3) |\n",
    "                  #(df_agg.Volume_15days>3) |\n",
    "                  #(df_agg.Volume_Monthly>3) |\n",
    "                   (df_agg.ReclameAqui=='yes') \n",
    "                   #(df_agg['%Insatisfação(CSAT)']==1) |\n",
    "                   #(df_agg['%NFCR']==1)\n",
    "                   ] = 1"
   ]
  },
  {
   "cell_type": "code",
   "execution_count": 64,
   "metadata": {},
   "outputs": [
    {
     "name": "stdout",
     "output_type": "stream",
     "text": [
      "0    152131\n",
      "1       403\n",
      "Name: Target, dtype: int64 \n",
      "\n"
     ]
    },
    {
     "data": {
      "text/plain": [
       "<AxesSubplot:title={'center':'target'}>"
      ]
     },
     "execution_count": 64,
     "metadata": {},
     "output_type": "execute_result"
    },
    {
     "data": {
      "image/png": "[encoded data removed]",
      "text/plain": [
       "<Figure size 432x288 with 1 Axes>"
      ]
     },
     "metadata": {
      "needs_background": "light"
     },
     "output_type": "display_data"
    }
   ],
   "source": [
    "print(df_agg.Target.value_counts(), '\\n')\n",
    "df_agg.Target.value_counts().plot(kind='bar', title='target')"
   ]
  },
  {
   "cell_type": "markdown",
   "metadata": {},
   "source": [
    "#### Data Scaling"
   ]
  },
  {
   "cell_type": "code",
   "execution_count": 65,
   "metadata": {},
   "outputs": [],
   "source": [
    "from sklearn.preprocessing import MinMaxScaler\n",
    "\n",
    "columns = ['Volume_7days', 'Volume_15days', 'Volume_Monthly', \n",
    "           'Tempo_Medio_Chat','Tempo_Medio_Email', 'AWT_Chat', '%NFCR', \n",
    "           '%Insatisfação(CSAT)', 'CSAT_Rated', 'Plan_value', 'Count_checkin', \n",
    "           'Cancel']\n",
    "\n",
    "# Scale only columns that have values greater than 1\n",
    "to_scale = [element for element in columns if df_agg[element].max() > 1]\n",
    "\n",
    "mms = MinMaxScaler()\n",
    "scaled = mms.fit_transform(df_agg[to_scale])\n",
    "scaled = pd.DataFrame(scaled, columns=to_scale)"
   ]
  },
  {
   "cell_type": "code",
   "execution_count": 66,
   "metadata": {},
   "outputs": [],
   "source": [
    "# Replace oroginal columns with scaled ones\n",
    "for col in scaled.columns:\n",
    "    df_agg[col] = scaled[col]"
   ]
  },
  {
   "cell_type": "code",
   "execution_count": 67,
   "metadata": {},
   "outputs": [
    {
     "data": {
      "text/html": [
       "<div>\n",
       "<style scoped>\n",
       "    .dataframe tbody tr th:only-of-type {\n",
       "        vertical-align: middle;\n",
       "    }\n",
       "\n",
       "    .dataframe tbody tr th {\n",
       "        vertical-align: top;\n",
       "    }\n",
       "\n",
       "    .dataframe thead th {\n",
       "        text-align: right;\n",
       "    }\n",
       "</style>\n",
       "<table border=\"1\" class=\"dataframe\">\n",
       "  <thead>\n",
       "    <tr style=\"text-align: right;\">\n",
       "      <th></th>\n",
       "      <th>Requester_ID</th>\n",
       "      <th>Month</th>\n",
       "      <th>Volume_7days</th>\n",
       "      <th>Volume_15days</th>\n",
       "      <th>Volume_Monthly</th>\n",
       "      <th>ReclameAqui</th>\n",
       "      <th>SocialMedia</th>\n",
       "      <th>Tempo_Medio_Chat</th>\n",
       "      <th>Tempo_Medio_Email</th>\n",
       "      <th>AWT_Chat</th>\n",
       "      <th>%NFCR</th>\n",
       "      <th>%Insatisfação(CSAT)</th>\n",
       "      <th>CSAT_Rated</th>\n",
       "      <th>Plan_value</th>\n",
       "      <th>Count_checkin</th>\n",
       "      <th>Cancel</th>\n",
       "      <th>Target</th>\n",
       "    </tr>\n",
       "  </thead>\n",
       "  <tbody>\n",
       "    <tr>\n",
       "      <th>0</th>\n",
       "      <td>10005693</td>\n",
       "      <td>2021_01</td>\n",
       "      <td>0.023256</td>\n",
       "      <td>0.012048</td>\n",
       "      <td>0.00813</td>\n",
       "      <td>no</td>\n",
       "      <td>no</td>\n",
       "      <td>0.000000</td>\n",
       "      <td>0.024930</td>\n",
       "      <td>0.000000</td>\n",
       "      <td>0.000000</td>\n",
       "      <td>0.0</td>\n",
       "      <td>0.0</td>\n",
       "      <td>0.002053</td>\n",
       "      <td>0.125000</td>\n",
       "      <td>0.0</td>\n",
       "      <td>0</td>\n",
       "    </tr>\n",
       "    <tr>\n",
       "      <th>1</th>\n",
       "      <td>10008091</td>\n",
       "      <td>2021_01</td>\n",
       "      <td>0.023256</td>\n",
       "      <td>0.012048</td>\n",
       "      <td>0.00813</td>\n",
       "      <td>no</td>\n",
       "      <td>no</td>\n",
       "      <td>0.000000</td>\n",
       "      <td>0.007096</td>\n",
       "      <td>0.000000</td>\n",
       "      <td>0.000000</td>\n",
       "      <td>0.0</td>\n",
       "      <td>0.0</td>\n",
       "      <td>0.002053</td>\n",
       "      <td>0.125000</td>\n",
       "      <td>0.0</td>\n",
       "      <td>0</td>\n",
       "    </tr>\n",
       "    <tr>\n",
       "      <th>2</th>\n",
       "      <td>10014513</td>\n",
       "      <td>2021_01</td>\n",
       "      <td>0.023256</td>\n",
       "      <td>0.012048</td>\n",
       "      <td>0.00813</td>\n",
       "      <td>no</td>\n",
       "      <td>no</td>\n",
       "      <td>0.000000</td>\n",
       "      <td>0.035053</td>\n",
       "      <td>0.000000</td>\n",
       "      <td>0.000000</td>\n",
       "      <td>0.0</td>\n",
       "      <td>0.0</td>\n",
       "      <td>0.002053</td>\n",
       "      <td>0.125000</td>\n",
       "      <td>0.0</td>\n",
       "      <td>0</td>\n",
       "    </tr>\n",
       "    <tr>\n",
       "      <th>3</th>\n",
       "      <td>10014883</td>\n",
       "      <td>2021_01</td>\n",
       "      <td>0.023256</td>\n",
       "      <td>0.024096</td>\n",
       "      <td>0.01626</td>\n",
       "      <td>no</td>\n",
       "      <td>no</td>\n",
       "      <td>0.104516</td>\n",
       "      <td>0.024974</td>\n",
       "      <td>0.002522</td>\n",
       "      <td>0.666667</td>\n",
       "      <td>0.0</td>\n",
       "      <td>0.0</td>\n",
       "      <td>0.003821</td>\n",
       "      <td>0.080357</td>\n",
       "      <td>0.0</td>\n",
       "      <td>0</td>\n",
       "    </tr>\n",
       "    <tr>\n",
       "      <th>4</th>\n",
       "      <td>10015142</td>\n",
       "      <td>2021_01</td>\n",
       "      <td>0.000000</td>\n",
       "      <td>0.012048</td>\n",
       "      <td>0.01626</td>\n",
       "      <td>no</td>\n",
       "      <td>no</td>\n",
       "      <td>0.032856</td>\n",
       "      <td>0.037151</td>\n",
       "      <td>0.011351</td>\n",
       "      <td>0.500000</td>\n",
       "      <td>0.0</td>\n",
       "      <td>0.0</td>\n",
       "      <td>0.003052</td>\n",
       "      <td>0.169643</td>\n",
       "      <td>0.0</td>\n",
       "      <td>0</td>\n",
       "    </tr>\n",
       "    <tr>\n",
       "      <th>...</th>\n",
       "      <td>...</td>\n",
       "      <td>...</td>\n",
       "      <td>...</td>\n",
       "      <td>...</td>\n",
       "      <td>...</td>\n",
       "      <td>...</td>\n",
       "      <td>...</td>\n",
       "      <td>...</td>\n",
       "      <td>...</td>\n",
       "      <td>...</td>\n",
       "      <td>...</td>\n",
       "      <td>...</td>\n",
       "      <td>...</td>\n",
       "      <td>...</td>\n",
       "      <td>...</td>\n",
       "      <td>...</td>\n",
       "      <td>...</td>\n",
       "    </tr>\n",
       "    <tr>\n",
       "      <th>152529</th>\n",
       "      <td>999677</td>\n",
       "      <td>2021_05</td>\n",
       "      <td>0.000000</td>\n",
       "      <td>0.000000</td>\n",
       "      <td>0.00813</td>\n",
       "      <td>no</td>\n",
       "      <td>no</td>\n",
       "      <td>0.071904</td>\n",
       "      <td>0.000000</td>\n",
       "      <td>0.001766</td>\n",
       "      <td>0.000000</td>\n",
       "      <td>0.0</td>\n",
       "      <td>0.0</td>\n",
       "      <td>0.003897</td>\n",
       "      <td>0.125000</td>\n",
       "      <td>0.0</td>\n",
       "      <td>0</td>\n",
       "    </tr>\n",
       "    <tr>\n",
       "      <th>152530</th>\n",
       "      <td>9996859</td>\n",
       "      <td>2021_05</td>\n",
       "      <td>0.000000</td>\n",
       "      <td>0.000000</td>\n",
       "      <td>0.00813</td>\n",
       "      <td>no</td>\n",
       "      <td>no</td>\n",
       "      <td>0.017802</td>\n",
       "      <td>0.000000</td>\n",
       "      <td>0.003279</td>\n",
       "      <td>0.000000</td>\n",
       "      <td>0.0</td>\n",
       "      <td>0.1</td>\n",
       "      <td>0.002053</td>\n",
       "      <td>0.000000</td>\n",
       "      <td>0.0</td>\n",
       "      <td>0</td>\n",
       "    </tr>\n",
       "    <tr>\n",
       "      <th>152531</th>\n",
       "      <td>9996979</td>\n",
       "      <td>2021_05</td>\n",
       "      <td>0.000000</td>\n",
       "      <td>0.000000</td>\n",
       "      <td>0.00813</td>\n",
       "      <td>no</td>\n",
       "      <td>no</td>\n",
       "      <td>0.020764</td>\n",
       "      <td>0.000000</td>\n",
       "      <td>0.005045</td>\n",
       "      <td>0.000000</td>\n",
       "      <td>0.0</td>\n",
       "      <td>0.1</td>\n",
       "      <td>0.002053</td>\n",
       "      <td>0.125000</td>\n",
       "      <td>0.0</td>\n",
       "      <td>0</td>\n",
       "    </tr>\n",
       "    <tr>\n",
       "      <th>152532</th>\n",
       "      <td>9997</td>\n",
       "      <td>2021_05</td>\n",
       "      <td>0.000000</td>\n",
       "      <td>0.000000</td>\n",
       "      <td>0.00813</td>\n",
       "      <td>no</td>\n",
       "      <td>no</td>\n",
       "      <td>0.166093</td>\n",
       "      <td>0.000000</td>\n",
       "      <td>0.010846</td>\n",
       "      <td>0.000000</td>\n",
       "      <td>0.0</td>\n",
       "      <td>0.0</td>\n",
       "      <td>0.002053</td>\n",
       "      <td>0.125000</td>\n",
       "      <td>0.0</td>\n",
       "      <td>0</td>\n",
       "    </tr>\n",
       "    <tr>\n",
       "      <th>152533</th>\n",
       "      <td>9997515</td>\n",
       "      <td>2021_05</td>\n",
       "      <td>0.023256</td>\n",
       "      <td>0.012048</td>\n",
       "      <td>0.00813</td>\n",
       "      <td>no</td>\n",
       "      <td>no</td>\n",
       "      <td>0.263083</td>\n",
       "      <td>0.000000</td>\n",
       "      <td>0.002018</td>\n",
       "      <td>0.000000</td>\n",
       "      <td>0.0</td>\n",
       "      <td>0.0</td>\n",
       "      <td>0.002053</td>\n",
       "      <td>0.125000</td>\n",
       "      <td>0.0</td>\n",
       "      <td>0</td>\n",
       "    </tr>\n",
       "  </tbody>\n",
       "</table>\n",
       "<p>152534 rows × 17 columns</p>\n",
       "</div>"
      ],
      "text/plain": [
       "        Requester_ID    Month  Volume_7days  Volume_15days  Volume_Monthly  \\\n",
       "0           10005693  2021_01      0.023256       0.012048         0.00813   \n",
       "1           10008091  2021_01      0.023256       0.012048         0.00813   \n",
       "2           10014513  2021_01      0.023256       0.012048         0.00813   \n",
       "3           10014883  2021_01      0.023256       0.024096         0.01626   \n",
       "4           10015142  2021_01      0.000000       0.012048         0.01626   \n",
       "...              ...      ...           ...            ...             ...   \n",
       "152529        999677  2021_05      0.000000       0.000000         0.00813   \n",
       "152530       9996859  2021_05      0.000000       0.000000         0.00813   \n",
       "152531       9996979  2021_05      0.000000       0.000000         0.00813   \n",
       "152532          9997  2021_05      0.000000       0.000000         0.00813   \n",
       "152533       9997515  2021_05      0.023256       0.012048         0.00813   \n",
       "\n",
       "       ReclameAqui SocialMedia  Tempo_Medio_Chat  Tempo_Medio_Email  AWT_Chat  \\\n",
       "0               no          no          0.000000           0.024930  0.000000   \n",
       "1               no          no          0.000000           0.007096  0.000000   \n",
       "2               no          no          0.000000           0.035053  0.000000   \n",
       "3               no          no          0.104516           0.024974  0.002522   \n",
       "4               no          no          0.032856           0.037151  0.011351   \n",
       "...            ...         ...               ...                ...       ...   \n",
       "152529          no          no          0.071904           0.000000  0.001766   \n",
       "152530          no          no          0.017802           0.000000  0.003279   \n",
       "152531          no          no          0.020764           0.000000  0.005045   \n",
       "152532          no          no          0.166093           0.000000  0.010846   \n",
       "152533          no          no          0.263083           0.000000  0.002018   \n",
       "\n",
       "           %NFCR  %Insatisfação(CSAT)  CSAT_Rated  Plan_value  Count_checkin  \\\n",
       "0       0.000000                  0.0         0.0    0.002053       0.125000   \n",
       "1       0.000000                  0.0         0.0    0.002053       0.125000   \n",
       "2       0.000000                  0.0         0.0    0.002053       0.125000   \n",
       "3       0.666667                  0.0         0.0    0.003821       0.080357   \n",
       "4       0.500000                  0.0         0.0    0.003052       0.169643   \n",
       "...          ...                  ...         ...         ...            ...   \n",
       "152529  0.000000                  0.0         0.0    0.003897       0.125000   \n",
       "152530  0.000000                  0.0         0.1    0.002053       0.000000   \n",
       "152531  0.000000                  0.0         0.1    0.002053       0.125000   \n",
       "152532  0.000000                  0.0         0.0    0.002053       0.125000   \n",
       "152533  0.000000                  0.0         0.0    0.002053       0.125000   \n",
       "\n",
       "        Cancel  Target  \n",
       "0          0.0       0  \n",
       "1          0.0       0  \n",
       "2          0.0       0  \n",
       "3          0.0       0  \n",
       "4          0.0       0  \n",
       "...        ...     ...  \n",
       "152529     0.0       0  \n",
       "152530     0.0       0  \n",
       "152531     0.0       0  \n",
       "152532     0.0       0  \n",
       "152533     0.0       0  \n",
       "\n",
       "[152534 rows x 17 columns]"
      ]
     },
     "execution_count": 67,
     "metadata": {},
     "output_type": "execute_result"
    }
   ],
   "source": [
    "df_agg"
   ]
  },
  {
   "cell_type": "markdown",
   "metadata": {},
   "source": [
    "# Modeling"
   ]
  },
  {
   "cell_type": "markdown",
   "metadata": {},
   "source": [
    "#### Modeling With DownSamples"
   ]
  },
  {
   "cell_type": "code",
   "execution_count": 68,
   "metadata": {},
   "outputs": [],
   "source": [
    "df = df_agg"
   ]
  },
  {
   "cell_type": "code",
   "execution_count": 125,
   "metadata": {},
   "outputs": [
    {
     "data": {
      "text/plain": [
       "1    403\n",
       "0    403\n",
       "Name: Target, dtype: int64"
      ]
     },
     "execution_count": 125,
     "metadata": {},
     "output_type": "execute_result"
    }
   ],
   "source": [
    "# Down-sample majority class\n",
    "from sklearn.utils import resample\n",
    "\n",
    "df_majority = df[df.Target == 0]\n",
    "df_minority = df[df.Target == 1]\n",
    "\n",
    "df_majority_downsampled = resample(df_majority,\n",
    "                                   replace=False,\n",
    "                                   n_samples=df_minority.shape[0],\n",
    "                                   random_state=42)\n",
    "\n",
    "df_downsampled = pd.concat([df_majority_downsampled, df_minority])\n",
    "\n",
    "df_downsampled.Target.value_counts()"
   ]
  },
  {
   "cell_type": "markdown",
   "metadata": {},
   "source": [
    "#### Traning and Testing sets"
   ]
  },
  {
   "cell_type": "code",
   "execution_count": 126,
   "metadata": {},
   "outputs": [],
   "source": [
    "features = ['Volume_7days', 'Volume_15days',\n",
    "            'Volume_Monthly', 'Tempo_Medio_Chat',\n",
    "            'Tempo_Medio_Email', 'AWT_Chat',\n",
    "            '%NFCR', '%Insatisfação(CSAT)',\n",
    "            'CSAT_Rated', 'Plan_value', \n",
    "            'Count_checkin', 'Cancel']"
   ]
  },
  {
   "cell_type": "code",
   "execution_count": 127,
   "metadata": {},
   "outputs": [],
   "source": [
    "from sklearn.model_selection import train_test_split\n",
    "y = df_downsampled.Target\n",
    "X = df_downsampled.filter(features)\n",
    "X_train, X_test, y_train, y_test = train_test_split(X, y, test_size=0.25, random_state=42)"
   ]
  },
  {
   "cell_type": "markdown",
   "metadata": {},
   "source": [
    "## Decision Tree"
   ]
  },
  {
   "cell_type": "code",
   "execution_count": 128,
   "metadata": {},
   "outputs": [],
   "source": [
    "from sklearn.tree import DecisionTreeClassifier\n",
    "from sklearn.tree import export_text\n",
    "\n",
    "classifier_tree = DecisionTreeClassifier(random_state=0, max_depth=2)\n",
    "classifier_tree = classifier_tree.fit(X_train, y_train)\n",
    "# Predicting the Test set results\n",
    "y_pred_tree = classifier_tree.predict(X_test)"
   ]
  },
  {
   "cell_type": "code",
   "execution_count": 129,
   "metadata": {},
   "outputs": [
    {
     "name": "stdout",
     "output_type": "stream",
     "text": [
      "Accuracy = 0.61 \n",
      "Recall = 0.47\n"
     ]
    },
    {
     "data": {
      "image/png": "[encoded data removed]",
      "text/plain": [
       "<Figure size 432x288 with 2 Axes>"
      ]
     },
     "metadata": {
      "needs_background": "light"
     },
     "output_type": "display_data"
    }
   ],
   "source": [
    "from sklearn.metrics import confusion_matrix\n",
    "from sklearn.metrics import accuracy_score, recall_score\n",
    "\n",
    "print(f'Accuracy = {accuracy_score(y_test, y_pred_tree):.2f} \\nRecall = {recall_score(y_test, y_pred_tree):.2f}')\n",
    "\n",
    "cm_rf = confusion_matrix(y_test, y_pred_tree)\n",
    "plt.title('Confusion Matrix (Random Forest)', size=16)\n",
    "sns.heatmap(cm_rf, annot=True, fmt='.2f', cmap='Blues')\n",
    "plt.show()"
   ]
  },
  {
   "cell_type": "code",
   "execution_count": 145,
   "metadata": {},
   "outputs": [
    {
     "data": {
      "image/png": "[encoded data removed]",
      "text/plain": [
       "<Figure size 720x432 with 1 Axes>"
      ]
     },
     "metadata": {},
     "output_type": "display_data"
    }
   ],
   "source": [
    "from sklearn import tree\n",
    "_ = tree.plot_tree(classifier_tree,\n",
    "                   feature_names=X_train.columns,\n",
    "                   class_names=['non_critical', 'critical'], # Names of each of the target classes in ascending numerical order.\n",
    "                   filled=True)"
   ]
  },
  {
   "cell_type": "markdown",
   "metadata": {},
   "source": [
    "## Random  Forest"
   ]
  },
  {
   "cell_type": "code",
   "execution_count": 139,
   "metadata": {},
   "outputs": [],
   "source": [
    "# Fitting Random Forest Classification to the Training set\n",
    "from sklearn.ensemble import RandomForestClassifier\n",
    "classifier_rf = RandomForestClassifier(n_estimators = 200,\n",
    "                                       max_depth=5,\n",
    "                                       criterion = 'entropy', \n",
    "                                       random_state = 0)\n",
    "classifier_rf.fit(X_train, y_train)\n",
    "\n",
    "# Predicting the Test set results\n",
    "y_pred_rf = classifier_rf.predict(X_test)\n",
    "\n",
    "# K-foldcross validation\n",
    "from sklearn.model_selection import cross_val_score\n",
    "accuracies_rf = cross_val_score(estimator = classifier_rf, X = X_train, y = y_train, cv = 10, n_jobs = -1)\n",
    "mean_rf = accuracies_rf.mean()\n",
    "variance_rf = accuracies_rf.std()"
   ]
  },
  {
   "cell_type": "code",
   "execution_count": 140,
   "metadata": {},
   "outputs": [
    {
     "name": "stdout",
     "output_type": "stream",
     "text": [
      "Accuracy = 0.69 \n",
      "Recall = 0.66\n"
     ]
    },
    {
     "data": {
      "image/png": "[encoded data removed]",
      "text/plain": [
       "<Figure size 432x288 with 2 Axes>"
      ]
     },
     "metadata": {
      "needs_background": "light"
     },
     "output_type": "display_data"
    }
   ],
   "source": [
    "from sklearn.metrics import confusion_matrix\n",
    "from sklearn.metrics import accuracy_score, recall_score\n",
    "\n",
    "print(f'Accuracy = {accuracy_score(y_test, y_pred_rf):.2f} \\nRecall = {recall_score(y_test, y_pred_rf):.2f}')\n",
    "\n",
    "cm_rf = confusion_matrix(y_test, y_pred_rf)\n",
    "plt.title('Confusion Matrix (Random Forest)', size=16)\n",
    "sns.heatmap(cm_rf, annot=True, fmt='.2f', cmap='Blues')\n",
    "plt.show()"
   ]
  },
  {
   "cell_type": "code",
   "execution_count": 141,
   "metadata": {},
   "outputs": [
    {
     "data": {
      "image/png": "[encoded data removed]",
      "text/plain": [
       "<Figure size 432x288 with 1 Axes>"
      ]
     },
     "metadata": {
      "needs_background": "light"
     },
     "output_type": "display_data"
    }
   ],
   "source": [
    "#ROC\n",
    "import scikitplot as skplt #to make things easy\n",
    "y_pred_proba = classifier_rf.predict_proba(X_test)\n",
    "skplt.metrics.plot_roc_curve(y_test, y_pred_proba)\n",
    "plt.title(\"ROC Curves - Random Forest\")\n",
    "plt.show()"
   ]
  },
  {
   "cell_type": "code",
   "execution_count": 142,
   "metadata": {},
   "outputs": [
    {
     "data": {
      "text/plain": [
       "Text(0.5, 0, 'Random Forest Feature Importance')"
      ]
     },
     "execution_count": 142,
     "metadata": {},
     "output_type": "execute_result"
    },
    {
     "data": {
      "image/png": "[encoded data removed]",
      "text/plain": [
       "<Figure size 432x288 with 1 Axes>"
      ]
     },
     "metadata": {
      "needs_background": "light"
     },
     "output_type": "display_data"
    }
   ],
   "source": [
    "fi = pd.DataFrame({'feature': list(X_train.columns),\n",
    "                   'importance': classifier_rf.feature_importances_}).\\\n",
    "                    sort_values('importance', ascending = False)\n",
    "plt.barh(fi.feature,fi.importance)\n",
    "plt.xlabel(\"Random Forest Feature Importance\")"
   ]
  },
  {
   "cell_type": "markdown",
   "metadata": {},
   "source": [
    "### Output Model"
   ]
  },
  {
   "cell_type": "code",
   "execution_count": 109,
   "metadata": {},
   "outputs": [],
   "source": [
    "df_output = X_test.assign(Pred=classifier_rf.predict_proba(X_test)[:,-1])"
   ]
  },
  {
   "cell_type": "code",
   "execution_count": 110,
   "metadata": {},
   "outputs": [
    {
     "data": {
      "text/html": [
       "<div>\n",
       "<style scoped>\n",
       "    .dataframe tbody tr th:only-of-type {\n",
       "        vertical-align: middle;\n",
       "    }\n",
       "\n",
       "    .dataframe tbody tr th {\n",
       "        vertical-align: top;\n",
       "    }\n",
       "\n",
       "    .dataframe thead th {\n",
       "        text-align: right;\n",
       "    }\n",
       "</style>\n",
       "<table border=\"1\" class=\"dataframe\">\n",
       "  <thead>\n",
       "    <tr style=\"text-align: right;\">\n",
       "      <th></th>\n",
       "      <th>Volume_7days</th>\n",
       "      <th>Volume_15days</th>\n",
       "      <th>Volume_Monthly</th>\n",
       "      <th>Tempo_Medio_Chat</th>\n",
       "      <th>Tempo_Medio_Email</th>\n",
       "      <th>AWT_Chat</th>\n",
       "      <th>%NFCR</th>\n",
       "      <th>%Insatisfação(CSAT)</th>\n",
       "      <th>CSAT_Rated</th>\n",
       "      <th>Plan_value</th>\n",
       "      <th>Count_checkin</th>\n",
       "      <th>Cancel</th>\n",
       "      <th>Pred</th>\n",
       "    </tr>\n",
       "  </thead>\n",
       "  <tbody>\n",
       "    <tr>\n",
       "      <th>71883</th>\n",
       "      <td>0.023256</td>\n",
       "      <td>0.012048</td>\n",
       "      <td>0.00813</td>\n",
       "      <td>0.063515</td>\n",
       "      <td>0.000000</td>\n",
       "      <td>0.005045</td>\n",
       "      <td>0.0</td>\n",
       "      <td>0.0</td>\n",
       "      <td>0.0</td>\n",
       "      <td>0.002053</td>\n",
       "      <td>0.125000</td>\n",
       "      <td>0.0</td>\n",
       "      <td>0.037224</td>\n",
       "    </tr>\n",
       "    <tr>\n",
       "      <th>26808</th>\n",
       "      <td>0.023256</td>\n",
       "      <td>0.012048</td>\n",
       "      <td>0.00813</td>\n",
       "      <td>0.074229</td>\n",
       "      <td>0.000000</td>\n",
       "      <td>0.010342</td>\n",
       "      <td>1.0</td>\n",
       "      <td>0.0</td>\n",
       "      <td>0.1</td>\n",
       "      <td>0.002053</td>\n",
       "      <td>0.044643</td>\n",
       "      <td>0.0</td>\n",
       "      <td>0.060491</td>\n",
       "    </tr>\n",
       "    <tr>\n",
       "      <th>39206</th>\n",
       "      <td>0.023256</td>\n",
       "      <td>0.012048</td>\n",
       "      <td>0.00813</td>\n",
       "      <td>0.000000</td>\n",
       "      <td>0.024518</td>\n",
       "      <td>0.000000</td>\n",
       "      <td>0.0</td>\n",
       "      <td>0.0</td>\n",
       "      <td>0.0</td>\n",
       "      <td>0.002360</td>\n",
       "      <td>0.017857</td>\n",
       "      <td>1.0</td>\n",
       "      <td>0.142004</td>\n",
       "    </tr>\n",
       "  </tbody>\n",
       "</table>\n",
       "</div>"
      ],
      "text/plain": [
       "       Volume_7days  Volume_15days  Volume_Monthly  Tempo_Medio_Chat  \\\n",
       "71883      0.023256       0.012048         0.00813          0.063515   \n",
       "26808      0.023256       0.012048         0.00813          0.074229   \n",
       "39206      0.023256       0.012048         0.00813          0.000000   \n",
       "\n",
       "       Tempo_Medio_Email  AWT_Chat  %NFCR  %Insatisfação(CSAT)  CSAT_Rated  \\\n",
       "71883           0.000000  0.005045    0.0                  0.0         0.0   \n",
       "26808           0.000000  0.010342    1.0                  0.0         0.1   \n",
       "39206           0.024518  0.000000    0.0                  0.0         0.0   \n",
       "\n",
       "       Plan_value  Count_checkin  Cancel      Pred  \n",
       "71883    0.002053       0.125000     0.0  0.037224  \n",
       "26808    0.002053       0.044643     0.0  0.060491  \n",
       "39206    0.002360       0.017857     1.0  0.142004  "
      ]
     },
     "execution_count": 110,
     "metadata": {},
     "output_type": "execute_result"
    }
   ],
   "source": [
    "df_output.head(3)"
   ]
  },
  {
   "cell_type": "code",
   "execution_count": 111,
   "metadata": {},
   "outputs": [],
   "source": [
    "rescaled = mms.inverse_transform(df_output[to_scale])\n",
    "rescaled = pd.DataFrame(rescaled, columns=to_scale)\n",
    "for col in rescaled:\n",
    "    df_output[col] = rescaled[col]"
   ]
  },
  {
   "cell_type": "code",
   "execution_count": 114,
   "metadata": {},
   "outputs": [
    {
     "data": {
      "text/html": [
       "<div>\n",
       "<style scoped>\n",
       "    .dataframe tbody tr th:only-of-type {\n",
       "        vertical-align: middle;\n",
       "    }\n",
       "\n",
       "    .dataframe tbody tr th {\n",
       "        vertical-align: top;\n",
       "    }\n",
       "\n",
       "    .dataframe thead th {\n",
       "        text-align: right;\n",
       "    }\n",
       "</style>\n",
       "<table border=\"1\" class=\"dataframe\">\n",
       "  <thead>\n",
       "    <tr style=\"text-align: right;\">\n",
       "      <th></th>\n",
       "      <th>Volume_7days</th>\n",
       "      <th>Volume_15days</th>\n",
       "      <th>Volume_Monthly</th>\n",
       "      <th>Tempo_Medio_Chat</th>\n",
       "      <th>Tempo_Medio_Email</th>\n",
       "      <th>AWT_Chat</th>\n",
       "      <th>CSAT_Rated</th>\n",
       "      <th>Plan_value</th>\n",
       "      <th>Count_checkin</th>\n",
       "    </tr>\n",
       "  </thead>\n",
       "  <tbody>\n",
       "    <tr>\n",
       "      <th>0</th>\n",
       "      <td>1.0</td>\n",
       "      <td>1.0</td>\n",
       "      <td>1.0</td>\n",
       "      <td>791.036</td>\n",
       "      <td>0.000000</td>\n",
       "      <td>20.0</td>\n",
       "      <td>0.0</td>\n",
       "      <td>119.9</td>\n",
       "      <td>15.0</td>\n",
       "    </tr>\n",
       "    <tr>\n",
       "      <th>1</th>\n",
       "      <td>1.0</td>\n",
       "      <td>1.0</td>\n",
       "      <td>1.0</td>\n",
       "      <td>924.470</td>\n",
       "      <td>0.000000</td>\n",
       "      <td>41.0</td>\n",
       "      <td>1.0</td>\n",
       "      <td>119.9</td>\n",
       "      <td>6.0</td>\n",
       "    </tr>\n",
       "    <tr>\n",
       "      <th>2</th>\n",
       "      <td>1.0</td>\n",
       "      <td>1.0</td>\n",
       "      <td>1.0</td>\n",
       "      <td>0.000</td>\n",
       "      <td>8650.333333</td>\n",
       "      <td>0.0</td>\n",
       "      <td>0.0</td>\n",
       "      <td>159.9</td>\n",
       "      <td>3.0</td>\n",
       "    </tr>\n",
       "    <tr>\n",
       "      <th>3</th>\n",
       "      <td>0.0</td>\n",
       "      <td>0.0</td>\n",
       "      <td>1.0</td>\n",
       "      <td>2345.514</td>\n",
       "      <td>0.000000</td>\n",
       "      <td>78.0</td>\n",
       "      <td>1.0</td>\n",
       "      <td>259.9</td>\n",
       "      <td>30.0</td>\n",
       "    </tr>\n",
       "    <tr>\n",
       "      <th>4</th>\n",
       "      <td>0.0</td>\n",
       "      <td>0.0</td>\n",
       "      <td>1.0</td>\n",
       "      <td>0.000</td>\n",
       "      <td>7780.458333</td>\n",
       "      <td>0.0</td>\n",
       "      <td>0.0</td>\n",
       "      <td>259.9</td>\n",
       "      <td>15.0</td>\n",
       "    </tr>\n",
       "    <tr>\n",
       "      <th>...</th>\n",
       "      <td>...</td>\n",
       "      <td>...</td>\n",
       "      <td>...</td>\n",
       "      <td>...</td>\n",
       "      <td>...</td>\n",
       "      <td>...</td>\n",
       "      <td>...</td>\n",
       "      <td>...</td>\n",
       "      <td>...</td>\n",
       "    </tr>\n",
       "    <tr>\n",
       "      <th>1104</th>\n",
       "      <td>0.0</td>\n",
       "      <td>1.0</td>\n",
       "      <td>1.0</td>\n",
       "      <td>0.000</td>\n",
       "      <td>18179.583333</td>\n",
       "      <td>0.0</td>\n",
       "      <td>1.0</td>\n",
       "      <td>119.9</td>\n",
       "      <td>15.0</td>\n",
       "    </tr>\n",
       "    <tr>\n",
       "      <th>1105</th>\n",
       "      <td>2.0</td>\n",
       "      <td>2.0</td>\n",
       "      <td>2.0</td>\n",
       "      <td>483.506</td>\n",
       "      <td>7226.291667</td>\n",
       "      <td>4.0</td>\n",
       "      <td>2.0</td>\n",
       "      <td>359.9</td>\n",
       "      <td>15.0</td>\n",
       "    </tr>\n",
       "    <tr>\n",
       "      <th>1106</th>\n",
       "      <td>0.0</td>\n",
       "      <td>1.0</td>\n",
       "      <td>1.0</td>\n",
       "      <td>1605.821</td>\n",
       "      <td>0.000000</td>\n",
       "      <td>18.0</td>\n",
       "      <td>1.0</td>\n",
       "      <td>0.0</td>\n",
       "      <td>2.0</td>\n",
       "    </tr>\n",
       "    <tr>\n",
       "      <th>1107</th>\n",
       "      <td>0.0</td>\n",
       "      <td>1.0</td>\n",
       "      <td>1.0</td>\n",
       "      <td>0.000</td>\n",
       "      <td>3506.958333</td>\n",
       "      <td>0.0</td>\n",
       "      <td>0.0</td>\n",
       "      <td>119.9</td>\n",
       "      <td>15.0</td>\n",
       "    </tr>\n",
       "    <tr>\n",
       "      <th>1108</th>\n",
       "      <td>1.0</td>\n",
       "      <td>1.0</td>\n",
       "      <td>1.0</td>\n",
       "      <td>1346.670</td>\n",
       "      <td>0.000000</td>\n",
       "      <td>14.0</td>\n",
       "      <td>1.0</td>\n",
       "      <td>119.9</td>\n",
       "      <td>8.0</td>\n",
       "    </tr>\n",
       "  </tbody>\n",
       "</table>\n",
       "<p>1109 rows × 9 columns</p>\n",
       "</div>"
      ],
      "text/plain": [
       "      Volume_7days  Volume_15days  Volume_Monthly  Tempo_Medio_Chat  \\\n",
       "0              1.0            1.0             1.0           791.036   \n",
       "1              1.0            1.0             1.0           924.470   \n",
       "2              1.0            1.0             1.0             0.000   \n",
       "3              0.0            0.0             1.0          2345.514   \n",
       "4              0.0            0.0             1.0             0.000   \n",
       "...            ...            ...             ...               ...   \n",
       "1104           0.0            1.0             1.0             0.000   \n",
       "1105           2.0            2.0             2.0           483.506   \n",
       "1106           0.0            1.0             1.0          1605.821   \n",
       "1107           0.0            1.0             1.0             0.000   \n",
       "1108           1.0            1.0             1.0          1346.670   \n",
       "\n",
       "      Tempo_Medio_Email  AWT_Chat  CSAT_Rated  Plan_value  Count_checkin  \n",
       "0              0.000000      20.0         0.0       119.9           15.0  \n",
       "1              0.000000      41.0         1.0       119.9            6.0  \n",
       "2           8650.333333       0.0         0.0       159.9            3.0  \n",
       "3              0.000000      78.0         1.0       259.9           30.0  \n",
       "4           7780.458333       0.0         0.0       259.9           15.0  \n",
       "...                 ...       ...         ...         ...            ...  \n",
       "1104       18179.583333       0.0         1.0       119.9           15.0  \n",
       "1105        7226.291667       4.0         2.0       359.9           15.0  \n",
       "1106           0.000000      18.0         1.0         0.0            2.0  \n",
       "1107        3506.958333       0.0         0.0       119.9           15.0  \n",
       "1108           0.000000      14.0         1.0       119.9            8.0  \n",
       "\n",
       "[1109 rows x 9 columns]"
      ]
     },
     "execution_count": 114,
     "metadata": {},
     "output_type": "execute_result"
    }
   ],
   "source": [
    "rescaled"
   ]
  },
  {
   "cell_type": "code",
   "execution_count": null,
   "metadata": {},
   "outputs": [],
   "source": []
  }
 ],
 "metadata": {
  "hide_input": false,
  "kernelspec": {
   "display_name": "Python 3",
   "language": "python",
   "name": "python3"
  },
  "language_info": {
   "codemirror_mode": {
    "name": "ipython",
    "version": 3
   },
   "file_extension": ".py",
   "mimetype": "text/x-python",
   "name": "python",
   "nbconvert_exporter": "python",
   "pygments_lexer": "ipython3",
   "version": "3.8.5"
  },
  "toc": {
   "base_numbering": 1,
   "nav_menu": {},
   "number_sections": true,
   "sideBar": true,
   "skip_h1_title": false,
   "title_cell": "Table of Contents",
   "title_sidebar": "Contents",
   "toc_cell": false,
   "toc_position": {
    "height": "calc(100% - 180px)",
    "left": "10px",
    "top": "150px",
    "width": "362.667px"
   },
   "toc_section_display": true,
   "toc_window_display": true
  },
  "varInspector": {
   "cols": {
    "lenName": 16,
    "lenType": 16,
    "lenVar": 40
   },
   "kernels_config": {
    "python": {
     "delete_cmd_postfix": "",
     "delete_cmd_prefix": "del ",
     "library": "var_list.py",
     "varRefreshCmd": "print(var_dic_list())"
    },
    "r": {
     "delete_cmd_postfix": ") ",
     "delete_cmd_prefix": "rm(",
     "library": "var_list.r",
     "varRefreshCmd": "cat(var_dic_list()) "
    }
   },
   "types_to_exclude": [
    "module",
    "function",
    "builtin_function_or_method",
    "instance",
    "_Feature"
   ],
   "window_display": false
  }
 },
 "nbformat": 4,
 "nbformat_minor": 4
}
